{
 "cells": [
  {
   "cell_type": "code",
   "execution_count": null,
   "id": "c173a587",
   "metadata": {
    "scrolled": true
   },
   "outputs": [],
   "source": [
    "# Homework lecture 7-8\n",
    "\n",
    "# 1275. Find Winner on a Tic Tac Toe Game\n",
    "# https://leetcode.com/problems/find-winner-on-a-tic-tac-toe-game/\n",
    "\n",
    "# input    0      1      2      3      4\n",
    "moves = [[0,0], [2,0], [1,1], [2,1], [2,2]]\n",
    "\n",
    "moves = [[0,0], [2,0]]  # \"Pending\"\n",
    "\n",
    "# solution\n",
    "# print(moves[0])\n",
    "# print(moves[1])\n",
    "# print(moves[2])\n",
    "# print(moves[3])\n",
    "# print(moves[4])\n",
    "\n",
    "# print(moves[0][0])\n",
    "# print(moves[0][1])\n",
    "\n",
    "\n",
    "for i in range(len(moves)):\n",
    "    if i % 2 == 0:\n",
    "        print(\"A\", \"X\", moves[i])\n",
    "    else:\n",
    "        print(\"B\", \"O\", moves[i])"
   ]
  },
  {
   "cell_type": "code",
   "execution_count": null,
   "id": "db4a0b63",
   "metadata": {},
   "outputs": [],
   "source": [
    "#Lecture 11-12\n",
    "# 1. Richest Customer Wealth (LeetCode: 1672)\n",
    "# https://leetcode.com/problems/richest-customer-wealth/description/\n",
    "#input:\n",
    "#accounts = [[1,2,3],[3,2,1]]\n",
    "accounts = [[1,5],[7,3],[3,5]]\n",
    "\n",
    "#solution\n",
    "richest = 0\n",
    "for customer in accounts:\n",
    "    if sum(customer) > richest:\n",
    "      richest = sum(customer)\n",
    "print(richest)\n",
    "\n",
    "accounts = [[1, 2, 3], [3, 2, 1]]\n",
    "richest = 0\n",
    "for customer_accounts in accounts:\n",
    "    wealth = 0\n",
    "    for balance in customer_accounts:\n",
    "        wealth += balance\n",
    "    if wealth > richest:\n",
    "        richest = wealth\n",
    "output = richest"
   ]
  },
  {
   "cell_type": "code",
   "execution_count": null,
   "metadata": {},
   "outputs": [],
   "source": [
    "# 2. Number of Good Pairs (LeetCode: 1512)\n",
    "# https://leetcode.com/problems/number-of-good-pairs/description/\n",
    "nums = [1, 2, 3, 1, 1, 3]  # Example input\n",
    "count = 0 \n",
    "\n",
    "for i in range(len(nums)):\n",
    "    for j in range(i + 1, len(nums)):\n",
    "        if nums[i] == nums[j]:\n",
    "            count += 1\n",
    "\n",
    "print(count)"
   ]
  },
  {
   "cell_type": "code",
   "execution_count": null,
   "metadata": {},
   "outputs": [],
   "source": [
    "# 3. Check If Two String Arrays are Equivalent (LeetCode: 1662)\n",
    "# https://leetcode.com/problems/check-if-two-string-arrays-are-equivalent/description/\n",
    "\n",
    "#Input:\n",
    "# word1 = [\"ab\", \"c\"]\n",
    "# word2 = [\"a\", \"bc\"]\n",
    "word1 = [\"a\", \"cb\"]\n",
    "word2 = [\"ab\", \"c\"]\n",
    "\n",
    "#solution\n",
    "str1 = ''\n",
    "str2 = ''\n",
    "for el in word1:\n",
    "  str1 += el\n",
    "for el in word2:\n",
    "  str2 += el\n",
    "str1 == str2\n",
    "\n",
    "word1 = [\"ab\", \"c\"]\n",
    "word2 = [\"a\", \"bc\"]\n",
    "\n",
    "concatenated_word1 = \"\"\n",
    "for word in word1:\n",
    "    concatenated_word1 += word\n",
    "    \n",
    "concatenated_word2 = \"\"\n",
    "for word in word2:\n",
    "    concatenated_word2 += word\n",
    "\n",
    "are_same = concatenated_word1 == concatenated_word2\n",
    "print(are_same)"
   ]
  },
  {
   "cell_type": "code",
   "execution_count": null,
   "metadata": {},
   "outputs": [],
   "source": [
    "# 4. Pascal's Triangle (LeetCode: 118)\n",
    "# https://leetcode.com/problems/pascals-triangle/\n",
    "N=3\n",
    "T = []\n",
    "for i in range(N):\n",
    "  row = [1] * (i+1)\n",
    "  #print(row)\n",
    "  for j in range (i+1):\n",
    "      if j != 0 and j != i:\n",
    "        row[j] = T[i-1][j-1] + T[i-1][j]\n",
    "  T.append(row)\n",
    "print(T)\n",
    "\n",
    "numRows = 5\n",
    "triangle = []\n",
    "\n",
    "for i in range(numRows):\n",
    "    row = [1] * (i + 1)\n",
    "    if i > 1:\n",
    "        for j in range(1, i):\n",
    "            row[j] = triangle[i-1][j-1] + triangle[i-1][j]\n",
    "    triangle.append(row)\n",
    "\n",
    "print(triangle)"
   ]
  },
  {
   "cell_type": "code",
   "execution_count": null,
   "metadata": {},
   "outputs": [],
   "source": [
    "# 5. Pascal's Triangle II (LeetCode: 119)\n",
    "# https://leetcode.com/problems/pascals-triangle-ii/\n",
    "row_index = 3  \n",
    "\n",
    "row = [1]  \n",
    "for i in range(row_index):\n",
    "    next_row = [1]  # First element in each row is always 1\n",
    "    for j in range(len(row) - 1):\n",
    "        next_row.append(row[j] + row[j + 1])  # Calculate the sum of two elements above\n",
    "    next_row.append(1)  # Last element in each row is always 1\n",
    "    row = next_row  # Update the current row with the next row\n",
    "\n",
    "print(row)\n",
    "\n",
    "#input\n",
    "rowIndex = 5\n",
    "\n",
    "#solution\n",
    "N= rowIndex +1\n",
    "T = []\n",
    "for i in range(N):\n",
    "  row = [1] * (i+1)\n",
    "  #print(row)\n",
    "  for j in range (i+1):\n",
    "      if j != 0 and j != i:\n",
    "        row[j] = T[i-1][j-1] + T[i-1][j]\n",
    "  T.append(row)\n",
    "print(T[-1])"
   ]
  },
  {
   "cell_type": "code",
   "execution_count": null,
   "metadata": {},
   "outputs": [],
   "source": [
    "# 6. Valid Anagram (LeetCode: 242)\n",
    "# https://leetcode.com/problems/valid-anagram/description/\n",
    "#input\n",
    "# s = \"anagram\"\n",
    "# t = \"nagaram\"\n",
    "s = \"rat\"\n",
    "t = \"car\"\n",
    "#solution\n",
    "count = 0 #счетчик совпадений букв\n",
    "for letter in s:\n",
    "  if letter in t:\n",
    "    count += 1\n",
    "count == len(s) == len(t)"
   ]
  },
  {
   "cell_type": "code",
   "execution_count": null,
   "metadata": {},
   "outputs": [],
   "source": [
    "# 7. Find All Duplicates in an Array (LeetCode: 442)\n",
    "# https://leetcode.com/problems/find-all-duplicates-in-an-array/description/\n",
    "#Input:\n",
    "nums = [4, 3, 2, 7, 8, 2, 3, 1]\n",
    "#solution\n",
    "twice = []\n",
    "count = 0\n",
    "for number in nums:\n",
    "  if nums.count(number) == 2 and number not in twice:\n",
    "    twice.append(number)\n",
    "print(twice)"
   ]
  },
  {
   "cell_type": "code",
   "execution_count": null,
   "metadata": {},
   "outputs": [],
   "source": [
    "# 8. Check if All Characters Have Equal Number of Occurrences (LeetCode: 1941)\n",
    "# https://leetcode.com/problems/check-if-all-characters-have-equal-number-of-occurrences/\n",
    "# input\n",
    "s = \"abacbc\"\n",
    "# s = \"aaaddd\"\n",
    "\n",
    "# solution\n",
    "d = {}\n",
    "for symbol in s:\n",
    "    if symbol in d.keys():\n",
    "        d[symbol] += 1\n",
    "    else:\n",
    "        d[symbol] = 1\n",
    "print(d)\n",
    "\n",
    "# array = []\n",
    "# for key in d.keys():\n",
    "#     array.append(d[key])\n",
    "# print(array)\n",
    "\n",
    "# array = [d[key] for key in d.keys()]\n",
    "# print(array)\n",
    "\n",
    "# array = d.values()\n",
    "# print(array)\n",
    "\n",
    "print(len(set(d.values())) == 1)"
   ]
  },
  {
   "cell_type": "code",
   "execution_count": null,
   "metadata": {},
   "outputs": [],
   "source": [
    "from collections import Counter\n",
    "\n",
    "# input\n",
    "# s = \"abacbc\"\n",
    "s = \"aaadd\"\n",
    "\n",
    "# solution\n",
    "print(len(set(Counter(s).values())) == 1)"
   ]
  },
  {
   "cell_type": "code",
   "execution_count": null,
   "metadata": {},
   "outputs": [],
   "source": [
    "# 9. Check if the Sentence Is Pangram (LeetCode: 1832)\n",
    "# https://leetcode.com/problems/check-if-the-sentence-is-pangram/\n",
    "sentence = \"jwtucoucmdfwxxqnxzkaxoglszmfrcvjoiunqqausaxxaaijyqdqgvdnqcaihwilqkpivenpnekioyqujrdrovqrlxovcucjqzjsxmllfgndfprctxvxwlzjtciqxgsxfwhmuzqvlksyuztoetyjugmswfjtawwaqmwyxmvo\"\n",
    "alphabet = 'qwertyuiopasdfghjklzxcvbnm'\n",
    "\n",
    "# solution 1\n",
    "count = 0\n",
    "for symbol in alphabet:\n",
    "    if symbol in sentence:\n",
    "        count += 1\n",
    "print(count == 26)\n",
    "\n",
    "# solution 2\n",
    "answer = len([1 for symbol in alphabet if symbol in sentence])\n",
    "print(answer == 26)\n",
    "\n",
    "# solution 3\n",
    "print(len(set(sentence)) == 26)"
   ]
  },
  {
   "cell_type": "code",
   "execution_count": 1,
   "metadata": {},
   "outputs": [
    {
     "name": "stdout",
     "output_type": "stream",
     "text": [
      "[0, 1]\n",
      "[4, 5]\n",
      "\n",
      "[[0, 1], [4, 5]]\n",
      "num = 2\n",
      "diff = 7\n",
      "{2: 0}\n",
      "\n",
      "num = 11\n",
      "diff = -2\n",
      "{2: 0, 11: 1}\n",
      "\n",
      "num = 7\n",
      "diff = 2\n",
      "[0, 2]\n",
      "0 2\n",
      "1 7\n",
      "2 11\n",
      "\n",
      "0 2\n",
      "1 7\n",
      "2 11\n",
      "[0, 2]\n",
      "[0, 3]\n"
     ]
    }
   ],
   "source": [
    "# 10. Two Sum (LeetCode: 1)\n",
    "# https://leetcode.com/problems/two-sum/\n",
    "\n",
    "# input\n",
    "nums = [2, 7, 11, 15, 6, 3]\n",
    "target = 9\n",
    "\n",
    "# solution 1\n",
    "for i in range(len(nums)):\n",
    "    for j in range(i + 1, len(nums)):\n",
    "        if nums[i] + nums[j] == target:\n",
    "            print([i, j])\n",
    "\n",
    "print()\n",
    "# solution 2\n",
    "print([[i, j] for i in range(len(nums)) for j in range(i + 1, len(nums)) if nums[i] + nums[j] == target])\n",
    "\n",
    "# solution 3 (dictionary)\n",
    "# input\n",
    "nums = [2, 11, 7]\n",
    "target = 9\n",
    "\n",
    "# solution\n",
    "d = {} # num : index\n",
    "for i, num in enumerate(nums):\n",
    "    print(f\"num = {num}\")\n",
    "    diff = target - num\n",
    "    print(f\"diff = {diff}\")\n",
    "    \n",
    "    if diff in d:\n",
    "        print([d[diff], i])\n",
    "        break\n",
    "    \n",
    "    d[num] = i\n",
    "    print(d)\n",
    "    print()\n",
    "\n",
    "    nums = [2, 7, 11]\n",
    "\n",
    "# for num in nums:\n",
    "#     print(num)\n",
    "\n",
    "for i in range(len(nums)):\n",
    "    print(i, nums[i])\n",
    "\n",
    "print()\n",
    "for i, num in enumerate(nums):\n",
    "    print(i, num)\n",
    "\n",
    "\n",
    "    # input\n",
    "nums = [2, 11, 7]\n",
    "target = 9\n",
    "\n",
    "# input\n",
    "nums = [2, 11, 7]\n",
    "target = 9\n",
    "\n",
    "# solution\n",
    "for i in range(len(nums)):\n",
    "    for j in range(i + 1, len(nums)):\n",
    "        if nums[i] + nums[j] == target:\n",
    "            print([i, j])\n",
    "            break\n",
    "        \n",
    "# solution\n",
    "def two_sum(nums, target):\n",
    "    for i in range(len(nums)):\n",
    "        for j in range(i + 1, len(nums)):\n",
    "            if nums[i] + nums[j] == target:\n",
    "                return [i, j]\n",
    "\n",
    "nums_1 = [2, 11, 5, 7, 4]\n",
    "target_1 = 9\n",
    "print(two_sum(nums_1, target_1))\n",
    "# print(two_sum)"
   ]
  },
  {
   "cell_type": "code",
   "execution_count": 1,
   "metadata": {},
   "outputs": [
    {
     "name": "stdout",
     "output_type": "stream",
     "text": [
      "{3: 2, 2: 1}\n",
      "3\n",
      "3\n",
      "2\n",
      "3\n",
      "2\n"
     ]
    }
   ],
   "source": [
    "#Lecture 15-16\n",
    "# + 1. Majority Element (LeetCode: 169)\n",
    "# https://leetcode.com/problems/majority-element/\n",
    "# input\n",
    "nums = [3, 2, 3]\n",
    "\n",
    "# solution 1\n",
    "d = {}  # num : count\n",
    "for num in nums:\n",
    "    if num not in d:\n",
    "        d[num] = 0\n",
    "    d[num] += 1\n",
    "print(d)\n",
    "\n",
    "max_count = max(d.values())\n",
    "for key in d:\n",
    "    if d[key] == max_count:\n",
    "        print(key)\n",
    "        break\n",
    "\n",
    "    # input\n",
    "nums = [3, 2, 3]\n",
    "\n",
    "# solution 2\n",
    "sorted_num = sorted(nums)\n",
    "print(sorted_num[len(nums) // 2])\n",
    "\n",
    "# input\n",
    "nums = [2, 2, 1, 1, 1, 2, 2]\n",
    "\n",
    "# solution 3\n",
    "sorted_num = sorted(nums)\n",
    "print(sorted_num[len(nums) // 2])\n",
    "\n",
    "# solution 4\n",
    "def get_majority_element(nums):\n",
    "    sorted_num = sorted(nums)\n",
    "    return sorted_num[len(nums) // 2]\n",
    "\n",
    "nums_1 = [3, 2, 3]\n",
    "print(get_majority_element(nums_1))\n",
    "\n",
    "nums_2 = [2, 2, 1, 1, 1, 2, 2]\n",
    "print(get_majority_element(nums_2))"
   ]
  },
  {
   "cell_type": "code",
   "execution_count": null,
   "metadata": {},
   "outputs": [],
   "source": [
    "# 2. Keyboard Row (LeetCode: 500)\n",
    "# https://leetcode.com/problems/keyboard-row/description/\n",
    "#input\n",
    "words = ['Hello', 'Alaska', 'Dad', 'Peace']\n",
    "#solution\n",
    "def keyboard_row(words):\n",
    "  slova = []\n",
    "  for word in words:\n",
    "    row1 = {'q': 0, 'w': 0, 'e': 0, 'r': 0, 't': 0, 'y': 0, 'u': 0, 'i': 0, 'o': 0, 'p': 0}\n",
    "    row2 = {'a': 0, 's': 0, 'd': 0, 'f': 0, 'g': 0, 'h': 0, 'j': 0, 'k': 0, 'l': 0}\n",
    "    row3 = {'z': 0, 'x': 0, 'c': 0, 'v': 0, 'b': 0, 'n': 0, 'm': 0}\n",
    "\n",
    "    for letter in word.lower():\n",
    "      if letter in row1:\n",
    "        row1[letter] = 1\n",
    "        continue\n",
    "      if letter in row2:\n",
    "        row2[letter] = 1\n",
    "        continue\n",
    "      if letter in row3:\n",
    "        row3[letter] = 1\n",
    "        continue\n",
    "\n",
    "    my_list = [sum(row1.values()), sum(row2.values()), sum(row3.values())]\n",
    "    if sorted(my_list)[1] == 0:\n",
    "      slova.append(word)\n",
    "  return slova\n",
    "words = ['Hello', 'Alaska', 'Dad', 'Peace']\n",
    "print(keyboard_row(words))"
   ]
  },
  {
   "cell_type": "code",
   "execution_count": null,
   "metadata": {},
   "outputs": [],
   "source": [
    "# 3. Sum of Unique Elements (LeetCode: 1748)\n",
    "# https://leetcode.com/problems/sum-of-unique-elements/\n",
    "#input\n",
    "#nums = [1,2,3,2]\n",
    "nums = [1,1,1,1,1]\n",
    "#solution\n",
    "def sum_of_unique_elements (nums):\n",
    "  uniq = {}\n",
    "\n",
    "  for num in nums:\n",
    "    if num not in uniq:\n",
    "      uniq[num] = 1\n",
    "    else:\n",
    "      uniq[num] += 1\n",
    "\n",
    "  return sum([key for key in uniq if uniq[key] == 1])\n",
    "\n",
    "#input\n",
    "nums2 = [1,2,3,4,5]\n",
    "print(sum_of_unique_elements(nums2))"
   ]
  },
  {
   "cell_type": "code",
   "execution_count": null,
   "metadata": {},
   "outputs": [],
   "source": [
    "# 4. Rings and Rods (LeetCode: 2103)\n",
    "# https://leetcode.com/problems/rings-and-rods/description/\n",
    "#input\n",
    "rings = \"B0B6G0R6R0R6G9\"\n",
    "#solution\n",
    "def rings_and_rods (rings):\n",
    "  d = {}\n",
    "  for i, j in enumerate(rings):\n",
    "    if i % 2 != 0:\n",
    "      if j not in d:\n",
    "        d[j] = set(rings[i-1])\n",
    "      else:\n",
    "        d[j].add(rings[i-1])\n",
    "\n",
    "  return len([key for key in d if len(d[key]) == 3])\n",
    "\n",
    "#input\n",
    "rings2 = \"G4\"\n",
    "print(rings_and_rods(rings2))"
   ]
  },
  {
   "cell_type": "code",
   "execution_count": null,
   "metadata": {},
   "outputs": [],
   "source": [
    "# 5. Two Out of Three (LeetCode: 2032)\n",
    "# https://leetcode.com/problems/two-out-of-three/\n",
    "#input\n",
    "nums1 = [1,2,2]\n",
    "nums2 = [4,3,3]\n",
    "nums3 = [5]\n",
    "# nums1 = [1, 2, 2]\n",
    "# nums2 = [4, 3, 3]\n",
    "# nums3 = [5]\n",
    "#solution\n",
    "def two_out_of_three(nums1, nums2, nums3):\n",
    "  all_nums = []\n",
    "  for num in set(nums1):\n",
    "    all_nums.append(num)\n",
    "  for num in set(nums2):\n",
    "    all_nums.append(num)\n",
    "  for num in set(nums3):\n",
    "    all_nums.append(num)\n",
    "\n",
    "\n",
    "  d = {}\n",
    "\n",
    "  for num in all_nums:\n",
    "    if num not in d:\n",
    "      d[num] = 1\n",
    "    else:\n",
    "      d[num] += 1\n",
    "      print(d)\n",
    "  answer = []\n",
    "\n",
    "  for i, j in enumerate(d.values()):\n",
    "    if j > 1:\n",
    "      answer.append(list(d.keys())[i])\n",
    "  return answer\n",
    "\n",
    "nums1 = [1,2,2]\n",
    "nums2 = [4,3,3]\n",
    "nums3 = [5]\n",
    "print(two_out_of_three((nums1), (nums2), (nums3)))"
   ]
  },
  {
   "cell_type": "code",
   "execution_count": null,
   "metadata": {},
   "outputs": [],
   "source": [
    "# 6. Percentage of Letter in String (LeetCode: 2278)\n",
    "# https://leetcode.com/problems/percentage-of-letter-in-string/description/\n",
    "#input\n",
    "s = \"foobar\"\n",
    "letter = \"o\"\n",
    "#solution\n",
    "def percentage_of_letter_in_string(s, letter):\n",
    "  import math\n",
    "  return math.floor(s.count(letter) / len(s) * 100)\n",
    "# s = \"foobar\"\n",
    "# letter = \"o\"\n",
    "s = \"jjjjj\"\n",
    "letter = \"k\"\n",
    "print(percentage_of_letter_in_string(s, letter))"
   ]
  },
  {
   "cell_type": "code",
   "execution_count": null,
   "metadata": {},
   "outputs": [],
   "source": [
    "# 7. Uncommon Words from Two Sentences (LeetCode: 884)\n",
    "# https://leetcode.com/problems/uncommon-words-from-two-sentences/description/\n",
    "#input\n",
    "s1 = \"this apple is sweet\"\n",
    "s2 = \"this apple is sour\"\n",
    "#solution\n",
    "def uncommon_words(s1,s2):\n",
    "  words = []\n",
    "  s1_list = s1.split()\n",
    "  s2_list = s2.split()\n",
    "  for word in s1_list:\n",
    "    if word not in s2_list and s1_list.count(word) == 1:\n",
    "        words.append(word)\n",
    "  for word in s2_list:\n",
    "    if word not in s1_list and s2_list.count(word) == 1:\n",
    "        words.append(word)\n",
    "  return words\n",
    "\n",
    "s1 = \"apple apple\"\n",
    "s2 = \"banana\"\n",
    "print(uncommon_words(s1, s2))"
   ]
  },
  {
   "cell_type": "code",
   "execution_count": null,
   "metadata": {},
   "outputs": [],
   "source": [
    "# 8. Find the Difference (LeetCode: 389)\n",
    "# https://leetcode.com/problems/find-the-difference/description/\n",
    "#input\n",
    "s = \"abcd\"\n",
    "t = \"abcde\"\n",
    "#solution\n",
    "def find_the_difference(s, t):\n",
    "  return [letter for letter in t if letter not in s]\n",
    "s = \"\"\n",
    "t = \"y\"\n",
    "print(find_the_difference(s, t))"
   ]
  },
  {
   "cell_type": "code",
   "execution_count": null,
   "metadata": {},
   "outputs": [],
   "source": [
    "# 9. Maximum Number of Words You Can Type (LeetCode: 1935)\n",
    "# https://leetcode.com/problems/maximum-number-of-words-you-can-type/\n",
    "#input\n",
    "text = \"hello world\"\n",
    "brokenLetters = \"ad\"\n",
    "\n",
    "\n",
    "def words_to_type(text, brokenLetters):\n",
    "  broken_list = [letter for letter in brokenLetters]\n",
    "\n",
    "  count = 0\n",
    "  for word in text:\n",
    "    for letter in word:\n",
    "      if letter in broken_list:\n",
    "        count += 1\n",
    "      break\n",
    "  return count\n",
    "\n",
    "print(words_to_type(text, brokenLetters))"
   ]
  },
  {
   "cell_type": "code",
   "execution_count": null,
   "metadata": {},
   "outputs": [],
   "source": [
    "# 10. Repeated DNA Sequences (LeetCode: 187)\n",
    "# https://leetcode.com/problems/repeated-dna-sequences/description/\n",
    "#Input\n",
    "\n",
    "s = \"AAAAACCCCCAAAAACCCCCCAAAAAGGGTTT\"\n",
    "\n",
    "#solution\n",
    "def repeated_dna_sequences(s):\n",
    "  d = {}\n",
    "  for i in range(len(s)-9):\n",
    "      if s[i:i+10] not in d:\n",
    "        d[s[i:i+10]] = 0\n",
    "      else:\n",
    "        d[s[i:i+10]] += 1\n",
    "  return [key for key in d if d[key] > 0]\n",
    "\n",
    "s = \"AAAAAAAAAAAAA\"\n",
    "print(repeated_dna_sequences(s))"
   ]
  },
  {
   "cell_type": "markdown",
   "metadata": {},
   "source": [
    "#Lecture 17-18\n",
    "1. N-th Tribonacci Number\n",
    "\n",
    "The Tribonacci sequence T_n is defined as follows: \n",
    "\n",
    "T(0) = 0, T(1) = 1, T(2) = 1, and T(n+3) = T(n) + T(n + 1) + T(n + 2) for n >= 0.\n",
    "\n",
    "Given n, return the value of T(n)."
   ]
  },
  {
   "cell_type": "code",
   "execution_count": 2,
   "metadata": {},
   "outputs": [],
   "source": [
    "def tribonacci(n: int) -> int:\n",
    "    if n == 0:\n",
    "        return 0\n",
    "    elif n == 1 or n == 2:\n",
    "        return 1\n",
    "    else:\n",
    "        a, b, c = 0, 1, 1\n",
    "        for i in range (3, n + 1):\n",
    "            a, b, c = b, c, a + b + c\n",
    "        return c\n",
    "    \n",
    "def tribonacci(n: int) -> int:\n",
    "    pass"
   ]
  },
  {
   "cell_type": "markdown",
   "metadata": {},
   "source": [
    "2. Two sum\n",
    "\n",
    "Given an array of integers <i>nums</i> and an integer <i>target</i>, return indices of the two numbers such that they add up to <i>target</i>.\n",
    "\n",
    "You may assume that each input would have exactly one solution, and you may not use the same element twice.\n",
    "\n",
    "You can return the answer in any order.\n",
    "\n",
    "Example 1:\n",
    "> Input: nums = [2,7,11,15], target = 9 &#8658; Output: [0,1]\n",
    "\n",
    "> Explanation: Because nums[0] + nums[1] == 9, we return [0, 1].\n",
    "\n",
    "Example 2:\n",
    "> Input: nums = [3,2,4], target = 6 &#8658; Output: [1,2]\n",
    "\n",
    "Example 3:\n",
    "> Input: nums = [3,3], target = 6 &#8658; Output: [0,1]\n",
    "\n"
   ]
  },
  {
   "cell_type": "code",
   "execution_count": 4,
   "metadata": {},
   "outputs": [],
   "source": [
    "from typing import List\n",
    "\n",
    "def twoSum(self, nums: List[int], target: int) -> List[int]:\n",
    "        numMap = {}\n",
    "        n = len(nums)\n",
    "\n",
    "        for i in range(n):\n",
    "            complement = target - nums[i]\n",
    "            if complement in numMap:\n",
    "                return [numMap[complement], i]\n",
    "            numMap[nums[i]] = i\n",
    "\n",
    "        return []"
   ]
  },
  {
   "cell_type": "markdown",
   "metadata": {},
   "source": [
    "##### 3. Find Winner on a Tic Tac Toe Game\n",
    "\n",
    "Tic-tac-toe is played by two players <i>A</i> and <i>B</i> on a 3 x 3 grid. The rules of Tic-Tac-Toe are:\n",
    "\n",
    "> Players take turns placing characters into empty squares ' '.\n",
    "\n",
    "> The first player <i>A</i> always places 'X' characters, while the second player <i>B</i> always places 'O' characters. 'X' and 'O' characters are always placed into empty squares, never on filled ones.\n",
    "\n",
    "> The game ends when there are three of the same (non-empty) character filling any row, column, or diagonal. \n",
    "\n",
    "> The game also ends if all squares are non-empty.\n",
    "\n",
    "> No more moves can be played if the game is over. \n",
    "\n",
    "\n",
    "Given a 2D integer array <i>moves</i> where <i>moves[i] = [row_i, col_i]</i> indicates that the <i>ith</i> move will be played on <i>grid[rowi][coli]</i>. \n",
    "\n",
    "Return the winner of the game if it exists (<i>A</i> or <i>B</i>). In case the game ends in a draw return \"Draw\". If there are still movements to play return \"Pending\".\n",
    "\n",
    "You can assume that <i>moves</i> is valid (i.e., it follows the rules of Tic-Tac-Toe), the grid is initially empty, and <i>A</i> will play first.\n",
    "\n",
    "Example 1:\n",
    "> Input: moves = [[0,0],[2,0],[1,1],[2,1],[2,2]]  &#8658;  Output: \"A\"\n",
    "\n",
    "Example 2:\n",
    "> Input: moves = [[0,0],[1,1],[0,1],[0,2],[1,0],[2,0]] &#8658; Output: \"B\"\n",
    "\n",
    "Example 3:\n",
    "> Input: moves = [[0,0],[1,1],[2,0],[1,0],[1,2],[2,1],[0,1],[0,2],[2,2]]  &#8658; Output: \"Draw\"\n",
    "\n",
    "> Explanation: The game ends in a draw since there are no moves to make.\n",
    "\n",
    "Example 4:\n",
    "> Input: moves = [[0,0],[1,1]]  &#8658; Output: \"Pending\"\n",
    "\n",
    "> Explanation: The game has not finished yet."
   ]
  },
  {
   "cell_type": "code",
   "execution_count": 6,
   "metadata": {},
   "outputs": [],
   "source": [
    "def tictactoe(moves: List[List[int]]) -> str:\n",
    "    grid = [[' ' for _ in range(3)] for _ in range(3)]\n",
    "    player = 'A'\n",
    "    \n",
    "    for move in moves:\n",
    "        row, col = move[0], move[1]\n",
    "        grid[row][col] = player\n",
    "        \n",
    "        if check_winner(grid, player):\n",
    "            return player\n",
    "        \n",
    "        player = 'B' if player == 'A' else 'A'\n",
    "    \n",
    "    if len(moves) == 9:\n",
    "        return \"Draw\"\n",
    "    \n",
    "    return \"Pending\"\n",
    "\n",
    "def check_winner(grid, player):\n",
    "    # Check rows\n",
    "    for row in grid:\n",
    "        if row[0] == row[1] == row[2] == player:\n",
    "            return True\n",
    "    \n",
    "    # Check columns\n",
    "    for col in range(3):\n",
    "        if grid[0][col] == grid[1][col] == grid[2][col] == player:\n",
    "            return True\n",
    "    \n",
    "    # Check diagonals\n",
    "    if grid[0][0] == grid[1][1] == grid[2][2] == player:\n",
    "        return True\n",
    "    \n",
    "    if grid[0][2] == grid[1][1] == grid[2][0] == player:\n",
    "        return True\n",
    "    \n",
    "    return False"
   ]
  },
  {
   "cell_type": "code",
   "execution_count": null,
   "metadata": {},
   "outputs": [],
   "source": [
    "#Lecture 19-20\n",
    "# 6. Apply Operations to an Array (LeetCode: 2460)\n",
    "# https://leetcode.com/problems/apply-operations-to-an-array/\n",
    "def opertaion(nums):  # time: O(n * log(n))\n",
    "    \n",
    "    for i in range(len(nums) - 1):\n",
    "        if nums[i] == nums[i + 1]:\n",
    "            nums[i] = nums[i] * 2\n",
    "            nums[i + 1] = 0\n",
    "    \n",
    "    nums.sort(key=lambda x: x == 0)\n",
    "    return nums\n",
    "\n",
    "nums = [1, 2, 2, 1, 1, 0]\n",
    "print(opertaion(nums))\n",
    "\n",
    "#input\n",
    "#nums = [1, 2, 2, 1, 1, 0]\n",
    " \n",
    "def apply_operations(nums: List[int]) -> List[int]:\n",
    "    for i in range(len(nums) -1):\n",
    "        if nums[i] == nums[i + 1]: \n",
    "            nums[i] = nums[i] * 2\n",
    "            nums[i + 1] = 0\n",
    "        else:\n",
    "            continue\n",
    "    for num in nums:\n",
    "        if num == 0:\n",
    "            nums.remove(num)\n",
    "            nums.append(num)\n",
    "    return nums\n",
    "\n",
    "nums = [1, 2, 2, 1, 1, 0]\n",
    "print(apply_operations(nums))"
   ]
  },
  {
   "cell_type": "code",
   "execution_count": null,
   "metadata": {},
   "outputs": [],
   "source": [
    "# 7. Baseball Game (LeetCode: 682)\n",
    "# https://leetcode.com/problems/baseball-game/\n",
    "#ops = ['5', '2', 'C', 'D', '+']\n",
    "#ops = ['5', '-2', '4', 'C', 'D', '9' ,'+', '+']\n",
    "from typing import List\n",
    "def baseball_game(ops: List[str]) -> int:\n",
    "    score = []\n",
    "    for op in ops:\n",
    "        if op == '+':\n",
    "            score.append(score[-1] + score[-2])\n",
    "        elif op == 'D':\n",
    "            score.append(score[-1] * 2)\n",
    "        elif op == 'C':\n",
    "            score.pop()\n",
    "        else:\n",
    "            score.append(int(op))\n",
    "    return sum(score)\n",
    "ops = ['5', '-2', '4', 'C', 'D', '9' ,'+', '+']\n",
    "print(baseball_game(ops))"
   ]
  },
  {
   "cell_type": "markdown",
   "metadata": {},
   "source": [
    "# Homework\n",
    "\n",
    "Найти датасет открытый и проанализовать данные из него."
   ]
  },
  {
   "cell_type": "code",
   "execution_count": 20,
   "metadata": {},
   "outputs": [],
   "source": [
    "#Lecture 21-22\n",
    "import warnings\n",
    "\n",
    "warnings.filterwarnings(\"ignore\")"
   ]
  },
  {
   "cell_type": "code",
   "execution_count": 18,
   "metadata": {},
   "outputs": [],
   "source": [
    "import pandas as pd\n",
    "import numpy as np\n",
    "import matplotlib.pyplot as plt\n",
    "\n",
    "%matplotlib inline"
   ]
  },
  {
   "cell_type": "code",
   "execution_count": 19,
   "metadata": {},
   "outputs": [],
   "source": [
    "df_csv = pd.read_csv('C:/Users/nasty/Desktop/Магистратура/python/international-migration-september-2023-citizenship-by-visa-by-country-of-last-permanent-residence.csv')\n"
   ]
  },
  {
   "cell_type": "code",
   "execution_count": 12,
   "metadata": {},
   "outputs": [
    {
     "data": {
      "text/html": [
       "<div>\n",
       "<style scoped>\n",
       "    .dataframe tbody tr th:only-of-type {\n",
       "        vertical-align: middle;\n",
       "    }\n",
       "\n",
       "    .dataframe tbody tr th {\n",
       "        vertical-align: top;\n",
       "    }\n",
       "\n",
       "    .dataframe thead th {\n",
       "        text-align: right;\n",
       "    }\n",
       "</style>\n",
       "<table border=\"1\" class=\"dataframe\">\n",
       "  <thead>\n",
       "    <tr style=\"text-align: right;\">\n",
       "      <th></th>\n",
       "      <th>year_month</th>\n",
       "      <th>month_of_release</th>\n",
       "      <th>passenger_type</th>\n",
       "      <th>direction</th>\n",
       "      <th>citizenship</th>\n",
       "      <th>visa</th>\n",
       "      <th>country_of_residence</th>\n",
       "      <th>estimate</th>\n",
       "      <th>standard_error</th>\n",
       "      <th>status</th>\n",
       "    </tr>\n",
       "  </thead>\n",
       "  <tbody>\n",
       "    <tr>\n",
       "      <th>0</th>\n",
       "      <td>2001-09</td>\n",
       "      <td>2020-09</td>\n",
       "      <td>Long-term migrant</td>\n",
       "      <td>Arrivals</td>\n",
       "      <td>NZ</td>\n",
       "      <td>NZ and Australian citizens</td>\n",
       "      <td>Afghanistan</td>\n",
       "      <td>1</td>\n",
       "      <td>0</td>\n",
       "      <td>Final</td>\n",
       "    </tr>\n",
       "    <tr>\n",
       "      <th>1</th>\n",
       "      <td>2002-03</td>\n",
       "      <td>2020-09</td>\n",
       "      <td>Long-term migrant</td>\n",
       "      <td>Arrivals</td>\n",
       "      <td>NZ</td>\n",
       "      <td>NZ and Australian citizens</td>\n",
       "      <td>Afghanistan</td>\n",
       "      <td>3</td>\n",
       "      <td>0</td>\n",
       "      <td>Final</td>\n",
       "    </tr>\n",
       "    <tr>\n",
       "      <th>2</th>\n",
       "      <td>2005-01</td>\n",
       "      <td>2020-09</td>\n",
       "      <td>Long-term migrant</td>\n",
       "      <td>Arrivals</td>\n",
       "      <td>NZ</td>\n",
       "      <td>NZ and Australian citizens</td>\n",
       "      <td>Afghanistan</td>\n",
       "      <td>5</td>\n",
       "      <td>0</td>\n",
       "      <td>Final</td>\n",
       "    </tr>\n",
       "    <tr>\n",
       "      <th>3</th>\n",
       "      <td>2005-04</td>\n",
       "      <td>2020-09</td>\n",
       "      <td>Long-term migrant</td>\n",
       "      <td>Arrivals</td>\n",
       "      <td>NZ</td>\n",
       "      <td>NZ and Australian citizens</td>\n",
       "      <td>Afghanistan</td>\n",
       "      <td>1</td>\n",
       "      <td>0</td>\n",
       "      <td>Final</td>\n",
       "    </tr>\n",
       "    <tr>\n",
       "      <th>4</th>\n",
       "      <td>2005-07</td>\n",
       "      <td>2020-09</td>\n",
       "      <td>Long-term migrant</td>\n",
       "      <td>Arrivals</td>\n",
       "      <td>NZ</td>\n",
       "      <td>NZ and Australian citizens</td>\n",
       "      <td>Afghanistan</td>\n",
       "      <td>1</td>\n",
       "      <td>0</td>\n",
       "      <td>Final</td>\n",
       "    </tr>\n",
       "  </tbody>\n",
       "</table>\n",
       "</div>"
      ],
      "text/plain": [
       "  year_month month_of_release     passenger_type direction citizenship  \\\n",
       "0    2001-09          2020-09  Long-term migrant  Arrivals          NZ   \n",
       "1    2002-03          2020-09  Long-term migrant  Arrivals          NZ   \n",
       "2    2005-01          2020-09  Long-term migrant  Arrivals          NZ   \n",
       "3    2005-04          2020-09  Long-term migrant  Arrivals          NZ   \n",
       "4    2005-07          2020-09  Long-term migrant  Arrivals          NZ   \n",
       "\n",
       "                         visa country_of_residence  estimate  standard_error  \\\n",
       "0  NZ and Australian citizens          Afghanistan         1               0   \n",
       "1  NZ and Australian citizens          Afghanistan         3               0   \n",
       "2  NZ and Australian citizens          Afghanistan         5               0   \n",
       "3  NZ and Australian citizens          Afghanistan         1               0   \n",
       "4  NZ and Australian citizens          Afghanistan         1               0   \n",
       "\n",
       "  status  \n",
       "0  Final  \n",
       "1  Final  \n",
       "2  Final  \n",
       "3  Final  \n",
       "4  Final  "
      ]
     },
     "execution_count": 12,
     "metadata": {},
     "output_type": "execute_result"
    }
   ],
   "source": [
    "df_csv.head()"
   ]
  },
  {
   "cell_type": "code",
   "execution_count": 13,
   "metadata": {},
   "outputs": [
    {
     "data": {
      "text/html": [
       "<div>\n",
       "<style scoped>\n",
       "    .dataframe tbody tr th:only-of-type {\n",
       "        vertical-align: middle;\n",
       "    }\n",
       "\n",
       "    .dataframe tbody tr th {\n",
       "        vertical-align: top;\n",
       "    }\n",
       "\n",
       "    .dataframe thead th {\n",
       "        text-align: right;\n",
       "    }\n",
       "</style>\n",
       "<table border=\"1\" class=\"dataframe\">\n",
       "  <thead>\n",
       "    <tr style=\"text-align: right;\">\n",
       "      <th></th>\n",
       "      <th>year_month</th>\n",
       "      <th>month_of_release</th>\n",
       "      <th>passenger_type</th>\n",
       "      <th>direction</th>\n",
       "      <th>citizenship</th>\n",
       "      <th>visa</th>\n",
       "      <th>country_of_residence</th>\n",
       "      <th>estimate</th>\n",
       "      <th>standard_error</th>\n",
       "      <th>status</th>\n",
       "    </tr>\n",
       "  </thead>\n",
       "  <tbody>\n",
       "    <tr>\n",
       "      <th>324030</th>\n",
       "      <td>2023-05</td>\n",
       "      <td>2023-09</td>\n",
       "      <td>Long-term migrant</td>\n",
       "      <td>Arrivals</td>\n",
       "      <td>non-NZ</td>\n",
       "      <td>Work</td>\n",
       "      <td>Zimbabwe</td>\n",
       "      <td>25</td>\n",
       "      <td>2</td>\n",
       "      <td>Provisional</td>\n",
       "    </tr>\n",
       "    <tr>\n",
       "      <th>324031</th>\n",
       "      <td>2023-06</td>\n",
       "      <td>2023-09</td>\n",
       "      <td>Long-term migrant</td>\n",
       "      <td>Arrivals</td>\n",
       "      <td>non-NZ</td>\n",
       "      <td>Work</td>\n",
       "      <td>Zimbabwe</td>\n",
       "      <td>27</td>\n",
       "      <td>2</td>\n",
       "      <td>Provisional</td>\n",
       "    </tr>\n",
       "    <tr>\n",
       "      <th>324032</th>\n",
       "      <td>2023-07</td>\n",
       "      <td>2023-09</td>\n",
       "      <td>Long-term migrant</td>\n",
       "      <td>Arrivals</td>\n",
       "      <td>non-NZ</td>\n",
       "      <td>Work</td>\n",
       "      <td>Zimbabwe</td>\n",
       "      <td>24</td>\n",
       "      <td>3</td>\n",
       "      <td>Provisional</td>\n",
       "    </tr>\n",
       "    <tr>\n",
       "      <th>324033</th>\n",
       "      <td>2023-08</td>\n",
       "      <td>2023-09</td>\n",
       "      <td>Long-term migrant</td>\n",
       "      <td>Arrivals</td>\n",
       "      <td>non-NZ</td>\n",
       "      <td>Work</td>\n",
       "      <td>Zimbabwe</td>\n",
       "      <td>36</td>\n",
       "      <td>4</td>\n",
       "      <td>Provisional</td>\n",
       "    </tr>\n",
       "    <tr>\n",
       "      <th>324034</th>\n",
       "      <td>2023-09</td>\n",
       "      <td>2023-09</td>\n",
       "      <td>Long-term migrant</td>\n",
       "      <td>Arrivals</td>\n",
       "      <td>non-NZ</td>\n",
       "      <td>Work</td>\n",
       "      <td>Zimbabwe</td>\n",
       "      <td>27</td>\n",
       "      <td>3</td>\n",
       "      <td>Provisional</td>\n",
       "    </tr>\n",
       "  </tbody>\n",
       "</table>\n",
       "</div>"
      ],
      "text/plain": [
       "       year_month month_of_release     passenger_type direction citizenship  \\\n",
       "324030    2023-05          2023-09  Long-term migrant  Arrivals      non-NZ   \n",
       "324031    2023-06          2023-09  Long-term migrant  Arrivals      non-NZ   \n",
       "324032    2023-07          2023-09  Long-term migrant  Arrivals      non-NZ   \n",
       "324033    2023-08          2023-09  Long-term migrant  Arrivals      non-NZ   \n",
       "324034    2023-09          2023-09  Long-term migrant  Arrivals      non-NZ   \n",
       "\n",
       "        visa country_of_residence  estimate  standard_error       status  \n",
       "324030  Work             Zimbabwe        25               2  Provisional  \n",
       "324031  Work             Zimbabwe        27               2  Provisional  \n",
       "324032  Work             Zimbabwe        24               3  Provisional  \n",
       "324033  Work             Zimbabwe        36               4  Provisional  \n",
       "324034  Work             Zimbabwe        27               3  Provisional  "
      ]
     },
     "execution_count": 13,
     "metadata": {},
     "output_type": "execute_result"
    }
   ],
   "source": [
    "df_csv.tail()"
   ]
  },
  {
   "cell_type": "code",
   "execution_count": 14,
   "metadata": {},
   "outputs": [
    {
     "data": {
      "text/html": [
       "<div>\n",
       "<style scoped>\n",
       "    .dataframe tbody tr th:only-of-type {\n",
       "        vertical-align: middle;\n",
       "    }\n",
       "\n",
       "    .dataframe tbody tr th {\n",
       "        vertical-align: top;\n",
       "    }\n",
       "\n",
       "    .dataframe thead th {\n",
       "        text-align: right;\n",
       "    }\n",
       "</style>\n",
       "<table border=\"1\" class=\"dataframe\">\n",
       "  <thead>\n",
       "    <tr style=\"text-align: right;\">\n",
       "      <th></th>\n",
       "      <th>year_month</th>\n",
       "      <th>month_of_release</th>\n",
       "      <th>passenger_type</th>\n",
       "      <th>direction</th>\n",
       "      <th>citizenship</th>\n",
       "      <th>visa</th>\n",
       "      <th>country_of_residence</th>\n",
       "      <th>estimate</th>\n",
       "      <th>standard_error</th>\n",
       "      <th>status</th>\n",
       "    </tr>\n",
       "  </thead>\n",
       "  <tbody>\n",
       "    <tr>\n",
       "      <th>0</th>\n",
       "      <td>2001-09</td>\n",
       "      <td>2020-09</td>\n",
       "      <td>Long-term migrant</td>\n",
       "      <td>Arrivals</td>\n",
       "      <td>NZ</td>\n",
       "      <td>NZ and Australian citizens</td>\n",
       "      <td>Afghanistan</td>\n",
       "      <td>1</td>\n",
       "      <td>0</td>\n",
       "      <td>Final</td>\n",
       "    </tr>\n",
       "    <tr>\n",
       "      <th>1</th>\n",
       "      <td>2002-03</td>\n",
       "      <td>2020-09</td>\n",
       "      <td>Long-term migrant</td>\n",
       "      <td>Arrivals</td>\n",
       "      <td>NZ</td>\n",
       "      <td>NZ and Australian citizens</td>\n",
       "      <td>Afghanistan</td>\n",
       "      <td>3</td>\n",
       "      <td>0</td>\n",
       "      <td>Final</td>\n",
       "    </tr>\n",
       "    <tr>\n",
       "      <th>2</th>\n",
       "      <td>2005-01</td>\n",
       "      <td>2020-09</td>\n",
       "      <td>Long-term migrant</td>\n",
       "      <td>Arrivals</td>\n",
       "      <td>NZ</td>\n",
       "      <td>NZ and Australian citizens</td>\n",
       "      <td>Afghanistan</td>\n",
       "      <td>5</td>\n",
       "      <td>0</td>\n",
       "      <td>Final</td>\n",
       "    </tr>\n",
       "    <tr>\n",
       "      <th>3</th>\n",
       "      <td>2005-04</td>\n",
       "      <td>2020-09</td>\n",
       "      <td>Long-term migrant</td>\n",
       "      <td>Arrivals</td>\n",
       "      <td>NZ</td>\n",
       "      <td>NZ and Australian citizens</td>\n",
       "      <td>Afghanistan</td>\n",
       "      <td>1</td>\n",
       "      <td>0</td>\n",
       "      <td>Final</td>\n",
       "    </tr>\n",
       "    <tr>\n",
       "      <th>4</th>\n",
       "      <td>2005-07</td>\n",
       "      <td>2020-09</td>\n",
       "      <td>Long-term migrant</td>\n",
       "      <td>Arrivals</td>\n",
       "      <td>NZ</td>\n",
       "      <td>NZ and Australian citizens</td>\n",
       "      <td>Afghanistan</td>\n",
       "      <td>1</td>\n",
       "      <td>0</td>\n",
       "      <td>Final</td>\n",
       "    </tr>\n",
       "    <tr>\n",
       "      <th>...</th>\n",
       "      <td>...</td>\n",
       "      <td>...</td>\n",
       "      <td>...</td>\n",
       "      <td>...</td>\n",
       "      <td>...</td>\n",
       "      <td>...</td>\n",
       "      <td>...</td>\n",
       "      <td>...</td>\n",
       "      <td>...</td>\n",
       "      <td>...</td>\n",
       "    </tr>\n",
       "    <tr>\n",
       "      <th>324030</th>\n",
       "      <td>2023-05</td>\n",
       "      <td>2023-09</td>\n",
       "      <td>Long-term migrant</td>\n",
       "      <td>Arrivals</td>\n",
       "      <td>non-NZ</td>\n",
       "      <td>Work</td>\n",
       "      <td>Zimbabwe</td>\n",
       "      <td>25</td>\n",
       "      <td>2</td>\n",
       "      <td>Provisional</td>\n",
       "    </tr>\n",
       "    <tr>\n",
       "      <th>324031</th>\n",
       "      <td>2023-06</td>\n",
       "      <td>2023-09</td>\n",
       "      <td>Long-term migrant</td>\n",
       "      <td>Arrivals</td>\n",
       "      <td>non-NZ</td>\n",
       "      <td>Work</td>\n",
       "      <td>Zimbabwe</td>\n",
       "      <td>27</td>\n",
       "      <td>2</td>\n",
       "      <td>Provisional</td>\n",
       "    </tr>\n",
       "    <tr>\n",
       "      <th>324032</th>\n",
       "      <td>2023-07</td>\n",
       "      <td>2023-09</td>\n",
       "      <td>Long-term migrant</td>\n",
       "      <td>Arrivals</td>\n",
       "      <td>non-NZ</td>\n",
       "      <td>Work</td>\n",
       "      <td>Zimbabwe</td>\n",
       "      <td>24</td>\n",
       "      <td>3</td>\n",
       "      <td>Provisional</td>\n",
       "    </tr>\n",
       "    <tr>\n",
       "      <th>324033</th>\n",
       "      <td>2023-08</td>\n",
       "      <td>2023-09</td>\n",
       "      <td>Long-term migrant</td>\n",
       "      <td>Arrivals</td>\n",
       "      <td>non-NZ</td>\n",
       "      <td>Work</td>\n",
       "      <td>Zimbabwe</td>\n",
       "      <td>36</td>\n",
       "      <td>4</td>\n",
       "      <td>Provisional</td>\n",
       "    </tr>\n",
       "    <tr>\n",
       "      <th>324034</th>\n",
       "      <td>2023-09</td>\n",
       "      <td>2023-09</td>\n",
       "      <td>Long-term migrant</td>\n",
       "      <td>Arrivals</td>\n",
       "      <td>non-NZ</td>\n",
       "      <td>Work</td>\n",
       "      <td>Zimbabwe</td>\n",
       "      <td>27</td>\n",
       "      <td>3</td>\n",
       "      <td>Provisional</td>\n",
       "    </tr>\n",
       "  </tbody>\n",
       "</table>\n",
       "<p>324035 rows × 10 columns</p>\n",
       "</div>"
      ],
      "text/plain": [
       "       year_month month_of_release     passenger_type direction citizenship  \\\n",
       "0         2001-09          2020-09  Long-term migrant  Arrivals          NZ   \n",
       "1         2002-03          2020-09  Long-term migrant  Arrivals          NZ   \n",
       "2         2005-01          2020-09  Long-term migrant  Arrivals          NZ   \n",
       "3         2005-04          2020-09  Long-term migrant  Arrivals          NZ   \n",
       "4         2005-07          2020-09  Long-term migrant  Arrivals          NZ   \n",
       "...           ...              ...                ...       ...         ...   \n",
       "324030    2023-05          2023-09  Long-term migrant  Arrivals      non-NZ   \n",
       "324031    2023-06          2023-09  Long-term migrant  Arrivals      non-NZ   \n",
       "324032    2023-07          2023-09  Long-term migrant  Arrivals      non-NZ   \n",
       "324033    2023-08          2023-09  Long-term migrant  Arrivals      non-NZ   \n",
       "324034    2023-09          2023-09  Long-term migrant  Arrivals      non-NZ   \n",
       "\n",
       "                              visa country_of_residence  estimate  \\\n",
       "0       NZ and Australian citizens          Afghanistan         1   \n",
       "1       NZ and Australian citizens          Afghanistan         3   \n",
       "2       NZ and Australian citizens          Afghanistan         5   \n",
       "3       NZ and Australian citizens          Afghanistan         1   \n",
       "4       NZ and Australian citizens          Afghanistan         1   \n",
       "...                            ...                  ...       ...   \n",
       "324030                        Work             Zimbabwe        25   \n",
       "324031                        Work             Zimbabwe        27   \n",
       "324032                        Work             Zimbabwe        24   \n",
       "324033                        Work             Zimbabwe        36   \n",
       "324034                        Work             Zimbabwe        27   \n",
       "\n",
       "        standard_error       status  \n",
       "0                    0        Final  \n",
       "1                    0        Final  \n",
       "2                    0        Final  \n",
       "3                    0        Final  \n",
       "4                    0        Final  \n",
       "...                ...          ...  \n",
       "324030               2  Provisional  \n",
       "324031               2  Provisional  \n",
       "324032               3  Provisional  \n",
       "324033               4  Provisional  \n",
       "324034               3  Provisional  \n",
       "\n",
       "[324035 rows x 10 columns]"
      ]
     },
     "execution_count": 14,
     "metadata": {},
     "output_type": "execute_result"
    }
   ],
   "source": [
    "df_csv"
   ]
  },
  {
   "cell_type": "code",
   "execution_count": 15,
   "metadata": {},
   "outputs": [
    {
     "data": {
      "text/plain": [
       "(324035, 10)"
      ]
     },
     "execution_count": 15,
     "metadata": {},
     "output_type": "execute_result"
    }
   ],
   "source": [
    "df_csv.shape"
   ]
  },
  {
   "cell_type": "code",
   "execution_count": 17,
   "metadata": {},
   "outputs": [
    {
     "data": {
      "text/plain": [
       "0         Afghanistan\n",
       "1         Afghanistan\n",
       "2         Afghanistan\n",
       "3         Afghanistan\n",
       "4         Afghanistan\n",
       "             ...     \n",
       "324030       Zimbabwe\n",
       "324031       Zimbabwe\n",
       "324032       Zimbabwe\n",
       "324033       Zimbabwe\n",
       "324034       Zimbabwe\n",
       "Name: country_of_residence, Length: 324035, dtype: object"
      ]
     },
     "execution_count": 17,
     "metadata": {},
     "output_type": "execute_result"
    }
   ],
   "source": [
    "df_csv['country_of_residence']"
   ]
  },
  {
   "cell_type": "code",
   "execution_count": 18,
   "metadata": {},
   "outputs": [
    {
     "data": {
      "text/plain": [
       "array(['Afghanistan', 'Africa and the Middle East', 'Albania', 'Algeria',\n",
       "       'Andorra', 'Angola', 'Anguilla', 'Antarctica',\n",
       "       'Antigua and Barbuda', 'Argentina', 'Armenia', 'Aruba', 'Asia',\n",
       "       'Australia', 'Austria', 'Azerbaijan', 'Bahamas', 'Bahrain',\n",
       "       'Bangladesh', 'Barbados', 'Belarus', 'Belgium', 'Belize', 'Benin',\n",
       "       'Bermuda', 'Bhutan', 'Bolivia', 'Bosnia and Herzegovina',\n",
       "       'Botswana', 'Brazil', 'British Indian Ocean Territory',\n",
       "       'Brunei Darussalam', 'Bulgaria', 'Burkina Faso', 'Burundi',\n",
       "       'Cabo Verde', 'Cambodia', 'Cameroon', 'Canada', 'Cayman Islands',\n",
       "       'Chad', 'Chile', \"China, People's Republic of\", 'Christmas Island',\n",
       "       'Cocos (Keeling) Islands', 'Colombia', 'Comoros', 'Congo',\n",
       "       'Congo, the Democratic Republic of the', 'Cook Islands',\n",
       "       'Costa Rica', \"Cote d'Ivoire\", 'Croatia', 'Cuba', 'Curacao',\n",
       "       'Cyprus', 'Czech Republic (to Sep 2018), Czechia (from Oct 2018)',\n",
       "       'Czechoslovakia', 'Denmark', 'Djibouti', 'Dominica',\n",
       "       'Dominican Republic', 'East Timor', 'Ecuador', 'Egypt',\n",
       "       'El Salvador', 'Equatorial Guinea', 'Eritrea', 'Estonia',\n",
       "       'Ethiopia', 'Europe', 'Faeroe Islands', 'Falkland Islands', 'Fiji',\n",
       "       'Finland', 'France', 'French Guiana', 'French Polynesia', 'Gabon',\n",
       "       'Gambia', 'Gaza Strip/Palestine/West Bank', 'Georgia', 'Germany',\n",
       "       'Ghana', 'Gibraltar', 'Greece', 'Greenland', 'Grenada',\n",
       "       'Guadeloupe', 'Guam', 'Guatemala', 'Guinea', 'Guinea-Bissau',\n",
       "       'Guyana', 'Haiti', 'Honduras',\n",
       "       'Hong Kong (Special Administrative Region)', 'Hungary', 'Iceland',\n",
       "       'India', 'Indonesia', 'Iran', 'Iraq', 'Ireland', 'Israel', 'Italy',\n",
       "       'Jamaica', 'Japan', 'Jordan', 'Kazakhstan', 'Kenya', 'Kiribati',\n",
       "       \"Korea, Democratic People's Republic of\", 'Korea, Republic of',\n",
       "       'Kosovo', 'Kuwait', 'Kyrgyzstan', 'Laos', 'Latvia', 'Lebanon',\n",
       "       'Lesotho', 'Liberia', 'Libya', 'Liechtenstein', 'Lithuania',\n",
       "       'Luxembourg', 'Macau (Special Administrative Region)',\n",
       "       'Madagascar', 'Malawi', 'Malaysia', 'Maldives', 'Mali', 'Malta',\n",
       "       'Marshall Islands', 'Martinique', 'Mauritania', 'Mauritius',\n",
       "       'Mexico', 'Micronesia, Federated States of', 'Moldova', 'Monaco',\n",
       "       'Mongolia', 'Montenegro', 'Montserrat', 'Morocco', 'Mozambique',\n",
       "       'Myanmar', 'Namibia', 'Nauru', 'Nepal', 'Netherlands',\n",
       "       'Netherlands Antilles', 'New Caledonia', 'New Zealand',\n",
       "       'Nicaragua', 'Niger', 'Nigeria', 'Niue', 'Norfolk Island',\n",
       "       'North Macedonia', 'Northern Mariana Islands', 'Norway',\n",
       "       'Not Stated', 'Oceania and Antarctica', 'Oman', 'Pakistan',\n",
       "       'Palau', 'Panama', 'Papua New Guinea', 'Paraguay', 'Peru',\n",
       "       'Philippines', 'Pitcairn', 'Poland', 'Portugal', 'Puerto Rico',\n",
       "       'Qatar', 'Reunion', 'Romania', 'Russia', 'Rwanda', 'Samoa',\n",
       "       'Samoa, American', 'San Marino', 'Saudi Arabia', 'Senegal',\n",
       "       'Serbia', 'Seychelles', 'Sierra Leone', 'Singapore', 'Slovakia',\n",
       "       'Slovenia', 'Solomon Islands', 'Somalia', 'South Africa',\n",
       "       'South Georgia and the South Sandwich Islands', 'South Sudan',\n",
       "       'Spain', 'Sri Lanka', 'St Helena', 'St Kitts and Nevis',\n",
       "       'St Lucia', 'St Maarten (Dutch Part)', 'St Pierre and Miquelon',\n",
       "       'St Vincent and the Grenadines', 'Sudan', 'Suriname',\n",
       "       'Swaziland (to Sep 2018), Eswatini (from Oct 2018)', 'Sweden',\n",
       "       'Switzerland', 'Syria', 'TOTAL', 'Taiwan', 'Tajikistan',\n",
       "       'Tanzania', 'Thailand', 'The Americas', 'Timor-Leste', 'Togo',\n",
       "       'Tokelau', 'Tonga', 'Trinidad and Tobago', 'Tunisia', 'Turkey',\n",
       "       'Turkmenistan', 'Turks and Caicos Islands', 'Tuvalu', 'Uganda',\n",
       "       'Ukraine', 'United Arab Emirates', 'United Kingdom',\n",
       "       'United States Minor Outlying Islands', 'United States of America',\n",
       "       'Uruguay', 'Uzbekistan', 'Vanuatu', 'Vatican City State',\n",
       "       'Venezuela', 'Viet Nam', 'Virgin Islands, British',\n",
       "       'Virgin Islands, United States', 'Wallis and Futuna',\n",
       "       'Western Sahara', 'Yemen',\n",
       "       'Yugoslavia (to Aug 2003), Serbia and Montenegro (from Sep 2003)',\n",
       "       'Zambia', 'Zimbabwe', 'Central African Republic', 'Mayotte',\n",
       "       'Sao Tome and Principe'], dtype=object)"
      ]
     },
     "execution_count": 18,
     "metadata": {},
     "output_type": "execute_result"
    }
   ],
   "source": [
    "df_csv['country_of_residence'].unique()"
   ]
  },
  {
   "cell_type": "code",
   "execution_count": 19,
   "metadata": {},
   "outputs": [
    {
     "data": {
      "text/plain": [
       "250"
      ]
     },
     "execution_count": 19,
     "metadata": {},
     "output_type": "execute_result"
    }
   ],
   "source": [
    "df_csv['country_of_residence'].nunique()"
   ]
  },
  {
   "cell_type": "code",
   "execution_count": 20,
   "metadata": {},
   "outputs": [
    {
     "data": {
      "text/plain": [
       "0"
      ]
     },
     "execution_count": 20,
     "metadata": {},
     "output_type": "execute_result"
    }
   ],
   "source": [
    "df_csv['standard_error'].isnull().sum()"
   ]
  },
  {
   "cell_type": "code",
   "execution_count": 21,
   "metadata": {},
   "outputs": [
    {
     "data": {
      "text/plain": [
       "0"
      ]
     },
     "execution_count": 21,
     "metadata": {},
     "output_type": "execute_result"
    }
   ],
   "source": [
    "df_csv['estimate'].isnull().sum()"
   ]
  },
  {
   "cell_type": "code",
   "execution_count": 23,
   "metadata": {},
   "outputs": [
    {
     "data": {
      "text/html": [
       "<div>\n",
       "<style scoped>\n",
       "    .dataframe tbody tr th:only-of-type {\n",
       "        vertical-align: middle;\n",
       "    }\n",
       "\n",
       "    .dataframe tbody tr th {\n",
       "        vertical-align: top;\n",
       "    }\n",
       "\n",
       "    .dataframe thead th {\n",
       "        text-align: right;\n",
       "    }\n",
       "</style>\n",
       "<table border=\"1\" class=\"dataframe\">\n",
       "  <thead>\n",
       "    <tr style=\"text-align: right;\">\n",
       "      <th></th>\n",
       "      <th>year_month</th>\n",
       "      <th>month_of_release</th>\n",
       "      <th>passenger_type</th>\n",
       "      <th>direction</th>\n",
       "      <th>citizenship</th>\n",
       "      <th>visa</th>\n",
       "      <th>country_of_residence</th>\n",
       "      <th>estimate</th>\n",
       "      <th>standard_error</th>\n",
       "      <th>status</th>\n",
       "    </tr>\n",
       "  </thead>\n",
       "  <tbody>\n",
       "    <tr>\n",
       "      <th>0</th>\n",
       "      <td>2001-09</td>\n",
       "      <td>2020-09</td>\n",
       "      <td>Long-term migrant</td>\n",
       "      <td>Arrivals</td>\n",
       "      <td>NZ</td>\n",
       "      <td>NZ and Australian citizens</td>\n",
       "      <td>Afghanistan</td>\n",
       "      <td>1</td>\n",
       "      <td>0</td>\n",
       "      <td>Final</td>\n",
       "    </tr>\n",
       "    <tr>\n",
       "      <th>1</th>\n",
       "      <td>2002-03</td>\n",
       "      <td>2020-09</td>\n",
       "      <td>Long-term migrant</td>\n",
       "      <td>Arrivals</td>\n",
       "      <td>NZ</td>\n",
       "      <td>NZ and Australian citizens</td>\n",
       "      <td>Afghanistan</td>\n",
       "      <td>3</td>\n",
       "      <td>0</td>\n",
       "      <td>Final</td>\n",
       "    </tr>\n",
       "    <tr>\n",
       "      <th>2</th>\n",
       "      <td>2005-01</td>\n",
       "      <td>2020-09</td>\n",
       "      <td>Long-term migrant</td>\n",
       "      <td>Arrivals</td>\n",
       "      <td>NZ</td>\n",
       "      <td>NZ and Australian citizens</td>\n",
       "      <td>Afghanistan</td>\n",
       "      <td>5</td>\n",
       "      <td>0</td>\n",
       "      <td>Final</td>\n",
       "    </tr>\n",
       "    <tr>\n",
       "      <th>3</th>\n",
       "      <td>2005-04</td>\n",
       "      <td>2020-09</td>\n",
       "      <td>Long-term migrant</td>\n",
       "      <td>Arrivals</td>\n",
       "      <td>NZ</td>\n",
       "      <td>NZ and Australian citizens</td>\n",
       "      <td>Afghanistan</td>\n",
       "      <td>1</td>\n",
       "      <td>0</td>\n",
       "      <td>Final</td>\n",
       "    </tr>\n",
       "    <tr>\n",
       "      <th>4</th>\n",
       "      <td>2005-07</td>\n",
       "      <td>2020-09</td>\n",
       "      <td>Long-term migrant</td>\n",
       "      <td>Arrivals</td>\n",
       "      <td>NZ</td>\n",
       "      <td>NZ and Australian citizens</td>\n",
       "      <td>Afghanistan</td>\n",
       "      <td>1</td>\n",
       "      <td>0</td>\n",
       "      <td>Final</td>\n",
       "    </tr>\n",
       "    <tr>\n",
       "      <th>...</th>\n",
       "      <td>...</td>\n",
       "      <td>...</td>\n",
       "      <td>...</td>\n",
       "      <td>...</td>\n",
       "      <td>...</td>\n",
       "      <td>...</td>\n",
       "      <td>...</td>\n",
       "      <td>...</td>\n",
       "      <td>...</td>\n",
       "      <td>...</td>\n",
       "    </tr>\n",
       "    <tr>\n",
       "      <th>324015</th>\n",
       "      <td>2020-08</td>\n",
       "      <td>2021-12</td>\n",
       "      <td>Long-term migrant</td>\n",
       "      <td>Arrivals</td>\n",
       "      <td>non-NZ</td>\n",
       "      <td>Work</td>\n",
       "      <td>Zimbabwe</td>\n",
       "      <td>2</td>\n",
       "      <td>0</td>\n",
       "      <td>Final</td>\n",
       "    </tr>\n",
       "    <tr>\n",
       "      <th>324016</th>\n",
       "      <td>2021-10</td>\n",
       "      <td>2023-02</td>\n",
       "      <td>Long-term migrant</td>\n",
       "      <td>Arrivals</td>\n",
       "      <td>non-NZ</td>\n",
       "      <td>Work</td>\n",
       "      <td>Zimbabwe</td>\n",
       "      <td>2</td>\n",
       "      <td>0</td>\n",
       "      <td>Final</td>\n",
       "    </tr>\n",
       "    <tr>\n",
       "      <th>324017</th>\n",
       "      <td>2021-12</td>\n",
       "      <td>2023-04</td>\n",
       "      <td>Long-term migrant</td>\n",
       "      <td>Arrivals</td>\n",
       "      <td>non-NZ</td>\n",
       "      <td>Work</td>\n",
       "      <td>Zimbabwe</td>\n",
       "      <td>1</td>\n",
       "      <td>0</td>\n",
       "      <td>Final</td>\n",
       "    </tr>\n",
       "    <tr>\n",
       "      <th>324018</th>\n",
       "      <td>2022-01</td>\n",
       "      <td>2023-05</td>\n",
       "      <td>Long-term migrant</td>\n",
       "      <td>Arrivals</td>\n",
       "      <td>non-NZ</td>\n",
       "      <td>Work</td>\n",
       "      <td>Zimbabwe</td>\n",
       "      <td>1</td>\n",
       "      <td>0</td>\n",
       "      <td>Final</td>\n",
       "    </tr>\n",
       "    <tr>\n",
       "      <th>324019</th>\n",
       "      <td>2022-05</td>\n",
       "      <td>2023-09</td>\n",
       "      <td>Long-term migrant</td>\n",
       "      <td>Arrivals</td>\n",
       "      <td>non-NZ</td>\n",
       "      <td>Work</td>\n",
       "      <td>Zimbabwe</td>\n",
       "      <td>1</td>\n",
       "      <td>0</td>\n",
       "      <td>Final</td>\n",
       "    </tr>\n",
       "  </tbody>\n",
       "</table>\n",
       "<p>293321 rows × 10 columns</p>\n",
       "</div>"
      ],
      "text/plain": [
       "       year_month month_of_release     passenger_type direction citizenship  \\\n",
       "0         2001-09          2020-09  Long-term migrant  Arrivals          NZ   \n",
       "1         2002-03          2020-09  Long-term migrant  Arrivals          NZ   \n",
       "2         2005-01          2020-09  Long-term migrant  Arrivals          NZ   \n",
       "3         2005-04          2020-09  Long-term migrant  Arrivals          NZ   \n",
       "4         2005-07          2020-09  Long-term migrant  Arrivals          NZ   \n",
       "...           ...              ...                ...       ...         ...   \n",
       "324015    2020-08          2021-12  Long-term migrant  Arrivals      non-NZ   \n",
       "324016    2021-10          2023-02  Long-term migrant  Arrivals      non-NZ   \n",
       "324017    2021-12          2023-04  Long-term migrant  Arrivals      non-NZ   \n",
       "324018    2022-01          2023-05  Long-term migrant  Arrivals      non-NZ   \n",
       "324019    2022-05          2023-09  Long-term migrant  Arrivals      non-NZ   \n",
       "\n",
       "                              visa country_of_residence  estimate  \\\n",
       "0       NZ and Australian citizens          Afghanistan         1   \n",
       "1       NZ and Australian citizens          Afghanistan         3   \n",
       "2       NZ and Australian citizens          Afghanistan         5   \n",
       "3       NZ and Australian citizens          Afghanistan         1   \n",
       "4       NZ and Australian citizens          Afghanistan         1   \n",
       "...                            ...                  ...       ...   \n",
       "324015                        Work             Zimbabwe         2   \n",
       "324016                        Work             Zimbabwe         2   \n",
       "324017                        Work             Zimbabwe         1   \n",
       "324018                        Work             Zimbabwe         1   \n",
       "324019                        Work             Zimbabwe         1   \n",
       "\n",
       "        standard_error status  \n",
       "0                    0  Final  \n",
       "1                    0  Final  \n",
       "2                    0  Final  \n",
       "3                    0  Final  \n",
       "4                    0  Final  \n",
       "...                ...    ...  \n",
       "324015               0  Final  \n",
       "324016               0  Final  \n",
       "324017               0  Final  \n",
       "324018               0  Final  \n",
       "324019               0  Final  \n",
       "\n",
       "[293321 rows x 10 columns]"
      ]
     },
     "execution_count": 23,
     "metadata": {},
     "output_type": "execute_result"
    }
   ],
   "source": [
    "df_csv[df_csv['status'] == 'Final']"
   ]
  },
  {
   "cell_type": "code",
   "execution_count": 24,
   "metadata": {},
   "outputs": [
    {
     "data": {
      "text/plain": [
       "(293321, 10)"
      ]
     },
     "execution_count": 24,
     "metadata": {},
     "output_type": "execute_result"
    }
   ],
   "source": [
    "df_csv[df_csv['status'] == 'Final'].shape"
   ]
  },
  {
   "cell_type": "code",
   "execution_count": 25,
   "metadata": {},
   "outputs": [
    {
     "data": {
      "text/html": [
       "<div>\n",
       "<style scoped>\n",
       "    .dataframe tbody tr th:only-of-type {\n",
       "        vertical-align: middle;\n",
       "    }\n",
       "\n",
       "    .dataframe tbody tr th {\n",
       "        vertical-align: top;\n",
       "    }\n",
       "\n",
       "    .dataframe thead th {\n",
       "        text-align: right;\n",
       "    }\n",
       "</style>\n",
       "<table border=\"1\" class=\"dataframe\">\n",
       "  <thead>\n",
       "    <tr style=\"text-align: right;\">\n",
       "      <th></th>\n",
       "      <th>year_month</th>\n",
       "      <th>month_of_release</th>\n",
       "      <th>passenger_type</th>\n",
       "      <th>direction</th>\n",
       "      <th>citizenship</th>\n",
       "      <th>visa</th>\n",
       "      <th>country_of_residence</th>\n",
       "      <th>estimate</th>\n",
       "      <th>standard_error</th>\n",
       "      <th>status</th>\n",
       "    </tr>\n",
       "  </thead>\n",
       "  <tbody>\n",
       "    <tr>\n",
       "      <th>15975</th>\n",
       "      <td>2001-01</td>\n",
       "      <td>2020-09</td>\n",
       "      <td>Long-term migrant</td>\n",
       "      <td>Arrivals</td>\n",
       "      <td>NZ</td>\n",
       "      <td>NZ and Australian citizens</td>\n",
       "      <td>Russia</td>\n",
       "      <td>3</td>\n",
       "      <td>0</td>\n",
       "      <td>Final</td>\n",
       "    </tr>\n",
       "    <tr>\n",
       "      <th>15976</th>\n",
       "      <td>2001-02</td>\n",
       "      <td>2020-09</td>\n",
       "      <td>Long-term migrant</td>\n",
       "      <td>Arrivals</td>\n",
       "      <td>NZ</td>\n",
       "      <td>NZ and Australian citizens</td>\n",
       "      <td>Russia</td>\n",
       "      <td>1</td>\n",
       "      <td>0</td>\n",
       "      <td>Final</td>\n",
       "    </tr>\n",
       "    <tr>\n",
       "      <th>15977</th>\n",
       "      <td>2001-03</td>\n",
       "      <td>2020-09</td>\n",
       "      <td>Long-term migrant</td>\n",
       "      <td>Arrivals</td>\n",
       "      <td>NZ</td>\n",
       "      <td>NZ and Australian citizens</td>\n",
       "      <td>Russia</td>\n",
       "      <td>2</td>\n",
       "      <td>0</td>\n",
       "      <td>Final</td>\n",
       "    </tr>\n",
       "    <tr>\n",
       "      <th>15978</th>\n",
       "      <td>2001-05</td>\n",
       "      <td>2020-09</td>\n",
       "      <td>Long-term migrant</td>\n",
       "      <td>Arrivals</td>\n",
       "      <td>NZ</td>\n",
       "      <td>NZ and Australian citizens</td>\n",
       "      <td>Russia</td>\n",
       "      <td>1</td>\n",
       "      <td>0</td>\n",
       "      <td>Final</td>\n",
       "    </tr>\n",
       "    <tr>\n",
       "      <th>15979</th>\n",
       "      <td>2001-06</td>\n",
       "      <td>2020-09</td>\n",
       "      <td>Long-term migrant</td>\n",
       "      <td>Arrivals</td>\n",
       "      <td>NZ</td>\n",
       "      <td>NZ and Australian citizens</td>\n",
       "      <td>Russia</td>\n",
       "      <td>1</td>\n",
       "      <td>0</td>\n",
       "      <td>Final</td>\n",
       "    </tr>\n",
       "    <tr>\n",
       "      <th>...</th>\n",
       "      <td>...</td>\n",
       "      <td>...</td>\n",
       "      <td>...</td>\n",
       "      <td>...</td>\n",
       "      <td>...</td>\n",
       "      <td>...</td>\n",
       "      <td>...</td>\n",
       "      <td>...</td>\n",
       "      <td>...</td>\n",
       "      <td>...</td>\n",
       "    </tr>\n",
       "    <tr>\n",
       "      <th>318188</th>\n",
       "      <td>2023-05</td>\n",
       "      <td>2023-09</td>\n",
       "      <td>Long-term migrant</td>\n",
       "      <td>Arrivals</td>\n",
       "      <td>non-NZ</td>\n",
       "      <td>Work</td>\n",
       "      <td>Russia</td>\n",
       "      <td>70</td>\n",
       "      <td>11</td>\n",
       "      <td>Provisional</td>\n",
       "    </tr>\n",
       "    <tr>\n",
       "      <th>318189</th>\n",
       "      <td>2023-06</td>\n",
       "      <td>2023-09</td>\n",
       "      <td>Long-term migrant</td>\n",
       "      <td>Arrivals</td>\n",
       "      <td>non-NZ</td>\n",
       "      <td>Work</td>\n",
       "      <td>Russia</td>\n",
       "      <td>10</td>\n",
       "      <td>2</td>\n",
       "      <td>Provisional</td>\n",
       "    </tr>\n",
       "    <tr>\n",
       "      <th>318190</th>\n",
       "      <td>2023-07</td>\n",
       "      <td>2023-09</td>\n",
       "      <td>Long-term migrant</td>\n",
       "      <td>Arrivals</td>\n",
       "      <td>non-NZ</td>\n",
       "      <td>Work</td>\n",
       "      <td>Russia</td>\n",
       "      <td>13</td>\n",
       "      <td>3</td>\n",
       "      <td>Provisional</td>\n",
       "    </tr>\n",
       "    <tr>\n",
       "      <th>318191</th>\n",
       "      <td>2023-08</td>\n",
       "      <td>2023-09</td>\n",
       "      <td>Long-term migrant</td>\n",
       "      <td>Arrivals</td>\n",
       "      <td>non-NZ</td>\n",
       "      <td>Work</td>\n",
       "      <td>Russia</td>\n",
       "      <td>14</td>\n",
       "      <td>3</td>\n",
       "      <td>Provisional</td>\n",
       "    </tr>\n",
       "    <tr>\n",
       "      <th>318192</th>\n",
       "      <td>2023-09</td>\n",
       "      <td>2023-09</td>\n",
       "      <td>Long-term migrant</td>\n",
       "      <td>Arrivals</td>\n",
       "      <td>non-NZ</td>\n",
       "      <td>Work</td>\n",
       "      <td>Russia</td>\n",
       "      <td>37</td>\n",
       "      <td>9</td>\n",
       "      <td>Provisional</td>\n",
       "    </tr>\n",
       "  </tbody>\n",
       "</table>\n",
       "<p>3441 rows × 10 columns</p>\n",
       "</div>"
      ],
      "text/plain": [
       "       year_month month_of_release     passenger_type direction citizenship  \\\n",
       "15975     2001-01          2020-09  Long-term migrant  Arrivals          NZ   \n",
       "15976     2001-02          2020-09  Long-term migrant  Arrivals          NZ   \n",
       "15977     2001-03          2020-09  Long-term migrant  Arrivals          NZ   \n",
       "15978     2001-05          2020-09  Long-term migrant  Arrivals          NZ   \n",
       "15979     2001-06          2020-09  Long-term migrant  Arrivals          NZ   \n",
       "...           ...              ...                ...       ...         ...   \n",
       "318188    2023-05          2023-09  Long-term migrant  Arrivals      non-NZ   \n",
       "318189    2023-06          2023-09  Long-term migrant  Arrivals      non-NZ   \n",
       "318190    2023-07          2023-09  Long-term migrant  Arrivals      non-NZ   \n",
       "318191    2023-08          2023-09  Long-term migrant  Arrivals      non-NZ   \n",
       "318192    2023-09          2023-09  Long-term migrant  Arrivals      non-NZ   \n",
       "\n",
       "                              visa country_of_residence  estimate  \\\n",
       "15975   NZ and Australian citizens               Russia         3   \n",
       "15976   NZ and Australian citizens               Russia         1   \n",
       "15977   NZ and Australian citizens               Russia         2   \n",
       "15978   NZ and Australian citizens               Russia         1   \n",
       "15979   NZ and Australian citizens               Russia         1   \n",
       "...                            ...                  ...       ...   \n",
       "318188                        Work               Russia        70   \n",
       "318189                        Work               Russia        10   \n",
       "318190                        Work               Russia        13   \n",
       "318191                        Work               Russia        14   \n",
       "318192                        Work               Russia        37   \n",
       "\n",
       "        standard_error       status  \n",
       "15975                0        Final  \n",
       "15976                0        Final  \n",
       "15977                0        Final  \n",
       "15978                0        Final  \n",
       "15979                0        Final  \n",
       "...                ...          ...  \n",
       "318188              11  Provisional  \n",
       "318189               2  Provisional  \n",
       "318190               3  Provisional  \n",
       "318191               3  Provisional  \n",
       "318192               9  Provisional  \n",
       "\n",
       "[3441 rows x 10 columns]"
      ]
     },
     "execution_count": 25,
     "metadata": {},
     "output_type": "execute_result"
    }
   ],
   "source": [
    "df_csv[df_csv['country_of_residence'] == 'Russia']"
   ]
  },
  {
   "cell_type": "code",
   "execution_count": 26,
   "metadata": {},
   "outputs": [
    {
     "data": {
      "text/plain": [
       "(3441, 10)"
      ]
     },
     "execution_count": 26,
     "metadata": {},
     "output_type": "execute_result"
    }
   ],
   "source": [
    "df_csv[df_csv['country_of_residence'] == 'Russia'].shape"
   ]
  },
  {
   "cell_type": "code",
   "execution_count": 30,
   "metadata": {},
   "outputs": [
    {
     "data": {
      "text/plain": [
       "TOTAL                         747\n",
       "Visitor                       476\n",
       "Other                         458\n",
       "Work                          452\n",
       "Student                       448\n",
       "Resident                      434\n",
       "NZ and Australian citizens    426\n",
       "Name: visa, dtype: int64"
      ]
     },
     "execution_count": 30,
     "metadata": {},
     "output_type": "execute_result"
    }
   ],
   "source": [
    "df_csv[df_csv['country_of_residence'] == 'Russia'] ['visa'].value_counts()"
   ]
  },
  {
   "cell_type": "code",
   "execution_count": 31,
   "metadata": {},
   "outputs": [
    {
     "data": {
      "text/plain": [
       "Long-term migrant    324035\n",
       "Name: passenger_type, dtype: int64"
      ]
     },
     "execution_count": 31,
     "metadata": {},
     "output_type": "execute_result"
    }
   ],
   "source": [
    "df_csv[df_csv['direction'] == 'Arrivals'] ['passenger_type'].value_counts()"
   ]
  },
  {
   "cell_type": "code",
   "execution_count": 32,
   "metadata": {},
   "outputs": [
    {
     "data": {
      "text/plain": [
       "2072912"
      ]
     },
     "execution_count": 32,
     "metadata": {},
     "output_type": "execute_result"
    }
   ],
   "source": [
    "df_csv[df_csv['visa'] == 'Student'] ['estimate'].sum()"
   ]
  },
  {
   "cell_type": "code",
   "execution_count": 33,
   "metadata": {},
   "outputs": [
    {
     "data": {
      "text/plain": [
       "(448, 10)"
      ]
     },
     "execution_count": 33,
     "metadata": {},
     "output_type": "execute_result"
    }
   ],
   "source": [
    "df_csv[(df_csv[\"country_of_residence\"] == \"Russia\") & (df_csv[\"visa\"] == \"Student\")].shape"
   ]
  },
  {
   "cell_type": "code",
   "execution_count": 21,
   "metadata": {
    "slideshow": {
     "slide_type": "slide"
    }
   },
   "outputs": [
    {
     "data": {
      "text/plain": [
       "<AxesSubplot:>"
      ]
     },
     "execution_count": 21,
     "metadata": {},
     "output_type": "execute_result"
    },
    {
     "data": {
      "image/png": "[encoded data removed]",
      "text/plain": [
       "<Figure size 640x480 with 1 Axes>"
      ]
     },
     "metadata": {},
     "output_type": "display_data"
    }
   ],
   "source": [
    "df_csv[\"estimate\"].hist()"
   ]
  },
  {
   "cell_type": "code",
   "execution_count": 22,
   "metadata": {},
   "outputs": [
    {
     "data": {
      "text/plain": [
       "<AxesSubplot:>"
      ]
     },
     "execution_count": 22,
     "metadata": {},
     "output_type": "execute_result"
    },
    {
     "data": {
      "image/png": "[encoded data removed]",
      "text/plain": [
       "<Figure size 640x480 with 1 Axes>"
      ]
     },
     "metadata": {},
     "output_type": "display_data"
    }
   ],
   "source": [
    "df_csv[\"country_of_residence\"].hist()"
   ]
  },
  {
   "cell_type": "code",
   "execution_count": 42,
   "metadata": {},
   "outputs": [
    {
     "data": {
      "text/plain": [
       "[0,\n",
       " 1,\n",
       " 2,\n",
       " 3,\n",
       " 4,\n",
       " 5,\n",
       " 6,\n",
       " 7,\n",
       " 8,\n",
       " 9,\n",
       " 10,\n",
       " 11,\n",
       " 12,\n",
       " 13,\n",
       " 14,\n",
       " 15,\n",
       " 16,\n",
       " 17,\n",
       " 18,\n",
       " 19,\n",
       " 20,\n",
       " 21,\n",
       " 22,\n",
       " 23,\n",
       " 24,\n",
       " 25,\n",
       " 26,\n",
       " 27,\n",
       " 28,\n",
       " 29,\n",
       " 30,\n",
       " 31,\n",
       " 32,\n",
       " 33,\n",
       " 34,\n",
       " 35,\n",
       " 36,\n",
       " 37,\n",
       " 38,\n",
       " 39,\n",
       " 40,\n",
       " 41,\n",
       " 42,\n",
       " 43,\n",
       " 44,\n",
       " 45,\n",
       " 46,\n",
       " 47,\n",
       " 48,\n",
       " 49,\n",
       " 50,\n",
       " 51,\n",
       " 52,\n",
       " 53,\n",
       " 54,\n",
       " 55,\n",
       " 56,\n",
       " 57,\n",
       " 58,\n",
       " 59,\n",
       " 60,\n",
       " 61,\n",
       " 62,\n",
       " 63,\n",
       " 64,\n",
       " 65,\n",
       " 66,\n",
       " 67,\n",
       " 68,\n",
       " 69,\n",
       " 70,\n",
       " 71,\n",
       " 72,\n",
       " 73,\n",
       " 74,\n",
       " 75,\n",
       " 77,\n",
       " 78,\n",
       " 79,\n",
       " 80,\n",
       " 81,\n",
       " 82,\n",
       " 83,\n",
       " 84,\n",
       " 85,\n",
       " 86,\n",
       " 88,\n",
       " 89,\n",
       " 90,\n",
       " 91,\n",
       " 92,\n",
       " 93,\n",
       " 94,\n",
       " 95,\n",
       " 96,\n",
       " 99,\n",
       " 100,\n",
       " 105,\n",
       " 106,\n",
       " 107,\n",
       " 108,\n",
       " 109,\n",
       " 115,\n",
       " 116,\n",
       " 117,\n",
       " 118,\n",
       " 119,\n",
       " 120,\n",
       " 121,\n",
       " 123,\n",
       " 124,\n",
       " 125,\n",
       " 127,\n",
       " 131,\n",
       " 132,\n",
       " 133,\n",
       " 134,\n",
       " 138,\n",
       " 144,\n",
       " 145,\n",
       " 148,\n",
       " 149,\n",
       " 153,\n",
       " 154,\n",
       " 155,\n",
       " 167,\n",
       " 168,\n",
       " 171,\n",
       " 184,\n",
       " 187,\n",
       " 188,\n",
       " 190,\n",
       " 191,\n",
       " 192,\n",
       " 197,\n",
       " 200,\n",
       " 201,\n",
       " 207,\n",
       " 208,\n",
       " 210,\n",
       " 216,\n",
       " 218,\n",
       " 239,\n",
       " 240,\n",
       " 241,\n",
       " 243,\n",
       " 246,\n",
       " 248,\n",
       " 251,\n",
       " 255,\n",
       " 284,\n",
       " 285,\n",
       " 290,\n",
       " 291,\n",
       " 293,\n",
       " 306,\n",
       " 317,\n",
       " 324,\n",
       " 330,\n",
       " 337,\n",
       " 414,\n",
       " 444,\n",
       " 445,\n",
       " 483]"
      ]
     },
     "execution_count": 42,
     "metadata": {},
     "output_type": "execute_result"
    }
   ],
   "source": [
    "sorted(df_csv['standard_error'].unique())"
   ]
  },
  {
   "cell_type": "code",
   "execution_count": 23,
   "metadata": {},
   "outputs": [
    {
     "data": {
      "text/plain": [
       "<AxesSubplot:>"
      ]
     },
     "execution_count": 23,
     "metadata": {},
     "output_type": "execute_result"
    },
    {
     "data": {
      "image/png": "[encoded data removed]",
      "text/plain": [
       "<Figure size 640x480 with 1 Axes>"
      ]
     },
     "metadata": {},
     "output_type": "display_data"
    }
   ],
   "source": [
    "df_csv['standard_error'].hist()"
   ]
  },
  {
   "cell_type": "code",
   "execution_count": 24,
   "metadata": {},
   "outputs": [
    {
     "data": {
      "text/plain": [
       "<AxesSubplot:>"
      ]
     },
     "execution_count": 24,
     "metadata": {},
     "output_type": "execute_result"
    },
    {
     "data": {
      "image/png": "[encoded data removed]",
      "text/plain": [
       "<Figure size 640x480 with 1 Axes>"
      ]
     },
     "metadata": {},
     "output_type": "display_data"
    }
   ],
   "source": [
    "#Меры центральной тенденции\n",
    "df_csv['estimate'].hist(bins=483)"
   ]
  },
  {
   "cell_type": "code",
   "execution_count": 25,
   "metadata": {},
   "outputs": [
    {
     "data": {
      "text/plain": [
       "98.40355825759563"
      ]
     },
     "execution_count": 25,
     "metadata": {},
     "output_type": "execute_result"
    }
   ],
   "source": [
    "df_csv['estimate'].mean()"
   ]
  },
  {
   "cell_type": "code",
   "execution_count": 53,
   "metadata": {},
   "outputs": [
    {
     "data": {
      "text/plain": [
       "5.0"
      ]
     },
     "execution_count": 53,
     "metadata": {},
     "output_type": "execute_result"
    }
   ],
   "source": [
    "df_csv['estimate'].median()"
   ]
  },
  {
   "cell_type": "code",
   "execution_count": 54,
   "metadata": {},
   "outputs": [
    {
     "data": {
      "text/plain": [
       "0    1\n",
       "Name: estimate, dtype: int64"
      ]
     },
     "execution_count": 54,
     "metadata": {},
     "output_type": "execute_result"
    }
   ],
   "source": [
    "df_csv['estimate'].mode()"
   ]
  },
  {
   "cell_type": "code",
   "execution_count": 55,
   "metadata": {},
   "outputs": [
    {
     "data": {
      "text/html": [
       "<div>\n",
       "<style scoped>\n",
       "    .dataframe tbody tr th:only-of-type {\n",
       "        vertical-align: middle;\n",
       "    }\n",
       "\n",
       "    .dataframe tbody tr th {\n",
       "        vertical-align: top;\n",
       "    }\n",
       "\n",
       "    .dataframe thead th {\n",
       "        text-align: right;\n",
       "    }\n",
       "</style>\n",
       "<table border=\"1\" class=\"dataframe\">\n",
       "  <thead>\n",
       "    <tr style=\"text-align: right;\">\n",
       "      <th></th>\n",
       "      <th>estimate</th>\n",
       "      <th>standard_error</th>\n",
       "    </tr>\n",
       "  </thead>\n",
       "  <tbody>\n",
       "    <tr>\n",
       "      <th>count</th>\n",
       "      <td>324035.000000</td>\n",
       "      <td>324035.000000</td>\n",
       "    </tr>\n",
       "    <tr>\n",
       "      <th>mean</th>\n",
       "      <td>98.403558</td>\n",
       "      <td>0.288787</td>\n",
       "    </tr>\n",
       "    <tr>\n",
       "      <th>std</th>\n",
       "      <td>527.300586</td>\n",
       "      <td>4.413591</td>\n",
       "    </tr>\n",
       "    <tr>\n",
       "      <th>min</th>\n",
       "      <td>0.000000</td>\n",
       "      <td>0.000000</td>\n",
       "    </tr>\n",
       "    <tr>\n",
       "      <th>25%</th>\n",
       "      <td>2.000000</td>\n",
       "      <td>0.000000</td>\n",
       "    </tr>\n",
       "    <tr>\n",
       "      <th>50%</th>\n",
       "      <td>5.000000</td>\n",
       "      <td>0.000000</td>\n",
       "    </tr>\n",
       "    <tr>\n",
       "      <th>75%</th>\n",
       "      <td>22.000000</td>\n",
       "      <td>0.000000</td>\n",
       "    </tr>\n",
       "    <tr>\n",
       "      <th>max</th>\n",
       "      <td>24081.000000</td>\n",
       "      <td>483.000000</td>\n",
       "    </tr>\n",
       "  </tbody>\n",
       "</table>\n",
       "</div>"
      ],
      "text/plain": [
       "            estimate  standard_error\n",
       "count  324035.000000   324035.000000\n",
       "mean       98.403558        0.288787\n",
       "std       527.300586        4.413591\n",
       "min         0.000000        0.000000\n",
       "25%         2.000000        0.000000\n",
       "50%         5.000000        0.000000\n",
       "75%        22.000000        0.000000\n",
       "max     24081.000000      483.000000"
      ]
     },
     "execution_count": 55,
     "metadata": {},
     "output_type": "execute_result"
    }
   ],
   "source": [
    "df_csv.describe()"
   ]
  },
  {
   "cell_type": "code",
   "execution_count": 56,
   "metadata": {},
   "outputs": [
    {
     "data": {
      "text/plain": [
       "visa\n",
       "NZ and Australian citizens     91.967659\n",
       "Other                          61.371752\n",
       "Resident                       54.435470\n",
       "Student                        62.640880\n",
       "TOTAL                         170.820308\n",
       "Visitor                        65.718544\n",
       "Work                           64.238195\n",
       "Name: estimate, dtype: float64"
      ]
     },
     "execution_count": 56,
     "metadata": {},
     "output_type": "execute_result"
    }
   ],
   "source": [
    "df_csv.groupby('visa')['estimate'].mean()"
   ]
  },
  {
   "cell_type": "code",
   "execution_count": 58,
   "metadata": {},
   "outputs": [
    {
     "data": {
      "text/plain": [
       "visa                        country_of_residence                                           \n",
       "NZ and Australian citizens  Afghanistan                                                         2.136000\n",
       "                            Africa and the Middle East                                         46.227684\n",
       "                            Albania                                                             1.017241\n",
       "                            Algeria                                                             1.666667\n",
       "                            Andorra                                                             1.086957\n",
       "                                                                                                 ...    \n",
       "Work                        Wallis and Futuna                                                   1.125000\n",
       "                            Yemen                                                               0.888889\n",
       "                            Yugoslavia (to Aug 2003), Serbia and Montenegro (from Sep 2003)     2.500000\n",
       "                            Zambia                                                              1.567901\n",
       "                            Zimbabwe                                                            6.430108\n",
       "Name: estimate, Length: 1674, dtype: float64"
      ]
     },
     "execution_count": 58,
     "metadata": {},
     "output_type": "execute_result"
    }
   ],
   "source": [
    "df_csv.groupby(['visa', 'country_of_residence'])['estimate'].mean()"
   ]
  },
  {
   "cell_type": "code",
   "execution_count": 26,
   "metadata": {},
   "outputs": [
    {
     "data": {
      "text/plain": [
       "<AxesSubplot:xlabel='visa'>"
      ]
     },
     "execution_count": 26,
     "metadata": {},
     "output_type": "execute_result"
    },
    {
     "data": {
      "image/png": "[encoded data removed]",
      "text/plain": [
       "<Figure size 640x480 with 1 Axes>"
      ]
     },
     "metadata": {},
     "output_type": "display_data"
    }
   ],
   "source": [
    "df_csv.groupby('visa')['estimate'].mean().plot(kind='bar')"
   ]
  },
  {
   "cell_type": "code",
   "execution_count": 60,
   "metadata": {},
   "outputs": [
    {
     "data": {
      "text/plain": [
       "visa\n",
       "NZ and Australian citizens    1\n",
       "Other                         1\n",
       "Resident                      1\n",
       "Student                       1\n",
       "TOTAL                         1\n",
       "Visitor                       1\n",
       "Work                          1\n",
       "Name: estimate, dtype: int64"
      ]
     },
     "execution_count": 60,
     "metadata": {},
     "output_type": "execute_result"
    }
   ],
   "source": [
    "df_csv.groupby('visa')['estimate'].agg(pd.Series.mode)"
   ]
  },
  {
   "cell_type": "code",
   "execution_count": 62,
   "metadata": {},
   "outputs": [
    {
     "data": {
      "text/plain": [
       "visa\n",
       "NZ and Australian citizens     91.967659\n",
       "Other                          61.371752\n",
       "Resident                       54.435470\n",
       "Student                        62.640880\n",
       "TOTAL                         170.820308\n",
       "Visitor                        65.718544\n",
       "Work                           64.238195\n",
       "Name: estimate, dtype: float64"
      ]
     },
     "execution_count": 62,
     "metadata": {},
     "output_type": "execute_result"
    }
   ],
   "source": [
    "df_csv.groupby('visa')['estimate'].agg('mean')"
   ]
  },
  {
   "cell_type": "code",
   "execution_count": 63,
   "metadata": {},
   "outputs": [
    {
     "data": {
      "text/plain": [
       "Index(['year_month', 'month_of_release', 'passenger_type', 'direction',\n",
       "       'citizenship', 'visa', 'country_of_residence', 'estimate',\n",
       "       'standard_error', 'status'],\n",
       "      dtype='object')"
      ]
     },
     "execution_count": 63,
     "metadata": {},
     "output_type": "execute_result"
    }
   ],
   "source": [
    "df_csv.columns"
   ]
  },
  {
   "cell_type": "code",
   "execution_count": 28,
   "metadata": {},
   "outputs": [
    {
     "data": {
      "text/html": [
       "<div>\n",
       "<style scoped>\n",
       "    .dataframe tbody tr th:only-of-type {\n",
       "        vertical-align: middle;\n",
       "    }\n",
       "\n",
       "    .dataframe tbody tr th {\n",
       "        vertical-align: top;\n",
       "    }\n",
       "\n",
       "    .dataframe thead th {\n",
       "        text-align: right;\n",
       "    }\n",
       "</style>\n",
       "<table border=\"1\" class=\"dataframe\">\n",
       "  <thead>\n",
       "    <tr style=\"text-align: right;\">\n",
       "      <th></th>\n",
       "      <th>estimate</th>\n",
       "    </tr>\n",
       "    <tr>\n",
       "      <th>visa</th>\n",
       "      <th></th>\n",
       "    </tr>\n",
       "  </thead>\n",
       "  <tbody>\n",
       "    <tr>\n",
       "      <th>NZ and Australian citizens</th>\n",
       "      <td>4947952</td>\n",
       "    </tr>\n",
       "    <tr>\n",
       "      <th>Other</th>\n",
       "      <td>1464330</td>\n",
       "    </tr>\n",
       "    <tr>\n",
       "      <th>Resident</th>\n",
       "      <td>1763056</td>\n",
       "    </tr>\n",
       "    <tr>\n",
       "      <th>Student</th>\n",
       "      <td>2072912</td>\n",
       "    </tr>\n",
       "    <tr>\n",
       "      <th>TOTAL</th>\n",
       "      <td>15943001</td>\n",
       "    </tr>\n",
       "  </tbody>\n",
       "</table>\n",
       "</div>"
      ],
      "text/plain": [
       "                            estimate\n",
       "visa                                \n",
       "NZ and Australian citizens   4947952\n",
       "Other                        1464330\n",
       "Resident                     1763056\n",
       "Student                      2072912\n",
       "TOTAL                       15943001"
      ]
     },
     "execution_count": 28,
     "metadata": {},
     "output_type": "execute_result"
    }
   ],
   "source": [
    "#Меры разброса\n",
    "df_csv_visa = pd.DataFrame(df_csv.groupby('visa')['estimate'].sum())\n",
    "df_csv_visa.head()"
   ]
  },
  {
   "cell_type": "code",
   "execution_count": 29,
   "metadata": {},
   "outputs": [
    {
     "data": {
      "text/plain": [
       "<AxesSubplot:xlabel='visa'>"
      ]
     },
     "execution_count": 29,
     "metadata": {},
     "output_type": "execute_result"
    },
    {
     "data": {
      "image/png": "[encoded data removed]",
      "text/plain": [
       "<Figure size 640x480 with 1 Axes>"
      ]
     },
     "metadata": {},
     "output_type": "display_data"
    }
   ],
   "source": [
    "df_csv_visa.plot(kind='bar')"
   ]
  },
  {
   "cell_type": "code",
   "execution_count": 30,
   "metadata": {},
   "outputs": [
    {
     "data": {
      "text/html": [
       "<div>\n",
       "<style scoped>\n",
       "    .dataframe tbody tr th:only-of-type {\n",
       "        vertical-align: middle;\n",
       "    }\n",
       "\n",
       "    .dataframe tbody tr th {\n",
       "        vertical-align: top;\n",
       "    }\n",
       "\n",
       "    .dataframe thead th {\n",
       "        text-align: right;\n",
       "    }\n",
       "</style>\n",
       "<table border=\"1\" class=\"dataframe\">\n",
       "  <thead>\n",
       "    <tr style=\"text-align: right;\">\n",
       "      <th></th>\n",
       "      <th>estimate</th>\n",
       "    </tr>\n",
       "  </thead>\n",
       "  <tbody>\n",
       "    <tr>\n",
       "      <th>count</th>\n",
       "      <td>7.000000e+00</td>\n",
       "    </tr>\n",
       "    <tr>\n",
       "      <th>mean</th>\n",
       "      <td>4.555171e+06</td>\n",
       "    </tr>\n",
       "    <tr>\n",
       "      <th>std</th>\n",
       "      <td>5.153012e+06</td>\n",
       "    </tr>\n",
       "    <tr>\n",
       "      <th>min</th>\n",
       "      <td>1.464330e+06</td>\n",
       "    </tr>\n",
       "    <tr>\n",
       "      <th>25%</th>\n",
       "      <td>1.917984e+06</td>\n",
       "    </tr>\n",
       "    <tr>\n",
       "      <th>50%</th>\n",
       "      <td>2.581990e+06</td>\n",
       "    </tr>\n",
       "    <tr>\n",
       "      <th>75%</th>\n",
       "      <td>4.030454e+06</td>\n",
       "    </tr>\n",
       "    <tr>\n",
       "      <th>max</th>\n",
       "      <td>1.594300e+07</td>\n",
       "    </tr>\n",
       "  </tbody>\n",
       "</table>\n",
       "</div>"
      ],
      "text/plain": [
       "           estimate\n",
       "count  7.000000e+00\n",
       "mean   4.555171e+06\n",
       "std    5.153012e+06\n",
       "min    1.464330e+06\n",
       "25%    1.917984e+06\n",
       "50%    2.581990e+06\n",
       "75%    4.030454e+06\n",
       "max    1.594300e+07"
      ]
     },
     "execution_count": 30,
     "metadata": {},
     "output_type": "execute_result"
    }
   ],
   "source": [
    "df_csv_visa.describe()"
   ]
  },
  {
   "cell_type": "code",
   "execution_count": 31,
   "metadata": {},
   "outputs": [
    {
     "data": {
      "text/plain": [
       "4030454.0"
      ]
     },
     "execution_count": 31,
     "metadata": {},
     "output_type": "execute_result"
    }
   ],
   "source": [
    "df_csv_visa.describe()['estimate']['75%']"
   ]
  },
  {
   "cell_type": "code",
   "execution_count": 33,
   "metadata": {},
   "outputs": [
    {
     "data": {
      "text/plain": [
       "14478671"
      ]
     },
     "execution_count": 33,
     "metadata": {},
     "output_type": "execute_result"
    }
   ],
   "source": [
    "# размах\n",
    "df_csv_visa['estimate'].max() - df_csv_visa['estimate'].min()"
   ]
  },
  {
   "cell_type": "code",
   "execution_count": 35,
   "metadata": {},
   "outputs": [
    {
     "data": {
      "text/plain": [
       "2112470.0"
      ]
     },
     "execution_count": 35,
     "metadata": {},
     "output_type": "execute_result"
    }
   ],
   "source": [
    "# интерквартильный размах\n",
    "df_csv_visa['estimate'].quantile(0.75) - df_csv_visa['estimate'].quantile(0.25)"
   ]
  },
  {
   "cell_type": "code",
   "execution_count": 36,
   "metadata": {},
   "outputs": [
    {
     "name": "stdout",
     "output_type": "stream",
     "text": [
      "1917984.0\n",
      "1917984.0\n"
     ]
    }
   ],
   "source": [
    "# перцентили\n",
    "print(np.percentile(df_csv_visa['estimate'], 25))\n",
    "print(np.quantile(df_csv_visa['estimate'], 0.25))"
   ]
  },
  {
   "cell_type": "code",
   "execution_count": 71,
   "metadata": {},
   "outputs": [
    {
     "data": {
      "text/plain": [
       "(pandas.core.series.Series, pandas.core.frame.DataFrame)"
      ]
     },
     "execution_count": 71,
     "metadata": {},
     "output_type": "execute_result"
    }
   ],
   "source": [
    "type(pd.Series()), type(pd.DataFrame())"
   ]
  },
  {
   "cell_type": "code",
   "execution_count": 72,
   "metadata": {},
   "outputs": [
    {
     "name": "stdout",
     "output_type": "stream",
     "text": [
      "26553531731905.668\n",
      "5153011.908768082\n"
     ]
    }
   ],
   "source": [
    "Units_mean = df_csv_region['estimate'].mean()\n",
    "deviations = df_csv_region['estimate'] - Units_mean  # отклонения\n",
    "sq_deviations = deviations ** 2\n",
    "\n",
    "variance_samp = sq_deviations.sum() / (len(df_csv_region) - 1)  # дисперсия (для выборки)\n",
    "std_samp = np.sqrt(variance_samp)                            # среднеквадратичное отклонение\n",
    "print(variance_samp)\n",
    "print(std_samp)"
   ]
  },
  {
   "cell_type": "code",
   "execution_count": 73,
   "metadata": {},
   "outputs": [
    {
     "name": "stdout",
     "output_type": "stream",
     "text": [
      "22760170055919.145\n",
      "4770761.999504811\n"
     ]
    }
   ],
   "source": [
    "variance_pop = sq_deviations.sum() / len(df_csv_region)  # дисперсия (для ген совокупности)\n",
    "std_pop = np.sqrt(variance_pop)                       # среднеквадратичное отклонение\n",
    "print(variance_pop)\n",
    "print(std_pop)"
   ]
  },
  {
   "cell_type": "code",
   "execution_count": 74,
   "metadata": {},
   "outputs": [
    {
     "name": "stdout",
     "output_type": "stream",
     "text": [
      "26553531731905.668\n",
      "5153011.908768082\n"
     ]
    }
   ],
   "source": [
    "# для выборки\n",
    "print(df_csv_region['estimate'].var())\n",
    "print(df_csv_region['estimate'].std()) # print(np.sqrt(bikes_hour['Rental Count'].var()))"
   ]
  },
  {
   "cell_type": "code",
   "execution_count": 75,
   "metadata": {},
   "outputs": [
    {
     "name": "stdout",
     "output_type": "stream",
     "text": [
      "22760170055919.145\n",
      "4770761.999504811\n"
     ]
    }
   ],
   "source": [
    "# для ген совокупности\n",
    "print(df_csv_region['estimate'].var(ddof=0))\n",
    "print(df_csv_region['estimate'].std(ddof=0))"
   ]
  },
  {
   "cell_type": "code",
   "execution_count": 76,
   "metadata": {},
   "outputs": [
    {
     "data": {
      "application/javascript": "/* Put everything inside the global mpl namespace */\n/* global mpl */\nwindow.mpl = {};\n\nmpl.get_websocket_type = function () {\n    if (typeof WebSocket !== 'undefined') {\n        return WebSocket;\n    } else if (typeof MozWebSocket !== 'undefined') {\n        return MozWebSocket;\n    } else {\n        alert(\n            'Your browser does not have WebSocket support. ' +\n                'Please try Chrome, Safari or Firefox ≥ 6. ' +\n                'Firefox 4 and 5 are also supported but you ' +\n                'have to enable WebSockets in about:config.'\n        );\n    }\n};\n\nmpl.figure = function (figure_id, websocket, ondownload, parent_element) {\n    this.id = figure_id;\n\n    this.ws = websocket;\n\n    this.supports_binary = this.ws.binaryType !== undefined;\n\n    if (!this.supports_binary) {\n        var warnings = document.getElementById('mpl-warnings');\n        if (warnings) {\n            warnings.style.display = 'block';\n            warnings.textContent =\n                'This browser does not support binary websocket messages. ' +\n                'Performance may be slow.';\n        }\n    }\n\n    this.imageObj = new Image();\n\n    this.context = undefined;\n    this.message = undefined;\n    this.canvas = undefined;\n    this.rubberband_canvas = undefined;\n    this.rubberband_context = undefined;\n    this.format_dropdown = undefined;\n\n    this.image_mode = 'full';\n\n    this.root = document.createElement('div');\n    this.root.setAttribute('style', 'display: inline-block');\n    this._root_extra_style(this.root);\n\n    parent_element.appendChild(this.root);\n\n    this._init_header(this);\n    this._init_canvas(this);\n    this._init_toolbar(this);\n\n    var fig = this;\n\n    this.waiting = false;\n\n    this.ws.onopen = function () {\n        fig.send_message('supports_binary', { value: fig.supports_binary });\n        fig.send_message('send_image_mode', {});\n        if (fig.ratio !== 1) {\n            fig.send_message('set_device_pixel_ratio', {\n                device_pixel_ratio: fig.ratio,\n            });\n        }\n        fig.send_message('refresh', {});\n    };\n\n    this.imageObj.onload = function () {\n        if (fig.image_mode === 'full') {\n            // Full images could contain transparency (where diff images\n            // almost always do), so we need to clear the canvas so that\n            // there is no ghosting.\n            fig.context.clearRect(0, 0, fig.canvas.width, fig.canvas.height);\n        }\n        fig.context.drawImage(fig.imageObj, 0, 0);\n    };\n\n    this.imageObj.onunload = function () {\n        fig.ws.close();\n    };\n\n    this.ws.onmessage = this._make_on_message_function(this);\n\n    this.ondownload = ondownload;\n};\n\nmpl.figure.prototype._init_header = function () {\n    var titlebar = document.createElement('div');\n    titlebar.classList =\n        'ui-dialog-titlebar ui-widget-header ui-corner-all ui-helper-clearfix';\n    var titletext = document.createElement('div');\n    titletext.classList = 'ui-dialog-title';\n    titletext.setAttribute(\n        'style',\n        'width: 100%; text-align: center; padding: 3px;'\n    );\n    titlebar.appendChild(titletext);\n    this.root.appendChild(titlebar);\n    this.header = titletext;\n};\n\nmpl.figure.prototype._canvas_extra_style = function (_canvas_div) {};\n\nmpl.figure.prototype._root_extra_style = function (_canvas_div) {};\n\nmpl.figure.prototype._init_canvas = function () {\n    var fig = this;\n\n    var canvas_div = (this.canvas_div = document.createElement('div'));\n    canvas_div.setAttribute(\n        'style',\n        'border: 1px solid #ddd;' +\n            'box-sizing: content-box;' +\n            'clear: both;' +\n            'min-height: 1px;' +\n            'min-width: 1px;' +\n            'outline: 0;' +\n            'overflow: hidden;' +\n            'position: relative;' +\n            'resize: both;'\n    );\n\n    function on_keyboard_event_closure(name) {\n        return function (event) {\n            return fig.key_event(event, name);\n        };\n    }\n\n    canvas_div.addEventListener(\n        'keydown',\n        on_keyboard_event_closure('key_press')\n    );\n    canvas_div.addEventListener(\n        'keyup',\n        on_keyboard_event_closure('key_release')\n    );\n\n    this._canvas_extra_style(canvas_div);\n    this.root.appendChild(canvas_div);\n\n    var canvas = (this.canvas = document.createElement('canvas'));\n    canvas.classList.add('mpl-canvas');\n    canvas.setAttribute('style', 'box-sizing: content-box;');\n\n    this.context = canvas.getContext('2d');\n\n    var backingStore =\n        this.context.backingStorePixelRatio ||\n        this.context.webkitBackingStorePixelRatio ||\n        this.context.mozBackingStorePixelRatio ||\n        this.context.msBackingStorePixelRatio ||\n        this.context.oBackingStorePixelRatio ||\n        this.context.backingStorePixelRatio ||\n        1;\n\n    this.ratio = (window.devicePixelRatio || 1) / backingStore;\n\n    var rubberband_canvas = (this.rubberband_canvas = document.createElement(\n        'canvas'\n    ));\n    rubberband_canvas.setAttribute(\n        'style',\n        'box-sizing: content-box; position: absolute; left: 0; top: 0; z-index: 1;'\n    );\n\n    // Apply a ponyfill if ResizeObserver is not implemented by browser.\n    if (this.ResizeObserver === undefined) {\n        if (window.ResizeObserver !== undefined) {\n            this.ResizeObserver = window.ResizeObserver;\n        } else {\n            var obs = _JSXTOOLS_RESIZE_OBSERVER({});\n            this.ResizeObserver = obs.ResizeObserver;\n        }\n    }\n\n    this.resizeObserverInstance = new this.ResizeObserver(function (entries) {\n        var nentries = entries.length;\n        for (var i = 0; i < nentries; i++) {\n            var entry = entries[i];\n            var width, height;\n            if (entry.contentBoxSize) {\n                if (entry.contentBoxSize instanceof Array) {\n                    // Chrome 84 implements new version of spec.\n                    width = entry.contentBoxSize[0].inlineSize;\n                    height = entry.contentBoxSize[0].blockSize;\n                } else {\n                    // Firefox implements old version of spec.\n                    width = entry.contentBoxSize.inlineSize;\n                    height = entry.contentBoxSize.blockSize;\n                }\n            } else {\n                // Chrome <84 implements even older version of spec.\n                width = entry.contentRect.width;\n                height = entry.contentRect.height;\n            }\n\n            // Keep the size of the canvas and rubber band canvas in sync with\n            // the canvas container.\n            if (entry.devicePixelContentBoxSize) {\n                // Chrome 84 implements new version of spec.\n                canvas.setAttribute(\n                    'width',\n                    entry.devicePixelContentBoxSize[0].inlineSize\n                );\n                canvas.setAttribute(\n                    'height',\n                    entry.devicePixelContentBoxSize[0].blockSize\n                );\n            } else {\n                canvas.setAttribute('width', width * fig.ratio);\n                canvas.setAttribute('height', height * fig.ratio);\n            }\n            canvas.setAttribute(\n                'style',\n                'width: ' + width + 'px; height: ' + height + 'px;'\n            );\n\n            rubberband_canvas.setAttribute('width', width);\n            rubberband_canvas.setAttribute('height', height);\n\n            // And update the size in Python. We ignore the initial 0/0 size\n            // that occurs as the element is placed into the DOM, which should\n            // otherwise not happen due to the minimum size styling.\n            if (fig.ws.readyState == 1 && width != 0 && height != 0) {\n                fig.request_resize(width, height);\n            }\n        }\n    });\n    this.resizeObserverInstance.observe(canvas_div);\n\n    function on_mouse_event_closure(name) {\n        return function (event) {\n            return fig.mouse_event(event, name);\n        };\n    }\n\n    rubberband_canvas.addEventListener(\n        'mousedown',\n        on_mouse_event_closure('button_press')\n    );\n    rubberband_canvas.addEventListener(\n        'mouseup',\n        on_mouse_event_closure('button_release')\n    );\n    rubberband_canvas.addEventListener(\n        'dblclick',\n        on_mouse_event_closure('dblclick')\n    );\n    // Throttle sequential mouse events to 1 every 20ms.\n    rubberband_canvas.addEventListener(\n        'mousemove',\n        on_mouse_event_closure('motion_notify')\n    );\n\n    rubberband_canvas.addEventListener(\n        'mouseenter',\n        on_mouse_event_closure('figure_enter')\n    );\n    rubberband_canvas.addEventListener(\n        'mouseleave',\n        on_mouse_event_closure('figure_leave')\n    );\n\n    canvas_div.addEventListener('wheel', function (event) {\n        if (event.deltaY < 0) {\n            event.step = 1;\n        } else {\n            event.step = -1;\n        }\n        on_mouse_event_closure('scroll')(event);\n    });\n\n    canvas_div.appendChild(canvas);\n    canvas_div.appendChild(rubberband_canvas);\n\n    this.rubberband_context = rubberband_canvas.getContext('2d');\n    this.rubberband_context.strokeStyle = '#000000';\n\n    this._resize_canvas = function (width, height, forward) {\n        if (forward) {\n            canvas_div.style.width = width + 'px';\n            canvas_div.style.height = height + 'px';\n        }\n    };\n\n    // Disable right mouse context menu.\n    this.rubberband_canvas.addEventListener('contextmenu', function (_e) {\n        event.preventDefault();\n        return false;\n    });\n\n    function set_focus() {\n        canvas.focus();\n        canvas_div.focus();\n    }\n\n    window.setTimeout(set_focus, 100);\n};\n\nmpl.figure.prototype._init_toolbar = function () {\n    var fig = this;\n\n    var toolbar = document.createElement('div');\n    toolbar.classList = 'mpl-toolbar';\n    this.root.appendChild(toolbar);\n\n    function on_click_closure(name) {\n        return function (_event) {\n            return fig.toolbar_button_onclick(name);\n        };\n    }\n\n    function on_mouseover_closure(tooltip) {\n        return function (event) {\n            if (!event.currentTarget.disabled) {\n                return fig.toolbar_button_onmouseover(tooltip);\n            }\n        };\n    }\n\n    fig.buttons = {};\n    var buttonGroup = document.createElement('div');\n    buttonGroup.classList = 'mpl-button-group';\n    for (var toolbar_ind in mpl.toolbar_items) {\n        var name = mpl.toolbar_items[toolbar_ind][0];\n        var tooltip = mpl.toolbar_items[toolbar_ind][1];\n        var image = mpl.toolbar_items[toolbar_ind][2];\n        var method_name = mpl.toolbar_items[toolbar_ind][3];\n\n        if (!name) {\n            /* Instead of a spacer, we start a new button group. */\n            if (buttonGroup.hasChildNodes()) {\n                toolbar.appendChild(buttonGroup);\n            }\n            buttonGroup = document.createElement('div');\n            buttonGroup.classList = 'mpl-button-group';\n            continue;\n        }\n\n        var button = (fig.buttons[name] = document.createElement('button'));\n        button.classList = 'mpl-widget';\n        button.setAttribute('role', 'button');\n        button.setAttribute('aria-disabled', 'false');\n        button.addEventListener('click', on_click_closure(method_name));\n        button.addEventListener('mouseover', on_mouseover_closure(tooltip));\n\n        var icon_img = document.createElement('img');\n        icon_img.src = '_images/' + image + '.png';\n        icon_img.srcset = '_images/' + image + '_large.png 2x';\n        icon_img.alt = tooltip;\n        button.appendChild(icon_img);\n\n        buttonGroup.appendChild(button);\n    }\n\n    if (buttonGroup.hasChildNodes()) {\n        toolbar.appendChild(buttonGroup);\n    }\n\n    var fmt_picker = document.createElement('select');\n    fmt_picker.classList = 'mpl-widget';\n    toolbar.appendChild(fmt_picker);\n    this.format_dropdown = fmt_picker;\n\n    for (var ind in mpl.extensions) {\n        var fmt = mpl.extensions[ind];\n        var option = document.createElement('option');\n        option.selected = fmt === mpl.default_extension;\n        option.innerHTML = fmt;\n        fmt_picker.appendChild(option);\n    }\n\n    var status_bar = document.createElement('span');\n    status_bar.classList = 'mpl-message';\n    toolbar.appendChild(status_bar);\n    this.message = status_bar;\n};\n\nmpl.figure.prototype.request_resize = function (x_pixels, y_pixels) {\n    // Request matplotlib to resize the figure. Matplotlib will then trigger a resize in the client,\n    // which will in turn request a refresh of the image.\n    this.send_message('resize', { width: x_pixels, height: y_pixels });\n};\n\nmpl.figure.prototype.send_message = function (type, properties) {\n    properties['type'] = type;\n    properties['figure_id'] = this.id;\n    this.ws.send(JSON.stringify(properties));\n};\n\nmpl.figure.prototype.send_draw_message = function () {\n    if (!this.waiting) {\n        this.waiting = true;\n        this.ws.send(JSON.stringify({ type: 'draw', figure_id: this.id }));\n    }\n};\n\nmpl.figure.prototype.handle_save = function (fig, _msg) {\n    var format_dropdown = fig.format_dropdown;\n    var format = format_dropdown.options[format_dropdown.selectedIndex].value;\n    fig.ondownload(fig, format);\n};\n\nmpl.figure.prototype.handle_resize = function (fig, msg) {\n    var size = msg['size'];\n    if (size[0] !== fig.canvas.width || size[1] !== fig.canvas.height) {\n        fig._resize_canvas(size[0], size[1], msg['forward']);\n        fig.send_message('refresh', {});\n    }\n};\n\nmpl.figure.prototype.handle_rubberband = function (fig, msg) {\n    var x0 = msg['x0'] / fig.ratio;\n    var y0 = (fig.canvas.height - msg['y0']) / fig.ratio;\n    var x1 = msg['x1'] / fig.ratio;\n    var y1 = (fig.canvas.height - msg['y1']) / fig.ratio;\n    x0 = Math.floor(x0) + 0.5;\n    y0 = Math.floor(y0) + 0.5;\n    x1 = Math.floor(x1) + 0.5;\n    y1 = Math.floor(y1) + 0.5;\n    var min_x = Math.min(x0, x1);\n    var min_y = Math.min(y0, y1);\n    var width = Math.abs(x1 - x0);\n    var height = Math.abs(y1 - y0);\n\n    fig.rubberband_context.clearRect(\n        0,\n        0,\n        fig.canvas.width / fig.ratio,\n        fig.canvas.height / fig.ratio\n    );\n\n    fig.rubberband_context.strokeRect(min_x, min_y, width, height);\n};\n\nmpl.figure.prototype.handle_figure_label = function (fig, msg) {\n    // Updates the figure title.\n    fig.header.textContent = msg['label'];\n};\n\nmpl.figure.prototype.handle_cursor = function (fig, msg) {\n    fig.rubberband_canvas.style.cursor = msg['cursor'];\n};\n\nmpl.figure.prototype.handle_message = function (fig, msg) {\n    fig.message.textContent = msg['message'];\n};\n\nmpl.figure.prototype.handle_draw = function (fig, _msg) {\n    // Request the server to send over a new figure.\n    fig.send_draw_message();\n};\n\nmpl.figure.prototype.handle_image_mode = function (fig, msg) {\n    fig.image_mode = msg['mode'];\n};\n\nmpl.figure.prototype.handle_history_buttons = function (fig, msg) {\n    for (var key in msg) {\n        if (!(key in fig.buttons)) {\n            continue;\n        }\n        fig.buttons[key].disabled = !msg[key];\n        fig.buttons[key].setAttribute('aria-disabled', !msg[key]);\n    }\n};\n\nmpl.figure.prototype.handle_navigate_mode = function (fig, msg) {\n    if (msg['mode'] === 'PAN') {\n        fig.buttons['Pan'].classList.add('active');\n        fig.buttons['Zoom'].classList.remove('active');\n    } else if (msg['mode'] === 'ZOOM') {\n        fig.buttons['Pan'].classList.remove('active');\n        fig.buttons['Zoom'].classList.add('active');\n    } else {\n        fig.buttons['Pan'].classList.remove('active');\n        fig.buttons['Zoom'].classList.remove('active');\n    }\n};\n\nmpl.figure.prototype.updated_canvas_event = function () {\n    // Called whenever the canvas gets updated.\n    this.send_message('ack', {});\n};\n\n// A function to construct a web socket function for onmessage handling.\n// Called in the figure constructor.\nmpl.figure.prototype._make_on_message_function = function (fig) {\n    return function socket_on_message(evt) {\n        if (evt.data instanceof Blob) {\n            var img = evt.data;\n            if (img.type !== 'image/png') {\n                /* FIXME: We get \"Resource interpreted as Image but\n                 * transferred with MIME type text/plain:\" errors on\n                 * Chrome.  But how to set the MIME type?  It doesn't seem\n                 * to be part of the websocket stream */\n                img.type = 'image/png';\n            }\n\n            /* Free the memory for the previous frames */\n            if (fig.imageObj.src) {\n                (window.URL || window.webkitURL).revokeObjectURL(\n                    fig.imageObj.src\n                );\n            }\n\n            fig.imageObj.src = (window.URL || window.webkitURL).createObjectURL(\n                img\n            );\n            fig.updated_canvas_event();\n            fig.waiting = false;\n            return;\n        } else if (\n            typeof evt.data === 'string' &&\n            evt.data.slice(0, 21) === 'data:image/png;base64'\n        ) {\n            fig.imageObj.src = evt.data;\n            fig.updated_canvas_event();\n            fig.waiting = false;\n            return;\n        }\n\n        var msg = JSON.parse(evt.data);\n        var msg_type = msg['type'];\n\n        // Call the  \"handle_{type}\" callback, which takes\n        // the figure and JSON message as its only arguments.\n        try {\n            var callback = fig['handle_' + msg_type];\n        } catch (e) {\n            console.log(\n                \"No handler for the '\" + msg_type + \"' message type: \",\n                msg\n            );\n            return;\n        }\n\n        if (callback) {\n            try {\n                // console.log(\"Handling '\" + msg_type + \"' message: \", msg);\n                callback(fig, msg);\n            } catch (e) {\n                console.log(\n                    \"Exception inside the 'handler_\" + msg_type + \"' callback:\",\n                    e,\n                    e.stack,\n                    msg\n                );\n            }\n        }\n    };\n};\n\n// from https://stackoverflow.com/questions/1114465/getting-mouse-location-in-canvas\nmpl.findpos = function (e) {\n    //this section is from http://www.quirksmode.org/js/events_properties.html\n    var targ;\n    if (!e) {\n        e = window.event;\n    }\n    if (e.target) {\n        targ = e.target;\n    } else if (e.srcElement) {\n        targ = e.srcElement;\n    }\n    if (targ.nodeType === 3) {\n        // defeat Safari bug\n        targ = targ.parentNode;\n    }\n\n    // pageX,Y are the mouse positions relative to the document\n    var boundingRect = targ.getBoundingClientRect();\n    var x = e.pageX - (boundingRect.left + document.body.scrollLeft);\n    var y = e.pageY - (boundingRect.top + document.body.scrollTop);\n\n    return { x: x, y: y };\n};\n\n/*\n * return a copy of an object with only non-object keys\n * we need this to avoid circular references\n * https://stackoverflow.com/a/24161582/3208463\n */\nfunction simpleKeys(original) {\n    return Object.keys(original).reduce(function (obj, key) {\n        if (typeof original[key] !== 'object') {\n            obj[key] = original[key];\n        }\n        return obj;\n    }, {});\n}\n\nmpl.figure.prototype.mouse_event = function (event, name) {\n    var canvas_pos = mpl.findpos(event);\n\n    if (name === 'button_press') {\n        this.canvas.focus();\n        this.canvas_div.focus();\n    }\n\n    var x = canvas_pos.x * this.ratio;\n    var y = canvas_pos.y * this.ratio;\n\n    this.send_message(name, {\n        x: x,\n        y: y,\n        button: event.button,\n        step: event.step,\n        guiEvent: simpleKeys(event),\n    });\n\n    /* This prevents the web browser from automatically changing to\n     * the text insertion cursor when the button is pressed.  We want\n     * to control all of the cursor setting manually through the\n     * 'cursor' event from matplotlib */\n    event.preventDefault();\n    return false;\n};\n\nmpl.figure.prototype._key_event_extra = function (_event, _name) {\n    // Handle any extra behaviour associated with a key event\n};\n\nmpl.figure.prototype.key_event = function (event, name) {\n    // Prevent repeat events\n    if (name === 'key_press') {\n        if (event.key === this._key) {\n            return;\n        } else {\n            this._key = event.key;\n        }\n    }\n    if (name === 'key_release') {\n        this._key = null;\n    }\n\n    var value = '';\n    if (event.ctrlKey && event.key !== 'Control') {\n        value += 'ctrl+';\n    }\n    else if (event.altKey && event.key !== 'Alt') {\n        value += 'alt+';\n    }\n    else if (event.shiftKey && event.key !== 'Shift') {\n        value += 'shift+';\n    }\n\n    value += 'k' + event.key;\n\n    this._key_event_extra(event, name);\n\n    this.send_message(name, { key: value, guiEvent: simpleKeys(event) });\n    return false;\n};\n\nmpl.figure.prototype.toolbar_button_onclick = function (name) {\n    if (name === 'download') {\n        this.handle_save(this, null);\n    } else {\n        this.send_message('toolbar_button', { name: name });\n    }\n};\n\nmpl.figure.prototype.toolbar_button_onmouseover = function (tooltip) {\n    this.message.textContent = tooltip;\n};\n\n///////////////// REMAINING CONTENT GENERATED BY embed_js.py /////////////////\n// prettier-ignore\nvar _JSXTOOLS_RESIZE_OBSERVER=function(A){var t,i=new WeakMap,n=new WeakMap,a=new WeakMap,r=new WeakMap,o=new Set;function s(e){if(!(this instanceof s))throw new TypeError(\"Constructor requires 'new' operator\");i.set(this,e)}function h(){throw new TypeError(\"Function is not a constructor\")}function c(e,t,i,n){e=0 in arguments?Number(arguments[0]):0,t=1 in arguments?Number(arguments[1]):0,i=2 in arguments?Number(arguments[2]):0,n=3 in arguments?Number(arguments[3]):0,this.right=(this.x=this.left=e)+(this.width=i),this.bottom=(this.y=this.top=t)+(this.height=n),Object.freeze(this)}function d(){t=requestAnimationFrame(d);var s=new WeakMap,p=new Set;o.forEach((function(t){r.get(t).forEach((function(i){var r=t instanceof window.SVGElement,o=a.get(t),d=r?0:parseFloat(o.paddingTop),f=r?0:parseFloat(o.paddingRight),l=r?0:parseFloat(o.paddingBottom),u=r?0:parseFloat(o.paddingLeft),g=r?0:parseFloat(o.borderTopWidth),m=r?0:parseFloat(o.borderRightWidth),w=r?0:parseFloat(o.borderBottomWidth),b=u+f,F=d+l,v=(r?0:parseFloat(o.borderLeftWidth))+m,W=g+w,y=r?0:t.offsetHeight-W-t.clientHeight,E=r?0:t.offsetWidth-v-t.clientWidth,R=b+v,z=F+W,M=r?t.width:parseFloat(o.width)-R-E,O=r?t.height:parseFloat(o.height)-z-y;if(n.has(t)){var k=n.get(t);if(k[0]===M&&k[1]===O)return}n.set(t,[M,O]);var S=Object.create(h.prototype);S.target=t,S.contentRect=new c(u,d,M,O),s.has(i)||(s.set(i,[]),p.add(i)),s.get(i).push(S)}))})),p.forEach((function(e){i.get(e).call(e,s.get(e),e)}))}return s.prototype.observe=function(i){if(i instanceof window.Element){r.has(i)||(r.set(i,new Set),o.add(i),a.set(i,window.getComputedStyle(i)));var n=r.get(i);n.has(this)||n.add(this),cancelAnimationFrame(t),t=requestAnimationFrame(d)}},s.prototype.unobserve=function(i){if(i instanceof window.Element&&r.has(i)){var n=r.get(i);n.has(this)&&(n.delete(this),n.size||(r.delete(i),o.delete(i))),n.size||r.delete(i),o.size||cancelAnimationFrame(t)}},A.DOMRectReadOnly=c,A.ResizeObserver=s,A.ResizeObserverEntry=h,A}; // eslint-disable-line\nmpl.toolbar_items = [[\"Home\", \"Reset original view\", \"fa fa-home icon-home\", \"home\"], [\"Back\", \"Back to previous view\", \"fa fa-arrow-left icon-arrow-left\", \"back\"], [\"Forward\", \"Forward to next view\", \"fa fa-arrow-right icon-arrow-right\", \"forward\"], [\"\", \"\", \"\", \"\"], [\"Pan\", \"Left button pans, Right button zooms\\nx/y fixes axis, CTRL fixes aspect\", \"fa fa-arrows icon-move\", \"pan\"], [\"Zoom\", \"Zoom to rectangle\\nx/y fixes axis\", \"fa fa-square-o icon-check-empty\", \"zoom\"], [\"\", \"\", \"\", \"\"], [\"Download\", \"Download plot\", \"fa fa-floppy-o icon-save\", \"download\"]];\n\nmpl.extensions = [\"eps\", \"jpeg\", \"pgf\", \"pdf\", \"png\", \"ps\", \"raw\", \"svg\", \"tif\"];\n\nmpl.default_extension = \"png\";/* global mpl */\n\nvar comm_websocket_adapter = function (comm) {\n    // Create a \"websocket\"-like object which calls the given IPython comm\n    // object with the appropriate methods. Currently this is a non binary\n    // socket, so there is still some room for performance tuning.\n    var ws = {};\n\n    ws.binaryType = comm.kernel.ws.binaryType;\n    ws.readyState = comm.kernel.ws.readyState;\n    function updateReadyState(_event) {\n        if (comm.kernel.ws) {\n            ws.readyState = comm.kernel.ws.readyState;\n        } else {\n            ws.readyState = 3; // Closed state.\n        }\n    }\n    comm.kernel.ws.addEventListener('open', updateReadyState);\n    comm.kernel.ws.addEventListener('close', updateReadyState);\n    comm.kernel.ws.addEventListener('error', updateReadyState);\n\n    ws.close = function () {\n        comm.close();\n    };\n    ws.send = function (m) {\n        //console.log('sending', m);\n        comm.send(m);\n    };\n    // Register the callback with on_msg.\n    comm.on_msg(function (msg) {\n        //console.log('receiving', msg['content']['data'], msg);\n        var data = msg['content']['data'];\n        if (data['blob'] !== undefined) {\n            data = {\n                data: new Blob(msg['buffers'], { type: data['blob'] }),\n            };\n        }\n        // Pass the mpl event to the overridden (by mpl) onmessage function.\n        ws.onmessage(data);\n    });\n    return ws;\n};\n\nmpl.mpl_figure_comm = function (comm, msg) {\n    // This is the function which gets called when the mpl process\n    // starts-up an IPython Comm through the \"matplotlib\" channel.\n\n    var id = msg.content.data.id;\n    // Get hold of the div created by the display call when the Comm\n    // socket was opened in Python.\n    var element = document.getElementById(id);\n    var ws_proxy = comm_websocket_adapter(comm);\n\n    function ondownload(figure, _format) {\n        window.open(figure.canvas.toDataURL());\n    }\n\n    var fig = new mpl.figure(id, ws_proxy, ondownload, element);\n\n    // Call onopen now - mpl needs it, as it is assuming we've passed it a real\n    // web socket which is closed, not our websocket->open comm proxy.\n    ws_proxy.onopen();\n\n    fig.parent_element = element;\n    fig.cell_info = mpl.find_output_cell(\"<div id='\" + id + \"'></div>\");\n    if (!fig.cell_info) {\n        console.error('Failed to find cell for figure', id, fig);\n        return;\n    }\n    fig.cell_info[0].output_area.element.on(\n        'cleared',\n        { fig: fig },\n        fig._remove_fig_handler\n    );\n};\n\nmpl.figure.prototype.handle_close = function (fig, msg) {\n    var width = fig.canvas.width / fig.ratio;\n    fig.cell_info[0].output_area.element.off(\n        'cleared',\n        fig._remove_fig_handler\n    );\n    fig.resizeObserverInstance.unobserve(fig.canvas_div);\n\n    // Update the output cell to use the data from the current canvas.\n    fig.push_to_output();\n    var dataURL = fig.canvas.toDataURL();\n    // Re-enable the keyboard manager in IPython - without this line, in FF,\n    // the notebook keyboard shortcuts fail.\n    IPython.keyboard_manager.enable();\n    fig.parent_element.innerHTML =\n        '<img src=\"' + dataURL + '\" width=\"' + width + '\">';\n    fig.close_ws(fig, msg);\n};\n\nmpl.figure.prototype.close_ws = function (fig, msg) {\n    fig.send_message('closing', msg);\n    // fig.ws.close()\n};\n\nmpl.figure.prototype.push_to_output = function (_remove_interactive) {\n    // Turn the data on the canvas into data in the output cell.\n    var width = this.canvas.width / this.ratio;\n    var dataURL = this.canvas.toDataURL();\n    this.cell_info[1]['text/html'] =\n        '<img src=\"' + dataURL + '\" width=\"' + width + '\">';\n};\n\nmpl.figure.prototype.updated_canvas_event = function () {\n    // Tell IPython that the notebook contents must change.\n    IPython.notebook.set_dirty(true);\n    this.send_message('ack', {});\n    var fig = this;\n    // Wait a second, then push the new image to the DOM so\n    // that it is saved nicely (might be nice to debounce this).\n    setTimeout(function () {\n        fig.push_to_output();\n    }, 1000);\n};\n\nmpl.figure.prototype._init_toolbar = function () {\n    var fig = this;\n\n    var toolbar = document.createElement('div');\n    toolbar.classList = 'btn-toolbar';\n    this.root.appendChild(toolbar);\n\n    function on_click_closure(name) {\n        return function (_event) {\n            return fig.toolbar_button_onclick(name);\n        };\n    }\n\n    function on_mouseover_closure(tooltip) {\n        return function (event) {\n            if (!event.currentTarget.disabled) {\n                return fig.toolbar_button_onmouseover(tooltip);\n            }\n        };\n    }\n\n    fig.buttons = {};\n    var buttonGroup = document.createElement('div');\n    buttonGroup.classList = 'btn-group';\n    var button;\n    for (var toolbar_ind in mpl.toolbar_items) {\n        var name = mpl.toolbar_items[toolbar_ind][0];\n        var tooltip = mpl.toolbar_items[toolbar_ind][1];\n        var image = mpl.toolbar_items[toolbar_ind][2];\n        var method_name = mpl.toolbar_items[toolbar_ind][3];\n\n        if (!name) {\n            /* Instead of a spacer, we start a new button group. */\n            if (buttonGroup.hasChildNodes()) {\n                toolbar.appendChild(buttonGroup);\n            }\n            buttonGroup = document.createElement('div');\n            buttonGroup.classList = 'btn-group';\n            continue;\n        }\n\n        button = fig.buttons[name] = document.createElement('button');\n        button.classList = 'btn btn-default';\n        button.href = '#';\n        button.title = name;\n        button.innerHTML = '<i class=\"fa ' + image + ' fa-lg\"></i>';\n        button.addEventListener('click', on_click_closure(method_name));\n        button.addEventListener('mouseover', on_mouseover_closure(tooltip));\n        buttonGroup.appendChild(button);\n    }\n\n    if (buttonGroup.hasChildNodes()) {\n        toolbar.appendChild(buttonGroup);\n    }\n\n    // Add the status bar.\n    var status_bar = document.createElement('span');\n    status_bar.classList = 'mpl-message pull-right';\n    toolbar.appendChild(status_bar);\n    this.message = status_bar;\n\n    // Add the close button to the window.\n    var buttongrp = document.createElement('div');\n    buttongrp.classList = 'btn-group inline pull-right';\n    button = document.createElement('button');\n    button.classList = 'btn btn-mini btn-primary';\n    button.href = '#';\n    button.title = 'Stop Interaction';\n    button.innerHTML = '<i class=\"fa fa-power-off icon-remove icon-large\"></i>';\n    button.addEventListener('click', function (_evt) {\n        fig.handle_close(fig, {});\n    });\n    button.addEventListener(\n        'mouseover',\n        on_mouseover_closure('Stop Interaction')\n    );\n    buttongrp.appendChild(button);\n    var titlebar = this.root.querySelector('.ui-dialog-titlebar');\n    titlebar.insertBefore(buttongrp, titlebar.firstChild);\n};\n\nmpl.figure.prototype._remove_fig_handler = function (event) {\n    var fig = event.data.fig;\n    if (event.target !== this) {\n        // Ignore bubbled events from children.\n        return;\n    }\n    fig.close_ws(fig, {});\n};\n\nmpl.figure.prototype._root_extra_style = function (el) {\n    el.style.boxSizing = 'content-box'; // override notebook setting of border-box.\n};\n\nmpl.figure.prototype._canvas_extra_style = function (el) {\n    // this is important to make the div 'focusable\n    el.setAttribute('tabindex', 0);\n    // reach out to IPython and tell the keyboard manager to turn it's self\n    // off when our div gets focus\n\n    // location in version 3\n    if (IPython.notebook.keyboard_manager) {\n        IPython.notebook.keyboard_manager.register_events(el);\n    } else {\n        // location in version 2\n        IPython.keyboard_manager.register_events(el);\n    }\n};\n\nmpl.figure.prototype._key_event_extra = function (event, _name) {\n    // Check for shift+enter\n    if (event.shiftKey && event.which === 13) {\n        this.canvas_div.blur();\n        // select the cell after this one\n        var index = IPython.notebook.find_cell_index(this.cell_info[0]);\n        IPython.notebook.select(index + 1);\n    }\n};\n\nmpl.figure.prototype.handle_save = function (fig, _msg) {\n    fig.ondownload(fig, null);\n};\n\nmpl.find_output_cell = function (html_output) {\n    // Return the cell and output element which can be found *uniquely* in the notebook.\n    // Note - this is a bit hacky, but it is done because the \"notebook_saving.Notebook\"\n    // IPython event is triggered only after the cells have been serialised, which for\n    // our purposes (turning an active figure into a static one), is too late.\n    var cells = IPython.notebook.get_cells();\n    var ncells = cells.length;\n    for (var i = 0; i < ncells; i++) {\n        var cell = cells[i];\n        if (cell.cell_type === 'code') {\n            for (var j = 0; j < cell.output_area.outputs.length; j++) {\n                var data = cell.output_area.outputs[j];\n                if (data.data) {\n                    // IPython >= 3 moved mimebundle to data attribute of output\n                    data = data.data;\n                }\n                if (data['text/html'] === html_output) {\n                    return [cell, data, j];\n                }\n            }\n        }\n    }\n};\n\n// Register the function which deals with the matplotlib target/channel.\n// The kernel may be null if the page has been refreshed.\nif (IPython.notebook.kernel !== null) {\n    IPython.notebook.kernel.comm_manager.register_target(\n        'matplotlib',\n        mpl.mpl_figure_comm\n    );\n}\n",
      "text/plain": [
       "<IPython.core.display.Javascript object>"
      ]
     },
     "metadata": {},
     "output_type": "display_data"
    },
    {
     "data": {
      "text/html": [
       "<div id='520a7a19-d97f-4321-ae0e-b7424a5760fb'></div>"
      ],
      "text/plain": [
       "<IPython.core.display.HTML object>"
      ]
     },
     "metadata": {},
     "output_type": "display_data"
    }
   ],
   "source": [
    "x = np.linspace(0, 10, 1000)\n",
    "plt.plot(x, x + 0, '-g')  # solid green\n",
    "plt.plot(x, x + 1, '--c') # dashed cyan\n",
    "plt.plot(x, x + 2, '-.k') # dashdot black\n",
    "plt.plot(x, x + 3, ':r'); # dotted red"
   ]
  },
  {
   "cell_type": "code",
   "execution_count": 77,
   "metadata": {},
   "outputs": [
    {
     "data": {
      "application/javascript": "/* Put everything inside the global mpl namespace */\n/* global mpl */\nwindow.mpl = {};\n\nmpl.get_websocket_type = function () {\n    if (typeof WebSocket !== 'undefined') {\n        return WebSocket;\n    } else if (typeof MozWebSocket !== 'undefined') {\n        return MozWebSocket;\n    } else {\n        alert(\n            'Your browser does not have WebSocket support. ' +\n                'Please try Chrome, Safari or Firefox ≥ 6. ' +\n                'Firefox 4 and 5 are also supported but you ' +\n                'have to enable WebSockets in about:config.'\n        );\n    }\n};\n\nmpl.figure = function (figure_id, websocket, ondownload, parent_element) {\n    this.id = figure_id;\n\n    this.ws = websocket;\n\n    this.supports_binary = this.ws.binaryType !== undefined;\n\n    if (!this.supports_binary) {\n        var warnings = document.getElementById('mpl-warnings');\n        if (warnings) {\n            warnings.style.display = 'block';\n            warnings.textContent =\n                'This browser does not support binary websocket messages. ' +\n                'Performance may be slow.';\n        }\n    }\n\n    this.imageObj = new Image();\n\n    this.context = undefined;\n    this.message = undefined;\n    this.canvas = undefined;\n    this.rubberband_canvas = undefined;\n    this.rubberband_context = undefined;\n    this.format_dropdown = undefined;\n\n    this.image_mode = 'full';\n\n    this.root = document.createElement('div');\n    this.root.setAttribute('style', 'display: inline-block');\n    this._root_extra_style(this.root);\n\n    parent_element.appendChild(this.root);\n\n    this._init_header(this);\n    this._init_canvas(this);\n    this._init_toolbar(this);\n\n    var fig = this;\n\n    this.waiting = false;\n\n    this.ws.onopen = function () {\n        fig.send_message('supports_binary', { value: fig.supports_binary });\n        fig.send_message('send_image_mode', {});\n        if (fig.ratio !== 1) {\n            fig.send_message('set_device_pixel_ratio', {\n                device_pixel_ratio: fig.ratio,\n            });\n        }\n        fig.send_message('refresh', {});\n    };\n\n    this.imageObj.onload = function () {\n        if (fig.image_mode === 'full') {\n            // Full images could contain transparency (where diff images\n            // almost always do), so we need to clear the canvas so that\n            // there is no ghosting.\n            fig.context.clearRect(0, 0, fig.canvas.width, fig.canvas.height);\n        }\n        fig.context.drawImage(fig.imageObj, 0, 0);\n    };\n\n    this.imageObj.onunload = function () {\n        fig.ws.close();\n    };\n\n    this.ws.onmessage = this._make_on_message_function(this);\n\n    this.ondownload = ondownload;\n};\n\nmpl.figure.prototype._init_header = function () {\n    var titlebar = document.createElement('div');\n    titlebar.classList =\n        'ui-dialog-titlebar ui-widget-header ui-corner-all ui-helper-clearfix';\n    var titletext = document.createElement('div');\n    titletext.classList = 'ui-dialog-title';\n    titletext.setAttribute(\n        'style',\n        'width: 100%; text-align: center; padding: 3px;'\n    );\n    titlebar.appendChild(titletext);\n    this.root.appendChild(titlebar);\n    this.header = titletext;\n};\n\nmpl.figure.prototype._canvas_extra_style = function (_canvas_div) {};\n\nmpl.figure.prototype._root_extra_style = function (_canvas_div) {};\n\nmpl.figure.prototype._init_canvas = function () {\n    var fig = this;\n\n    var canvas_div = (this.canvas_div = document.createElement('div'));\n    canvas_div.setAttribute(\n        'style',\n        'border: 1px solid #ddd;' +\n            'box-sizing: content-box;' +\n            'clear: both;' +\n            'min-height: 1px;' +\n            'min-width: 1px;' +\n            'outline: 0;' +\n            'overflow: hidden;' +\n            'position: relative;' +\n            'resize: both;'\n    );\n\n    function on_keyboard_event_closure(name) {\n        return function (event) {\n            return fig.key_event(event, name);\n        };\n    }\n\n    canvas_div.addEventListener(\n        'keydown',\n        on_keyboard_event_closure('key_press')\n    );\n    canvas_div.addEventListener(\n        'keyup',\n        on_keyboard_event_closure('key_release')\n    );\n\n    this._canvas_extra_style(canvas_div);\n    this.root.appendChild(canvas_div);\n\n    var canvas = (this.canvas = document.createElement('canvas'));\n    canvas.classList.add('mpl-canvas');\n    canvas.setAttribute('style', 'box-sizing: content-box;');\n\n    this.context = canvas.getContext('2d');\n\n    var backingStore =\n        this.context.backingStorePixelRatio ||\n        this.context.webkitBackingStorePixelRatio ||\n        this.context.mozBackingStorePixelRatio ||\n        this.context.msBackingStorePixelRatio ||\n        this.context.oBackingStorePixelRatio ||\n        this.context.backingStorePixelRatio ||\n        1;\n\n    this.ratio = (window.devicePixelRatio || 1) / backingStore;\n\n    var rubberband_canvas = (this.rubberband_canvas = document.createElement(\n        'canvas'\n    ));\n    rubberband_canvas.setAttribute(\n        'style',\n        'box-sizing: content-box; position: absolute; left: 0; top: 0; z-index: 1;'\n    );\n\n    // Apply a ponyfill if ResizeObserver is not implemented by browser.\n    if (this.ResizeObserver === undefined) {\n        if (window.ResizeObserver !== undefined) {\n            this.ResizeObserver = window.ResizeObserver;\n        } else {\n            var obs = _JSXTOOLS_RESIZE_OBSERVER({});\n            this.ResizeObserver = obs.ResizeObserver;\n        }\n    }\n\n    this.resizeObserverInstance = new this.ResizeObserver(function (entries) {\n        var nentries = entries.length;\n        for (var i = 0; i < nentries; i++) {\n            var entry = entries[i];\n            var width, height;\n            if (entry.contentBoxSize) {\n                if (entry.contentBoxSize instanceof Array) {\n                    // Chrome 84 implements new version of spec.\n                    width = entry.contentBoxSize[0].inlineSize;\n                    height = entry.contentBoxSize[0].blockSize;\n                } else {\n                    // Firefox implements old version of spec.\n                    width = entry.contentBoxSize.inlineSize;\n                    height = entry.contentBoxSize.blockSize;\n                }\n            } else {\n                // Chrome <84 implements even older version of spec.\n                width = entry.contentRect.width;\n                height = entry.contentRect.height;\n            }\n\n            // Keep the size of the canvas and rubber band canvas in sync with\n            // the canvas container.\n            if (entry.devicePixelContentBoxSize) {\n                // Chrome 84 implements new version of spec.\n                canvas.setAttribute(\n                    'width',\n                    entry.devicePixelContentBoxSize[0].inlineSize\n                );\n                canvas.setAttribute(\n                    'height',\n                    entry.devicePixelContentBoxSize[0].blockSize\n                );\n            } else {\n                canvas.setAttribute('width', width * fig.ratio);\n                canvas.setAttribute('height', height * fig.ratio);\n            }\n            canvas.setAttribute(\n                'style',\n                'width: ' + width + 'px; height: ' + height + 'px;'\n            );\n\n            rubberband_canvas.setAttribute('width', width);\n            rubberband_canvas.setAttribute('height', height);\n\n            // And update the size in Python. We ignore the initial 0/0 size\n            // that occurs as the element is placed into the DOM, which should\n            // otherwise not happen due to the minimum size styling.\n            if (fig.ws.readyState == 1 && width != 0 && height != 0) {\n                fig.request_resize(width, height);\n            }\n        }\n    });\n    this.resizeObserverInstance.observe(canvas_div);\n\n    function on_mouse_event_closure(name) {\n        return function (event) {\n            return fig.mouse_event(event, name);\n        };\n    }\n\n    rubberband_canvas.addEventListener(\n        'mousedown',\n        on_mouse_event_closure('button_press')\n    );\n    rubberband_canvas.addEventListener(\n        'mouseup',\n        on_mouse_event_closure('button_release')\n    );\n    rubberband_canvas.addEventListener(\n        'dblclick',\n        on_mouse_event_closure('dblclick')\n    );\n    // Throttle sequential mouse events to 1 every 20ms.\n    rubberband_canvas.addEventListener(\n        'mousemove',\n        on_mouse_event_closure('motion_notify')\n    );\n\n    rubberband_canvas.addEventListener(\n        'mouseenter',\n        on_mouse_event_closure('figure_enter')\n    );\n    rubberband_canvas.addEventListener(\n        'mouseleave',\n        on_mouse_event_closure('figure_leave')\n    );\n\n    canvas_div.addEventListener('wheel', function (event) {\n        if (event.deltaY < 0) {\n            event.step = 1;\n        } else {\n            event.step = -1;\n        }\n        on_mouse_event_closure('scroll')(event);\n    });\n\n    canvas_div.appendChild(canvas);\n    canvas_div.appendChild(rubberband_canvas);\n\n    this.rubberband_context = rubberband_canvas.getContext('2d');\n    this.rubberband_context.strokeStyle = '#000000';\n\n    this._resize_canvas = function (width, height, forward) {\n        if (forward) {\n            canvas_div.style.width = width + 'px';\n            canvas_div.style.height = height + 'px';\n        }\n    };\n\n    // Disable right mouse context menu.\n    this.rubberband_canvas.addEventListener('contextmenu', function (_e) {\n        event.preventDefault();\n        return false;\n    });\n\n    function set_focus() {\n        canvas.focus();\n        canvas_div.focus();\n    }\n\n    window.setTimeout(set_focus, 100);\n};\n\nmpl.figure.prototype._init_toolbar = function () {\n    var fig = this;\n\n    var toolbar = document.createElement('div');\n    toolbar.classList = 'mpl-toolbar';\n    this.root.appendChild(toolbar);\n\n    function on_click_closure(name) {\n        return function (_event) {\n            return fig.toolbar_button_onclick(name);\n        };\n    }\n\n    function on_mouseover_closure(tooltip) {\n        return function (event) {\n            if (!event.currentTarget.disabled) {\n                return fig.toolbar_button_onmouseover(tooltip);\n            }\n        };\n    }\n\n    fig.buttons = {};\n    var buttonGroup = document.createElement('div');\n    buttonGroup.classList = 'mpl-button-group';\n    for (var toolbar_ind in mpl.toolbar_items) {\n        var name = mpl.toolbar_items[toolbar_ind][0];\n        var tooltip = mpl.toolbar_items[toolbar_ind][1];\n        var image = mpl.toolbar_items[toolbar_ind][2];\n        var method_name = mpl.toolbar_items[toolbar_ind][3];\n\n        if (!name) {\n            /* Instead of a spacer, we start a new button group. */\n            if (buttonGroup.hasChildNodes()) {\n                toolbar.appendChild(buttonGroup);\n            }\n            buttonGroup = document.createElement('div');\n            buttonGroup.classList = 'mpl-button-group';\n            continue;\n        }\n\n        var button = (fig.buttons[name] = document.createElement('button'));\n        button.classList = 'mpl-widget';\n        button.setAttribute('role', 'button');\n        button.setAttribute('aria-disabled', 'false');\n        button.addEventListener('click', on_click_closure(method_name));\n        button.addEventListener('mouseover', on_mouseover_closure(tooltip));\n\n        var icon_img = document.createElement('img');\n        icon_img.src = '_images/' + image + '.png';\n        icon_img.srcset = '_images/' + image + '_large.png 2x';\n        icon_img.alt = tooltip;\n        button.appendChild(icon_img);\n\n        buttonGroup.appendChild(button);\n    }\n\n    if (buttonGroup.hasChildNodes()) {\n        toolbar.appendChild(buttonGroup);\n    }\n\n    var fmt_picker = document.createElement('select');\n    fmt_picker.classList = 'mpl-widget';\n    toolbar.appendChild(fmt_picker);\n    this.format_dropdown = fmt_picker;\n\n    for (var ind in mpl.extensions) {\n        var fmt = mpl.extensions[ind];\n        var option = document.createElement('option');\n        option.selected = fmt === mpl.default_extension;\n        option.innerHTML = fmt;\n        fmt_picker.appendChild(option);\n    }\n\n    var status_bar = document.createElement('span');\n    status_bar.classList = 'mpl-message';\n    toolbar.appendChild(status_bar);\n    this.message = status_bar;\n};\n\nmpl.figure.prototype.request_resize = function (x_pixels, y_pixels) {\n    // Request matplotlib to resize the figure. Matplotlib will then trigger a resize in the client,\n    // which will in turn request a refresh of the image.\n    this.send_message('resize', { width: x_pixels, height: y_pixels });\n};\n\nmpl.figure.prototype.send_message = function (type, properties) {\n    properties['type'] = type;\n    properties['figure_id'] = this.id;\n    this.ws.send(JSON.stringify(properties));\n};\n\nmpl.figure.prototype.send_draw_message = function () {\n    if (!this.waiting) {\n        this.waiting = true;\n        this.ws.send(JSON.stringify({ type: 'draw', figure_id: this.id }));\n    }\n};\n\nmpl.figure.prototype.handle_save = function (fig, _msg) {\n    var format_dropdown = fig.format_dropdown;\n    var format = format_dropdown.options[format_dropdown.selectedIndex].value;\n    fig.ondownload(fig, format);\n};\n\nmpl.figure.prototype.handle_resize = function (fig, msg) {\n    var size = msg['size'];\n    if (size[0] !== fig.canvas.width || size[1] !== fig.canvas.height) {\n        fig._resize_canvas(size[0], size[1], msg['forward']);\n        fig.send_message('refresh', {});\n    }\n};\n\nmpl.figure.prototype.handle_rubberband = function (fig, msg) {\n    var x0 = msg['x0'] / fig.ratio;\n    var y0 = (fig.canvas.height - msg['y0']) / fig.ratio;\n    var x1 = msg['x1'] / fig.ratio;\n    var y1 = (fig.canvas.height - msg['y1']) / fig.ratio;\n    x0 = Math.floor(x0) + 0.5;\n    y0 = Math.floor(y0) + 0.5;\n    x1 = Math.floor(x1) + 0.5;\n    y1 = Math.floor(y1) + 0.5;\n    var min_x = Math.min(x0, x1);\n    var min_y = Math.min(y0, y1);\n    var width = Math.abs(x1 - x0);\n    var height = Math.abs(y1 - y0);\n\n    fig.rubberband_context.clearRect(\n        0,\n        0,\n        fig.canvas.width / fig.ratio,\n        fig.canvas.height / fig.ratio\n    );\n\n    fig.rubberband_context.strokeRect(min_x, min_y, width, height);\n};\n\nmpl.figure.prototype.handle_figure_label = function (fig, msg) {\n    // Updates the figure title.\n    fig.header.textContent = msg['label'];\n};\n\nmpl.figure.prototype.handle_cursor = function (fig, msg) {\n    fig.rubberband_canvas.style.cursor = msg['cursor'];\n};\n\nmpl.figure.prototype.handle_message = function (fig, msg) {\n    fig.message.textContent = msg['message'];\n};\n\nmpl.figure.prototype.handle_draw = function (fig, _msg) {\n    // Request the server to send over a new figure.\n    fig.send_draw_message();\n};\n\nmpl.figure.prototype.handle_image_mode = function (fig, msg) {\n    fig.image_mode = msg['mode'];\n};\n\nmpl.figure.prototype.handle_history_buttons = function (fig, msg) {\n    for (var key in msg) {\n        if (!(key in fig.buttons)) {\n            continue;\n        }\n        fig.buttons[key].disabled = !msg[key];\n        fig.buttons[key].setAttribute('aria-disabled', !msg[key]);\n    }\n};\n\nmpl.figure.prototype.handle_navigate_mode = function (fig, msg) {\n    if (msg['mode'] === 'PAN') {\n        fig.buttons['Pan'].classList.add('active');\n        fig.buttons['Zoom'].classList.remove('active');\n    } else if (msg['mode'] === 'ZOOM') {\n        fig.buttons['Pan'].classList.remove('active');\n        fig.buttons['Zoom'].classList.add('active');\n    } else {\n        fig.buttons['Pan'].classList.remove('active');\n        fig.buttons['Zoom'].classList.remove('active');\n    }\n};\n\nmpl.figure.prototype.updated_canvas_event = function () {\n    // Called whenever the canvas gets updated.\n    this.send_message('ack', {});\n};\n\n// A function to construct a web socket function for onmessage handling.\n// Called in the figure constructor.\nmpl.figure.prototype._make_on_message_function = function (fig) {\n    return function socket_on_message(evt) {\n        if (evt.data instanceof Blob) {\n            var img = evt.data;\n            if (img.type !== 'image/png') {\n                /* FIXME: We get \"Resource interpreted as Image but\n                 * transferred with MIME type text/plain:\" errors on\n                 * Chrome.  But how to set the MIME type?  It doesn't seem\n                 * to be part of the websocket stream */\n                img.type = 'image/png';\n            }\n\n            /* Free the memory for the previous frames */\n            if (fig.imageObj.src) {\n                (window.URL || window.webkitURL).revokeObjectURL(\n                    fig.imageObj.src\n                );\n            }\n\n            fig.imageObj.src = (window.URL || window.webkitURL).createObjectURL(\n                img\n            );\n            fig.updated_canvas_event();\n            fig.waiting = false;\n            return;\n        } else if (\n            typeof evt.data === 'string' &&\n            evt.data.slice(0, 21) === 'data:image/png;base64'\n        ) {\n            fig.imageObj.src = evt.data;\n            fig.updated_canvas_event();\n            fig.waiting = false;\n            return;\n        }\n\n        var msg = JSON.parse(evt.data);\n        var msg_type = msg['type'];\n\n        // Call the  \"handle_{type}\" callback, which takes\n        // the figure and JSON message as its only arguments.\n        try {\n            var callback = fig['handle_' + msg_type];\n        } catch (e) {\n            console.log(\n                \"No handler for the '\" + msg_type + \"' message type: \",\n                msg\n            );\n            return;\n        }\n\n        if (callback) {\n            try {\n                // console.log(\"Handling '\" + msg_type + \"' message: \", msg);\n                callback(fig, msg);\n            } catch (e) {\n                console.log(\n                    \"Exception inside the 'handler_\" + msg_type + \"' callback:\",\n                    e,\n                    e.stack,\n                    msg\n                );\n            }\n        }\n    };\n};\n\n// from https://stackoverflow.com/questions/1114465/getting-mouse-location-in-canvas\nmpl.findpos = function (e) {\n    //this section is from http://www.quirksmode.org/js/events_properties.html\n    var targ;\n    if (!e) {\n        e = window.event;\n    }\n    if (e.target) {\n        targ = e.target;\n    } else if (e.srcElement) {\n        targ = e.srcElement;\n    }\n    if (targ.nodeType === 3) {\n        // defeat Safari bug\n        targ = targ.parentNode;\n    }\n\n    // pageX,Y are the mouse positions relative to the document\n    var boundingRect = targ.getBoundingClientRect();\n    var x = e.pageX - (boundingRect.left + document.body.scrollLeft);\n    var y = e.pageY - (boundingRect.top + document.body.scrollTop);\n\n    return { x: x, y: y };\n};\n\n/*\n * return a copy of an object with only non-object keys\n * we need this to avoid circular references\n * https://stackoverflow.com/a/24161582/3208463\n */\nfunction simpleKeys(original) {\n    return Object.keys(original).reduce(function (obj, key) {\n        if (typeof original[key] !== 'object') {\n            obj[key] = original[key];\n        }\n        return obj;\n    }, {});\n}\n\nmpl.figure.prototype.mouse_event = function (event, name) {\n    var canvas_pos = mpl.findpos(event);\n\n    if (name === 'button_press') {\n        this.canvas.focus();\n        this.canvas_div.focus();\n    }\n\n    var x = canvas_pos.x * this.ratio;\n    var y = canvas_pos.y * this.ratio;\n\n    this.send_message(name, {\n        x: x,\n        y: y,\n        button: event.button,\n        step: event.step,\n        guiEvent: simpleKeys(event),\n    });\n\n    /* This prevents the web browser from automatically changing to\n     * the text insertion cursor when the button is pressed.  We want\n     * to control all of the cursor setting manually through the\n     * 'cursor' event from matplotlib */\n    event.preventDefault();\n    return false;\n};\n\nmpl.figure.prototype._key_event_extra = function (_event, _name) {\n    // Handle any extra behaviour associated with a key event\n};\n\nmpl.figure.prototype.key_event = function (event, name) {\n    // Prevent repeat events\n    if (name === 'key_press') {\n        if (event.key === this._key) {\n            return;\n        } else {\n            this._key = event.key;\n        }\n    }\n    if (name === 'key_release') {\n        this._key = null;\n    }\n\n    var value = '';\n    if (event.ctrlKey && event.key !== 'Control') {\n        value += 'ctrl+';\n    }\n    else if (event.altKey && event.key !== 'Alt') {\n        value += 'alt+';\n    }\n    else if (event.shiftKey && event.key !== 'Shift') {\n        value += 'shift+';\n    }\n\n    value += 'k' + event.key;\n\n    this._key_event_extra(event, name);\n\n    this.send_message(name, { key: value, guiEvent: simpleKeys(event) });\n    return false;\n};\n\nmpl.figure.prototype.toolbar_button_onclick = function (name) {\n    if (name === 'download') {\n        this.handle_save(this, null);\n    } else {\n        this.send_message('toolbar_button', { name: name });\n    }\n};\n\nmpl.figure.prototype.toolbar_button_onmouseover = function (tooltip) {\n    this.message.textContent = tooltip;\n};\n\n///////////////// REMAINING CONTENT GENERATED BY embed_js.py /////////////////\n// prettier-ignore\nvar _JSXTOOLS_RESIZE_OBSERVER=function(A){var t,i=new WeakMap,n=new WeakMap,a=new WeakMap,r=new WeakMap,o=new Set;function s(e){if(!(this instanceof s))throw new TypeError(\"Constructor requires 'new' operator\");i.set(this,e)}function h(){throw new TypeError(\"Function is not a constructor\")}function c(e,t,i,n){e=0 in arguments?Number(arguments[0]):0,t=1 in arguments?Number(arguments[1]):0,i=2 in arguments?Number(arguments[2]):0,n=3 in arguments?Number(arguments[3]):0,this.right=(this.x=this.left=e)+(this.width=i),this.bottom=(this.y=this.top=t)+(this.height=n),Object.freeze(this)}function d(){t=requestAnimationFrame(d);var s=new WeakMap,p=new Set;o.forEach((function(t){r.get(t).forEach((function(i){var r=t instanceof window.SVGElement,o=a.get(t),d=r?0:parseFloat(o.paddingTop),f=r?0:parseFloat(o.paddingRight),l=r?0:parseFloat(o.paddingBottom),u=r?0:parseFloat(o.paddingLeft),g=r?0:parseFloat(o.borderTopWidth),m=r?0:parseFloat(o.borderRightWidth),w=r?0:parseFloat(o.borderBottomWidth),b=u+f,F=d+l,v=(r?0:parseFloat(o.borderLeftWidth))+m,W=g+w,y=r?0:t.offsetHeight-W-t.clientHeight,E=r?0:t.offsetWidth-v-t.clientWidth,R=b+v,z=F+W,M=r?t.width:parseFloat(o.width)-R-E,O=r?t.height:parseFloat(o.height)-z-y;if(n.has(t)){var k=n.get(t);if(k[0]===M&&k[1]===O)return}n.set(t,[M,O]);var S=Object.create(h.prototype);S.target=t,S.contentRect=new c(u,d,M,O),s.has(i)||(s.set(i,[]),p.add(i)),s.get(i).push(S)}))})),p.forEach((function(e){i.get(e).call(e,s.get(e),e)}))}return s.prototype.observe=function(i){if(i instanceof window.Element){r.has(i)||(r.set(i,new Set),o.add(i),a.set(i,window.getComputedStyle(i)));var n=r.get(i);n.has(this)||n.add(this),cancelAnimationFrame(t),t=requestAnimationFrame(d)}},s.prototype.unobserve=function(i){if(i instanceof window.Element&&r.has(i)){var n=r.get(i);n.has(this)&&(n.delete(this),n.size||(r.delete(i),o.delete(i))),n.size||r.delete(i),o.size||cancelAnimationFrame(t)}},A.DOMRectReadOnly=c,A.ResizeObserver=s,A.ResizeObserverEntry=h,A}; // eslint-disable-line\nmpl.toolbar_items = [[\"Home\", \"Reset original view\", \"fa fa-home icon-home\", \"home\"], [\"Back\", \"Back to previous view\", \"fa fa-arrow-left icon-arrow-left\", \"back\"], [\"Forward\", \"Forward to next view\", \"fa fa-arrow-right icon-arrow-right\", \"forward\"], [\"\", \"\", \"\", \"\"], [\"Pan\", \"Left button pans, Right button zooms\\nx/y fixes axis, CTRL fixes aspect\", \"fa fa-arrows icon-move\", \"pan\"], [\"Zoom\", \"Zoom to rectangle\\nx/y fixes axis\", \"fa fa-square-o icon-check-empty\", \"zoom\"], [\"\", \"\", \"\", \"\"], [\"Download\", \"Download plot\", \"fa fa-floppy-o icon-save\", \"download\"]];\n\nmpl.extensions = [\"eps\", \"jpeg\", \"pgf\", \"pdf\", \"png\", \"ps\", \"raw\", \"svg\", \"tif\"];\n\nmpl.default_extension = \"png\";/* global mpl */\n\nvar comm_websocket_adapter = function (comm) {\n    // Create a \"websocket\"-like object which calls the given IPython comm\n    // object with the appropriate methods. Currently this is a non binary\n    // socket, so there is still some room for performance tuning.\n    var ws = {};\n\n    ws.binaryType = comm.kernel.ws.binaryType;\n    ws.readyState = comm.kernel.ws.readyState;\n    function updateReadyState(_event) {\n        if (comm.kernel.ws) {\n            ws.readyState = comm.kernel.ws.readyState;\n        } else {\n            ws.readyState = 3; // Closed state.\n        }\n    }\n    comm.kernel.ws.addEventListener('open', updateReadyState);\n    comm.kernel.ws.addEventListener('close', updateReadyState);\n    comm.kernel.ws.addEventListener('error', updateReadyState);\n\n    ws.close = function () {\n        comm.close();\n    };\n    ws.send = function (m) {\n        //console.log('sending', m);\n        comm.send(m);\n    };\n    // Register the callback with on_msg.\n    comm.on_msg(function (msg) {\n        //console.log('receiving', msg['content']['data'], msg);\n        var data = msg['content']['data'];\n        if (data['blob'] !== undefined) {\n            data = {\n                data: new Blob(msg['buffers'], { type: data['blob'] }),\n            };\n        }\n        // Pass the mpl event to the overridden (by mpl) onmessage function.\n        ws.onmessage(data);\n    });\n    return ws;\n};\n\nmpl.mpl_figure_comm = function (comm, msg) {\n    // This is the function which gets called when the mpl process\n    // starts-up an IPython Comm through the \"matplotlib\" channel.\n\n    var id = msg.content.data.id;\n    // Get hold of the div created by the display call when the Comm\n    // socket was opened in Python.\n    var element = document.getElementById(id);\n    var ws_proxy = comm_websocket_adapter(comm);\n\n    function ondownload(figure, _format) {\n        window.open(figure.canvas.toDataURL());\n    }\n\n    var fig = new mpl.figure(id, ws_proxy, ondownload, element);\n\n    // Call onopen now - mpl needs it, as it is assuming we've passed it a real\n    // web socket which is closed, not our websocket->open comm proxy.\n    ws_proxy.onopen();\n\n    fig.parent_element = element;\n    fig.cell_info = mpl.find_output_cell(\"<div id='\" + id + \"'></div>\");\n    if (!fig.cell_info) {\n        console.error('Failed to find cell for figure', id, fig);\n        return;\n    }\n    fig.cell_info[0].output_area.element.on(\n        'cleared',\n        { fig: fig },\n        fig._remove_fig_handler\n    );\n};\n\nmpl.figure.prototype.handle_close = function (fig, msg) {\n    var width = fig.canvas.width / fig.ratio;\n    fig.cell_info[0].output_area.element.off(\n        'cleared',\n        fig._remove_fig_handler\n    );\n    fig.resizeObserverInstance.unobserve(fig.canvas_div);\n\n    // Update the output cell to use the data from the current canvas.\n    fig.push_to_output();\n    var dataURL = fig.canvas.toDataURL();\n    // Re-enable the keyboard manager in IPython - without this line, in FF,\n    // the notebook keyboard shortcuts fail.\n    IPython.keyboard_manager.enable();\n    fig.parent_element.innerHTML =\n        '<img src=\"' + dataURL + '\" width=\"' + width + '\">';\n    fig.close_ws(fig, msg);\n};\n\nmpl.figure.prototype.close_ws = function (fig, msg) {\n    fig.send_message('closing', msg);\n    // fig.ws.close()\n};\n\nmpl.figure.prototype.push_to_output = function (_remove_interactive) {\n    // Turn the data on the canvas into data in the output cell.\n    var width = this.canvas.width / this.ratio;\n    var dataURL = this.canvas.toDataURL();\n    this.cell_info[1]['text/html'] =\n        '<img src=\"' + dataURL + '\" width=\"' + width + '\">';\n};\n\nmpl.figure.prototype.updated_canvas_event = function () {\n    // Tell IPython that the notebook contents must change.\n    IPython.notebook.set_dirty(true);\n    this.send_message('ack', {});\n    var fig = this;\n    // Wait a second, then push the new image to the DOM so\n    // that it is saved nicely (might be nice to debounce this).\n    setTimeout(function () {\n        fig.push_to_output();\n    }, 1000);\n};\n\nmpl.figure.prototype._init_toolbar = function () {\n    var fig = this;\n\n    var toolbar = document.createElement('div');\n    toolbar.classList = 'btn-toolbar';\n    this.root.appendChild(toolbar);\n\n    function on_click_closure(name) {\n        return function (_event) {\n            return fig.toolbar_button_onclick(name);\n        };\n    }\n\n    function on_mouseover_closure(tooltip) {\n        return function (event) {\n            if (!event.currentTarget.disabled) {\n                return fig.toolbar_button_onmouseover(tooltip);\n            }\n        };\n    }\n\n    fig.buttons = {};\n    var buttonGroup = document.createElement('div');\n    buttonGroup.classList = 'btn-group';\n    var button;\n    for (var toolbar_ind in mpl.toolbar_items) {\n        var name = mpl.toolbar_items[toolbar_ind][0];\n        var tooltip = mpl.toolbar_items[toolbar_ind][1];\n        var image = mpl.toolbar_items[toolbar_ind][2];\n        var method_name = mpl.toolbar_items[toolbar_ind][3];\n\n        if (!name) {\n            /* Instead of a spacer, we start a new button group. */\n            if (buttonGroup.hasChildNodes()) {\n                toolbar.appendChild(buttonGroup);\n            }\n            buttonGroup = document.createElement('div');\n            buttonGroup.classList = 'btn-group';\n            continue;\n        }\n\n        button = fig.buttons[name] = document.createElement('button');\n        button.classList = 'btn btn-default';\n        button.href = '#';\n        button.title = name;\n        button.innerHTML = '<i class=\"fa ' + image + ' fa-lg\"></i>';\n        button.addEventListener('click', on_click_closure(method_name));\n        button.addEventListener('mouseover', on_mouseover_closure(tooltip));\n        buttonGroup.appendChild(button);\n    }\n\n    if (buttonGroup.hasChildNodes()) {\n        toolbar.appendChild(buttonGroup);\n    }\n\n    // Add the status bar.\n    var status_bar = document.createElement('span');\n    status_bar.classList = 'mpl-message pull-right';\n    toolbar.appendChild(status_bar);\n    this.message = status_bar;\n\n    // Add the close button to the window.\n    var buttongrp = document.createElement('div');\n    buttongrp.classList = 'btn-group inline pull-right';\n    button = document.createElement('button');\n    button.classList = 'btn btn-mini btn-primary';\n    button.href = '#';\n    button.title = 'Stop Interaction';\n    button.innerHTML = '<i class=\"fa fa-power-off icon-remove icon-large\"></i>';\n    button.addEventListener('click', function (_evt) {\n        fig.handle_close(fig, {});\n    });\n    button.addEventListener(\n        'mouseover',\n        on_mouseover_closure('Stop Interaction')\n    );\n    buttongrp.appendChild(button);\n    var titlebar = this.root.querySelector('.ui-dialog-titlebar');\n    titlebar.insertBefore(buttongrp, titlebar.firstChild);\n};\n\nmpl.figure.prototype._remove_fig_handler = function (event) {\n    var fig = event.data.fig;\n    if (event.target !== this) {\n        // Ignore bubbled events from children.\n        return;\n    }\n    fig.close_ws(fig, {});\n};\n\nmpl.figure.prototype._root_extra_style = function (el) {\n    el.style.boxSizing = 'content-box'; // override notebook setting of border-box.\n};\n\nmpl.figure.prototype._canvas_extra_style = function (el) {\n    // this is important to make the div 'focusable\n    el.setAttribute('tabindex', 0);\n    // reach out to IPython and tell the keyboard manager to turn it's self\n    // off when our div gets focus\n\n    // location in version 3\n    if (IPython.notebook.keyboard_manager) {\n        IPython.notebook.keyboard_manager.register_events(el);\n    } else {\n        // location in version 2\n        IPython.keyboard_manager.register_events(el);\n    }\n};\n\nmpl.figure.prototype._key_event_extra = function (event, _name) {\n    // Check for shift+enter\n    if (event.shiftKey && event.which === 13) {\n        this.canvas_div.blur();\n        // select the cell after this one\n        var index = IPython.notebook.find_cell_index(this.cell_info[0]);\n        IPython.notebook.select(index + 1);\n    }\n};\n\nmpl.figure.prototype.handle_save = function (fig, _msg) {\n    fig.ondownload(fig, null);\n};\n\nmpl.find_output_cell = function (html_output) {\n    // Return the cell and output element which can be found *uniquely* in the notebook.\n    // Note - this is a bit hacky, but it is done because the \"notebook_saving.Notebook\"\n    // IPython event is triggered only after the cells have been serialised, which for\n    // our purposes (turning an active figure into a static one), is too late.\n    var cells = IPython.notebook.get_cells();\n    var ncells = cells.length;\n    for (var i = 0; i < ncells; i++) {\n        var cell = cells[i];\n        if (cell.cell_type === 'code') {\n            for (var j = 0; j < cell.output_area.outputs.length; j++) {\n                var data = cell.output_area.outputs[j];\n                if (data.data) {\n                    // IPython >= 3 moved mimebundle to data attribute of output\n                    data = data.data;\n                }\n                if (data['text/html'] === html_output) {\n                    return [cell, data, j];\n                }\n            }\n        }\n    }\n};\n\n// Register the function which deals with the matplotlib target/channel.\n// The kernel may be null if the page has been refreshed.\nif (IPython.notebook.kernel !== null) {\n    IPython.notebook.kernel.comm_manager.register_target(\n        'matplotlib',\n        mpl.mpl_figure_comm\n    );\n}\n",
      "text/plain": [
       "<IPython.core.display.Javascript object>"
      ]
     },
     "metadata": {},
     "output_type": "display_data"
    },
    {
     "data": {
      "text/html": [
       "<div id='48a13890-bc5b-4852-a74f-618d8cbd2edf'></div>"
      ],
      "text/plain": [
       "<IPython.core.display.HTML object>"
      ]
     },
     "metadata": {},
     "output_type": "display_data"
    }
   ],
   "source": [
    "y = np.array(df_csv[\"estimate\"])\n",
    "plt.plot(y)\n",
    "plt.show()"
   ]
  }
 ],
 "metadata": {
  "kernelspec": {
   "display_name": "Python 3 (ipykernel)",
   "language": "python",
   "name": "python3"
  },
  "language_info": {
   "codemirror_mode": {
    "name": "ipython",
    "version": 3
   },
   "file_extension": ".py",
   "mimetype": "text/x-python",
   "name": "python",
   "nbconvert_exporter": "python",
   "pygments_lexer": "ipython3",
   "version": "3.9.13"
  }
 },
 "nbformat": 4,
 "nbformat_minor": 5
}
