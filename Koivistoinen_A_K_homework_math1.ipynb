{
  "cells": [
    {
      "cell_type": "code",
      "execution_count": 1,
      "metadata": {
        "colab": {
          "base_uri": "https://localhost:8080/"
        },
        "id": "1qL3pp4W9IaH",
        "outputId": "d7cbfd4e-0252-44dc-d2b9-90384a3dd23e"
      },
      "outputs": [
        {
          "output_type": "stream",
          "name": "stdout",
          "text": [
            "Collecting pyspectra\n",
            "  Downloading pyspectra-0.0.1.2-py3-none-any.whl (22 kB)\n",
            "Requirement already satisfied: numpy in /usr/local/lib/python3.10/dist-packages (from pyspectra) (1.23.5)\n",
            "Requirement already satisfied: pandas in /usr/local/lib/python3.10/dist-packages (from pyspectra) (1.5.3)\n",
            "Collecting spc-spectra (from pyspectra)\n",
            "  Downloading spc_spectra-0.4.0.tar.gz (8.6 kB)\n",
            "  Preparing metadata (setup.py) ... \u001b[?25l\u001b[?25hdone\n",
            "Requirement already satisfied: scipy in /usr/local/lib/python3.10/dist-packages (from pyspectra) (1.11.4)\n",
            "Requirement already satisfied: python-dateutil>=2.8.1 in /usr/local/lib/python3.10/dist-packages (from pandas->pyspectra) (2.8.2)\n",
            "Requirement already satisfied: pytz>=2020.1 in /usr/local/lib/python3.10/dist-packages (from pandas->pyspectra) (2023.3.post1)\n",
            "Requirement already satisfied: six>=1.5 in /usr/local/lib/python3.10/dist-packages (from python-dateutil>=2.8.1->pandas->pyspectra) (1.16.0)\n",
            "Building wheels for collected packages: spc-spectra\n",
            "  Building wheel for spc-spectra (setup.py) ... \u001b[?25l\u001b[?25hdone\n",
            "  Created wheel for spc-spectra: filename=spc_spectra-0.4.0-py3-none-any.whl size=10340 sha256=af4758297b0c871413af05f03cec41817ece2c945f16d3a0e6e8ba51643e2b12\n",
            "  Stored in directory: /root/.cache/pip/wheels/e2/b3/10/fa08b07a911e08a05623e855ed634ea951819525145c586a37\n",
            "Successfully built spc-spectra\n",
            "Installing collected packages: spc-spectra, pyspectra\n",
            "Successfully installed pyspectra-0.0.1.2 spc-spectra-0.4.0\n"
          ]
        }
      ],
      "source": [
        "pip install pyspectra"
      ]
    },
    {
      "cell_type": "code",
      "execution_count": 2,
      "metadata": {
        "colab": {
          "base_uri": "https://localhost:8080/"
        },
        "id": "rZN8ocet50JZ",
        "outputId": "2fe385cb-cc0f-48a4-a9f0-66bb10650112"
      },
      "outputs": [
        {
          "output_type": "stream",
          "name": "stdout",
          "text": [
            "Mounted at /content/drive\n"
          ]
        }
      ],
      "source": [
        "from google.colab import drive\n",
        "drive.mount('/content/drive')\n"
      ]
    },
    {
      "cell_type": "code",
      "execution_count": 3,
      "metadata": {
        "id": "gIGNTOxa9bJm"
      },
      "outputs": [],
      "source": [
        "import matplotlib.pyplot as plt\n",
        "import numpy as np\n",
        "import pandas as pd\n",
        "from sklearn.decomposition import PCA"
      ]
    },
    {
      "cell_type": "code",
      "source": [
        "ace350f = pd.read_csv('/content/drive/MyDrive/ДМ/ace350f.csv', sep =',', names = ['x', 'y'])\n",
        "am150f = pd.read_csv('/content/drive/MyDrive/ДМ/am150f.csv', sep =',', names = ['x', 'y'])\n",
        "eg250f = pd.read_csv('/content/drive/MyDrive/ДМ/eg250f.csv', sep =',', names = ['x', 'y'])\n",
        "eth80f = pd.read_csv('/content/drive/MyDrive/ДМ/eth80f.csv', sep =',', names = ['x', 'y'])\n",
        "mol80f = pd.read_csv('/content/drive/MyDrive/ДМ/mol80f.csv', sep =',', names = ['x', 'y'])\n",
        "nap80f = pd.read_csv('/content/drive/MyDrive/ДМ/nap80f.csv', sep =',', names = ['x', 'y'])\n",
        "# print(am150f)"
      ],
      "metadata": {
        "id": "VN1msBWZ8mxm"
      },
      "execution_count": 16,
      "outputs": []
    },
    {
      "cell_type": "code",
      "execution_count": 5,
      "metadata": {
        "id": "OFDAPBaqAPns",
        "colab": {
          "base_uri": "https://localhost:8080/"
        },
        "outputId": "b79885b8-7966-416e-8d4c-14778b06933e"
      },
      "outputs": [
        {
          "output_type": "stream",
          "name": "stdout",
          "text": [
            "gx-y(2)\n",
            "gx-y(2)\n",
            "gx-y(2)\n",
            "gx-y(2)\n",
            "gx-y(2)\n",
            "gx-y(2)\n"
          ]
        }
      ],
      "source": [
        "# from pyspectra.readers.read_spc import read_spc\n",
        "# ace350f=read_spc('/content/drive/MyDrive/ДМ/ace350f.spc')\n",
        "# am150f=read_spc('/content/drive/MyDrive/ДМ/am150f.spc')\n",
        "# eg250f=read_spc('/content/drive/MyDrive/ДМ/eg250f.spc')\n",
        "# eth80f=read_spc('/content/drive/MyDrive/ДМ/eth80f.spc')\n",
        "# mol80f=read_spc('/content/drive/MyDrive/ДМ/mol80f.spc')\n",
        "# nap80f=read_spc('/content/drive/MyDrive/ДМ/nap80f.spc')"
      ]
    },
    {
      "cell_type": "code",
      "execution_count": 6,
      "metadata": {
        "colab": {
          "base_uri": "https://localhost:8080/",
          "height": 553
        },
        "id": "KZ1ttceF6RAX",
        "outputId": "28e1142e-8c3e-4a90-f14c-2c06c146866c"
      },
      "outputs": [
        {
          "output_type": "stream",
          "name": "stdout",
          "text": [
            "493.691467    0.328079\n",
            "493.753676    0.095588\n",
            "493.815885    0.074633\n",
            "493.878095    0.040699\n",
            "493.940304   -0.108449\n",
            "dtype: float64\n"
          ]
        },
        {
          "output_type": "display_data",
          "data": {
            "text/plain": [
              "<Figure size 640x480 with 1 Axes>"
            ],
            "image/png": "[encoded data removed]"
          },
          "metadata": {}
        }
      ],
      "source": [
        "ace350f.plot()\n",
        "plt.xlabel(\"nm\")\n",
        "plt.ylabel(\"Abs\")\n",
        "plt.grid(True)\n",
        "print(ace350f.head())"
      ]
    },
    {
      "cell_type": "code",
      "execution_count": 7,
      "metadata": {
        "colab": {
          "base_uri": "https://localhost:8080/",
          "height": 553
        },
        "id": "uXHkoDsxA31c",
        "outputId": "4fd7d0a3-1208-4f9f-8b7c-b7485ff8d2e1"
      },
      "outputs": [
        {
          "output_type": "stream",
          "name": "stdout",
          "text": [
            "431.977142   -0.030456\n",
            "432.039351   -0.011497\n",
            "432.101560    0.012746\n",
            "432.163768    0.053915\n",
            "432.225977    0.046430\n",
            "dtype: float64\n"
          ]
        },
        {
          "output_type": "display_data",
          "data": {
            "text/plain": [
              "<Figure size 640x480 with 1 Axes>"
            ],
            "image/png": "[encoded data removed]"
          },
          "metadata": {}
        }
      ],
      "source": [
        "am150f.plot()\n",
        "plt.xlabel(\"nm\")\n",
        "plt.ylabel(\"Abs\")\n",
        "plt.grid(True)\n",
        "print(am150f.head())"
      ]
    },
    {
      "cell_type": "code",
      "execution_count": 8,
      "metadata": {
        "colab": {
          "base_uri": "https://localhost:8080/",
          "height": 553
        },
        "id": "cXyKwxyaA8fP",
        "outputId": "544c0a2d-fa51-4601-c5bb-b5c2ecd336bb"
      },
      "outputs": [
        {
          "output_type": "stream",
          "name": "stdout",
          "text": [
            "493.688538    0.000000\n",
            "493.750746   -0.024971\n",
            "493.812955   -0.035951\n",
            "493.875164   -0.027015\n",
            "493.937373   -0.016834\n",
            "dtype: float64\n"
          ]
        },
        {
          "output_type": "display_data",
          "data": {
            "text/plain": [
              "<Figure size 640x480 with 1 Axes>"
            ],
            "image/png": "[encoded data removed]"
          },
          "metadata": {}
        }
      ],
      "source": [
        "eg250f.plot()\n",
        "plt.xlabel(\"nm\")\n",
        "plt.ylabel(\"Abs\")\n",
        "plt.grid(True)\n",
        "print(eg250f.head())"
      ]
    },
    {
      "cell_type": "code",
      "execution_count": 9,
      "metadata": {
        "colab": {
          "base_uri": "https://localhost:8080/",
          "height": 558
        },
        "id": "SdaNcoO4BDOM",
        "outputId": "e88396f4-6e85-442a-b494-81201400bdb3"
      },
      "outputs": [
        {
          "output_type": "stream",
          "name": "stdout",
          "text": [
            "493.691467   -0.015621\n",
            "493.753676    0.000447\n",
            "493.815885   -0.002301\n",
            "493.878095    0.001762\n",
            "493.940304    0.019487\n",
            "dtype: float64\n"
          ]
        },
        {
          "output_type": "display_data",
          "data": {
            "text/plain": [
              "<Figure size 640x480 with 1 Axes>"
            ],
            "image/png": "[encoded data removed]"
          },
          "metadata": {}
        }
      ],
      "source": [
        "eth80f.plot()\n",
        "plt.xlabel(\"nm\")\n",
        "plt.ylabel(\"Abs\")\n",
        "plt.grid(True)\n",
        "print(eth80f.head())"
      ]
    },
    {
      "cell_type": "code",
      "execution_count": 10,
      "metadata": {
        "colab": {
          "base_uri": "https://localhost:8080/",
          "height": 553
        },
        "id": "GIZeNWQ9BIeF",
        "outputId": "90c80ee4-e8d7-43e7-a0d1-0b741be062d4"
      },
      "outputs": [
        {
          "output_type": "stream",
          "name": "stdout",
          "text": [
            "493.688538    0.005695\n",
            "493.750746    0.020157\n",
            "493.812955    0.017768\n",
            "493.875164    0.014111\n",
            "493.937373    0.011727\n",
            "dtype: float64\n"
          ]
        },
        {
          "output_type": "display_data",
          "data": {
            "text/plain": [
              "<Figure size 640x480 with 1 Axes>"
            ],
            "image/png": "[encoded data removed]"
          },
          "metadata": {}
        }
      ],
      "source": [
        "mol80f.plot()\n",
        "plt.xlabel(\"nm\")\n",
        "plt.ylabel(\"Abs\")\n",
        "plt.grid(True)\n",
        "print(mol80f.head())"
      ]
    },
    {
      "cell_type": "code",
      "execution_count": 11,
      "metadata": {
        "colab": {
          "base_uri": "https://localhost:8080/",
          "height": 553
        },
        "id": "4faO-lNfBNXz",
        "outputId": "ec8747bd-b6eb-42f2-e190-155c28fb97f9"
      },
      "outputs": [
        {
          "output_type": "stream",
          "name": "stdout",
          "text": [
            "493.688538    0.000000\n",
            "493.750746    0.011098\n",
            "493.812955   -0.060558\n",
            "493.875164   -0.064808\n",
            "493.937373   -0.025136\n",
            "dtype: float64\n"
          ]
        },
        {
          "output_type": "display_data",
          "data": {
            "text/plain": [
              "<Figure size 640x480 with 1 Axes>"
            ],
            "image/png": "[encoded data removed]"
          },
          "metadata": {}
        }
      ],
      "source": [
        "nap80f.plot()\n",
        "plt.xlabel(\"nm\")\n",
        "plt.ylabel(\"Abs\")\n",
        "plt.grid(True)\n",
        "print(nap80f.head())"
      ]
    },
    {
      "cell_type": "code",
      "execution_count": 12,
      "metadata": {
        "colab": {
          "base_uri": "https://localhost:8080/",
          "height": 1000
        },
        "id": "M2_mUVDJCWK8",
        "outputId": "7a845c88-2d91-4abc-986c-69fe84e96bc1"
      },
      "outputs": [
        {
          "output_type": "stream",
          "name": "stdout",
          "text": [
            "gx-y(2)\n",
            "gx-y(2)\n",
            "gx-y(2)\n",
            "gx-y(2)\n",
            "gx-y(2)\n",
            "gx-y(2)\n"
          ]
        },
        {
          "output_type": "display_data",
          "data": {
            "text/plain": [
              "             nap80f.spc  eth80f.spc  mol80f.spc  ace350f.spc  eg250f.spc  \\\n",
              "431.977142          0.0         0.0         0.0          0.0         0.0   \n",
              "432.039351          0.0         0.0         0.0          0.0         0.0   \n",
              "432.101560          0.0         0.0         0.0          0.0         0.0   \n",
              "432.163768          0.0         0.0         0.0          0.0         0.0   \n",
              "432.225977          0.0         0.0         0.0          0.0         0.0   \n",
              "...                 ...         ...         ...          ...         ...   \n",
              "4504.593450         0.0         0.0         0.0          0.0         0.0   \n",
              "4504.655659         0.0         0.0         0.0          0.0         0.0   \n",
              "4504.717868         0.0         0.0         0.0          0.0         0.0   \n",
              "4504.780076         0.0         0.0         0.0          0.0         0.0   \n",
              "4504.842285         0.0         0.0         0.0          0.0         0.0   \n",
              "\n",
              "             am150f.spc  \n",
              "431.977142    -0.030456  \n",
              "432.039351    -0.011497  \n",
              "432.101560     0.012746  \n",
              "432.163768     0.053915  \n",
              "432.225977     0.046430  \n",
              "...                 ...  \n",
              "4504.593450   -0.000886  \n",
              "4504.655659   -0.000448  \n",
              "4504.717868   -0.000338  \n",
              "4504.780076    0.000596  \n",
              "4504.842285    0.000463  \n",
              "\n",
              "[178560 rows x 6 columns]"
            ],
            "text/html": [
              "\n",
              "  <div id=\"df-9781b6c0-8958-40d7-b79b-041da046e883\" class=\"colab-df-container\">\n",
              "    <div>\n",
              "<style scoped>\n",
              "    .dataframe tbody tr th:only-of-type {\n",
              "        vertical-align: middle;\n",
              "    }\n",
              "\n",
              "    .dataframe tbody tr th {\n",
              "        vertical-align: top;\n",
              "    }\n",
              "\n",
              "    .dataframe thead th {\n",
              "        text-align: right;\n",
              "    }\n",
              "</style>\n",
              "<table border=\"1\" class=\"dataframe\">\n",
              "  <thead>\n",
              "    <tr style=\"text-align: right;\">\n",
              "      <th></th>\n",
              "      <th>nap80f.spc</th>\n",
              "      <th>eth80f.spc</th>\n",
              "      <th>mol80f.spc</th>\n",
              "      <th>ace350f.spc</th>\n",
              "      <th>eg250f.spc</th>\n",
              "      <th>am150f.spc</th>\n",
              "    </tr>\n",
              "  </thead>\n",
              "  <tbody>\n",
              "    <tr>\n",
              "      <th>431.977142</th>\n",
              "      <td>0.0</td>\n",
              "      <td>0.0</td>\n",
              "      <td>0.0</td>\n",
              "      <td>0.0</td>\n",
              "      <td>0.0</td>\n",
              "      <td>-0.030456</td>\n",
              "    </tr>\n",
              "    <tr>\n",
              "      <th>432.039351</th>\n",
              "      <td>0.0</td>\n",
              "      <td>0.0</td>\n",
              "      <td>0.0</td>\n",
              "      <td>0.0</td>\n",
              "      <td>0.0</td>\n",
              "      <td>-0.011497</td>\n",
              "    </tr>\n",
              "    <tr>\n",
              "      <th>432.101560</th>\n",
              "      <td>0.0</td>\n",
              "      <td>0.0</td>\n",
              "      <td>0.0</td>\n",
              "      <td>0.0</td>\n",
              "      <td>0.0</td>\n",
              "      <td>0.012746</td>\n",
              "    </tr>\n",
              "    <tr>\n",
              "      <th>432.163768</th>\n",
              "      <td>0.0</td>\n",
              "      <td>0.0</td>\n",
              "      <td>0.0</td>\n",
              "      <td>0.0</td>\n",
              "      <td>0.0</td>\n",
              "      <td>0.053915</td>\n",
              "    </tr>\n",
              "    <tr>\n",
              "      <th>432.225977</th>\n",
              "      <td>0.0</td>\n",
              "      <td>0.0</td>\n",
              "      <td>0.0</td>\n",
              "      <td>0.0</td>\n",
              "      <td>0.0</td>\n",
              "      <td>0.046430</td>\n",
              "    </tr>\n",
              "    <tr>\n",
              "      <th>...</th>\n",
              "      <td>...</td>\n",
              "      <td>...</td>\n",
              "      <td>...</td>\n",
              "      <td>...</td>\n",
              "      <td>...</td>\n",
              "      <td>...</td>\n",
              "    </tr>\n",
              "    <tr>\n",
              "      <th>4504.593450</th>\n",
              "      <td>0.0</td>\n",
              "      <td>0.0</td>\n",
              "      <td>0.0</td>\n",
              "      <td>0.0</td>\n",
              "      <td>0.0</td>\n",
              "      <td>-0.000886</td>\n",
              "    </tr>\n",
              "    <tr>\n",
              "      <th>4504.655659</th>\n",
              "      <td>0.0</td>\n",
              "      <td>0.0</td>\n",
              "      <td>0.0</td>\n",
              "      <td>0.0</td>\n",
              "      <td>0.0</td>\n",
              "      <td>-0.000448</td>\n",
              "    </tr>\n",
              "    <tr>\n",
              "      <th>4504.717868</th>\n",
              "      <td>0.0</td>\n",
              "      <td>0.0</td>\n",
              "      <td>0.0</td>\n",
              "      <td>0.0</td>\n",
              "      <td>0.0</td>\n",
              "      <td>-0.000338</td>\n",
              "    </tr>\n",
              "    <tr>\n",
              "      <th>4504.780076</th>\n",
              "      <td>0.0</td>\n",
              "      <td>0.0</td>\n",
              "      <td>0.0</td>\n",
              "      <td>0.0</td>\n",
              "      <td>0.0</td>\n",
              "      <td>0.000596</td>\n",
              "    </tr>\n",
              "    <tr>\n",
              "      <th>4504.842285</th>\n",
              "      <td>0.0</td>\n",
              "      <td>0.0</td>\n",
              "      <td>0.0</td>\n",
              "      <td>0.0</td>\n",
              "      <td>0.0</td>\n",
              "      <td>0.000463</td>\n",
              "    </tr>\n",
              "  </tbody>\n",
              "</table>\n",
              "<p>178560 rows × 6 columns</p>\n",
              "</div>\n",
              "    <div class=\"colab-df-buttons\">\n",
              "\n",
              "  <div class=\"colab-df-container\">\n",
              "    <button class=\"colab-df-convert\" onclick=\"convertToInteractive('df-9781b6c0-8958-40d7-b79b-041da046e883')\"\n",
              "            title=\"Convert this dataframe to an interactive table.\"\n",
              "            style=\"display:none;\">\n",
              "\n",
              "  <svg xmlns=\"http://www.w3.org/2000/svg\" height=\"24px\" viewBox=\"0 -960 960 960\">\n",
              "    <path d=\"M120-120v-720h720v720H120Zm60-500h600v-160H180v160Zm220 220h160v-160H400v160Zm0 220h160v-160H400v160ZM180-400h160v-160H180v160Zm440 0h160v-160H620v160ZM180-180h160v-160H180v160Zm440 0h160v-160H620v160Z\"/>\n",
              "  </svg>\n",
              "    </button>\n",
              "\n",
              "  <style>\n",
              "    .colab-df-container {\n",
              "      display:flex;\n",
              "      gap: 12px;\n",
              "    }\n",
              "\n",
              "    .colab-df-convert {\n",
              "      background-color: #E8F0FE;\n",
              "      border: none;\n",
              "      border-radius: 50%;\n",
              "      cursor: pointer;\n",
              "      display: none;\n",
              "      fill: #1967D2;\n",
              "      height: 32px;\n",
              "      padding: 0 0 0 0;\n",
              "      width: 32px;\n",
              "    }\n",
              "\n",
              "    .colab-df-convert:hover {\n",
              "      background-color: #E2EBFA;\n",
              "      box-shadow: 0px 1px 2px rgba(60, 64, 67, 0.3), 0px 1px 3px 1px rgba(60, 64, 67, 0.15);\n",
              "      fill: #174EA6;\n",
              "    }\n",
              "\n",
              "    .colab-df-buttons div {\n",
              "      margin-bottom: 4px;\n",
              "    }\n",
              "\n",
              "    [theme=dark] .colab-df-convert {\n",
              "      background-color: #3B4455;\n",
              "      fill: #D2E3FC;\n",
              "    }\n",
              "\n",
              "    [theme=dark] .colab-df-convert:hover {\n",
              "      background-color: #434B5C;\n",
              "      box-shadow: 0px 1px 3px 1px rgba(0, 0, 0, 0.15);\n",
              "      filter: drop-shadow(0px 1px 2px rgba(0, 0, 0, 0.3));\n",
              "      fill: #FFFFFF;\n",
              "    }\n",
              "  </style>\n",
              "\n",
              "    <script>\n",
              "      const buttonEl =\n",
              "        document.querySelector('#df-9781b6c0-8958-40d7-b79b-041da046e883 button.colab-df-convert');\n",
              "      buttonEl.style.display =\n",
              "        google.colab.kernel.accessAllowed ? 'block' : 'none';\n",
              "\n",
              "      async function convertToInteractive(key) {\n",
              "        const element = document.querySelector('#df-9781b6c0-8958-40d7-b79b-041da046e883');\n",
              "        const dataTable =\n",
              "          await google.colab.kernel.invokeFunction('convertToInteractive',\n",
              "                                                    [key], {});\n",
              "        if (!dataTable) return;\n",
              "\n",
              "        const docLinkHtml = 'Like what you see? Visit the ' +\n",
              "          '<a target=\"_blank\" href=https://colab.research.google.com/notebooks/data_table.ipynb>data table notebook</a>'\n",
              "          + ' to learn more about interactive tables.';\n",
              "        element.innerHTML = '';\n",
              "        dataTable['output_type'] = 'display_data';\n",
              "        await google.colab.output.renderOutput(dataTable, element);\n",
              "        const docLink = document.createElement('div');\n",
              "        docLink.innerHTML = docLinkHtml;\n",
              "        element.appendChild(docLink);\n",
              "      }\n",
              "    </script>\n",
              "  </div>\n",
              "\n",
              "\n",
              "<div id=\"df-5b432403-dc5d-4a5e-8d7b-94d70dc812c2\">\n",
              "  <button class=\"colab-df-quickchart\" onclick=\"quickchart('df-5b432403-dc5d-4a5e-8d7b-94d70dc812c2')\"\n",
              "            title=\"Suggest charts\"\n",
              "            style=\"display:none;\">\n",
              "\n",
              "<svg xmlns=\"http://www.w3.org/2000/svg\" height=\"24px\"viewBox=\"0 0 24 24\"\n",
              "     width=\"24px\">\n",
              "    <g>\n",
              "        <path d=\"M19 3H5c-1.1 0-2 .9-2 2v14c0 1.1.9 2 2 2h14c1.1 0 2-.9 2-2V5c0-1.1-.9-2-2-2zM9 17H7v-7h2v7zm4 0h-2V7h2v10zm4 0h-2v-4h2v4z\"/>\n",
              "    </g>\n",
              "</svg>\n",
              "  </button>\n",
              "\n",
              "<style>\n",
              "  .colab-df-quickchart {\n",
              "      --bg-color: #E8F0FE;\n",
              "      --fill-color: #1967D2;\n",
              "      --hover-bg-color: #E2EBFA;\n",
              "      --hover-fill-color: #174EA6;\n",
              "      --disabled-fill-color: #AAA;\n",
              "      --disabled-bg-color: #DDD;\n",
              "  }\n",
              "\n",
              "  [theme=dark] .colab-df-quickchart {\n",
              "      --bg-color: #3B4455;\n",
              "      --fill-color: #D2E3FC;\n",
              "      --hover-bg-color: #434B5C;\n",
              "      --hover-fill-color: #FFFFFF;\n",
              "      --disabled-bg-color: #3B4455;\n",
              "      --disabled-fill-color: #666;\n",
              "  }\n",
              "\n",
              "  .colab-df-quickchart {\n",
              "    background-color: var(--bg-color);\n",
              "    border: none;\n",
              "    border-radius: 50%;\n",
              "    cursor: pointer;\n",
              "    display: none;\n",
              "    fill: var(--fill-color);\n",
              "    height: 32px;\n",
              "    padding: 0;\n",
              "    width: 32px;\n",
              "  }\n",
              "\n",
              "  .colab-df-quickchart:hover {\n",
              "    background-color: var(--hover-bg-color);\n",
              "    box-shadow: 0 1px 2px rgba(60, 64, 67, 0.3), 0 1px 3px 1px rgba(60, 64, 67, 0.15);\n",
              "    fill: var(--button-hover-fill-color);\n",
              "  }\n",
              "\n",
              "  .colab-df-quickchart-complete:disabled,\n",
              "  .colab-df-quickchart-complete:disabled:hover {\n",
              "    background-color: var(--disabled-bg-color);\n",
              "    fill: var(--disabled-fill-color);\n",
              "    box-shadow: none;\n",
              "  }\n",
              "\n",
              "  .colab-df-spinner {\n",
              "    border: 2px solid var(--fill-color);\n",
              "    border-color: transparent;\n",
              "    border-bottom-color: var(--fill-color);\n",
              "    animation:\n",
              "      spin 1s steps(1) infinite;\n",
              "  }\n",
              "\n",
              "  @keyframes spin {\n",
              "    0% {\n",
              "      border-color: transparent;\n",
              "      border-bottom-color: var(--fill-color);\n",
              "      border-left-color: var(--fill-color);\n",
              "    }\n",
              "    20% {\n",
              "      border-color: transparent;\n",
              "      border-left-color: var(--fill-color);\n",
              "      border-top-color: var(--fill-color);\n",
              "    }\n",
              "    30% {\n",
              "      border-color: transparent;\n",
              "      border-left-color: var(--fill-color);\n",
              "      border-top-color: var(--fill-color);\n",
              "      border-right-color: var(--fill-color);\n",
              "    }\n",
              "    40% {\n",
              "      border-color: transparent;\n",
              "      border-right-color: var(--fill-color);\n",
              "      border-top-color: var(--fill-color);\n",
              "    }\n",
              "    60% {\n",
              "      border-color: transparent;\n",
              "      border-right-color: var(--fill-color);\n",
              "    }\n",
              "    80% {\n",
              "      border-color: transparent;\n",
              "      border-right-color: var(--fill-color);\n",
              "      border-bottom-color: var(--fill-color);\n",
              "    }\n",
              "    90% {\n",
              "      border-color: transparent;\n",
              "      border-bottom-color: var(--fill-color);\n",
              "    }\n",
              "  }\n",
              "</style>\n",
              "\n",
              "  <script>\n",
              "    async function quickchart(key) {\n",
              "      const quickchartButtonEl =\n",
              "        document.querySelector('#' + key + ' button');\n",
              "      quickchartButtonEl.disabled = true;  // To prevent multiple clicks.\n",
              "      quickchartButtonEl.classList.add('colab-df-spinner');\n",
              "      try {\n",
              "        const charts = await google.colab.kernel.invokeFunction(\n",
              "            'suggestCharts', [key], {});\n",
              "      } catch (error) {\n",
              "        console.error('Error during call to suggestCharts:', error);\n",
              "      }\n",
              "      quickchartButtonEl.classList.remove('colab-df-spinner');\n",
              "      quickchartButtonEl.classList.add('colab-df-quickchart-complete');\n",
              "    }\n",
              "    (() => {\n",
              "      let quickchartButtonEl =\n",
              "        document.querySelector('#df-5b432403-dc5d-4a5e-8d7b-94d70dc812c2 button');\n",
              "      quickchartButtonEl.style.display =\n",
              "        google.colab.kernel.accessAllowed ? 'block' : 'none';\n",
              "    })();\n",
              "  </script>\n",
              "</div>\n",
              "    </div>\n",
              "  </div>\n"
            ]
          },
          "metadata": {}
        },
        {
          "output_type": "display_data",
          "data": {
            "text/plain": [
              "<Figure size 1800x800 with 1 Axes>"
            ],
            "image/png": "[encoded data removed]"
          },
          "metadata": {}
        }
      ],
      "source": [
        "from pyspectra.readers.read_spc import read_spc_dir\n",
        "\n",
        "df_spc, dict_spc=read_spc_dir('/content/drive/MyDrive/ДМ/')\n",
        "df_spc.fillna(0, inplace=True) #заменяем отсутсвие значения на 0\n",
        "display(df_spc.transpose())\n",
        "f, ax = plt.subplots(1, figsize=(18,8))\n",
        "ax.plot(df_spc.transpose())\n",
        "plt.xlabel(\"nm\")\n",
        "plt.ylabel(\"Abs\")\n",
        "ax.legend(labels= list(df_spc.transpose().columns))\n",
        "plt.show()\n"
      ]
    },
    {
      "cell_type": "code",
      "source": [
        "# y = f(x)\n",
        "# y = a*x + b\n",
        "# y1 = a*x1 + b\n",
        "# y2 = a*x2 + b\n",
        "# y3 = a*x3 + b\n",
        "# y4 = a*x4 + b\n",
        "\n",
        "# x*ab = y\n",
        "# ab = {(X.T*x)**(-1)*X.T*y}"
      ],
      "metadata": {
        "id": "RIIUQwWl0AXa"
      },
      "execution_count": 13,
      "outputs": []
    },
    {
      "cell_type": "code",
      "source": [
        "# выберем 4 спектра\n",
        "# print(len(am150f))\n",
        "# print(len(eg250f))\n",
        "# print(len(eth80f))\n",
        "# print(len(mol80f))\n",
        "# print(len(ace350f))\n",
        "# print(len(nap80f))\n",
        "\n",
        "# Округляем значения в столбцах \"x\" и \"y\" до двух знаков после запятой\n",
        "nap80f = nap80f[['x', 'y']].round(2)\n",
        "eg250f = eg250f[['x', 'y']].round(2)\n",
        "eth80f = eth80f[['x', 'y']].round(2)\n",
        "mol80f = mol80f[['x', 'y']].round(2)\n",
        "\n",
        "# ищем одинаковые значения X во всех файлах\n",
        "spectr1 = nap80f[nap80f['x'].eq(eg250f['x']) & nap80f['x'].eq(mol80f['x']) & nap80f['x'].eq(eth80f['x'])]\n",
        "spectr2 = eg250f[eg250f['x'].eq(nap80f['x']) & eg250f['x'].eq(mol80f['x']) & eg250f['x'].eq(eth80f['x'])]\n",
        "spectr3 = eth80f[eth80f['x'].eq(nap80f['x']) & eth80f['x'].eq(mol80f['x']) & eth80f['x'].eq(eg250f['x'])]\n",
        "spectr4 = mol80f[mol80f['x'].eq(nap80f['x']) & mol80f['x'].eq(eth80f['x']) & mol80f['x'].eq(eg250f['x'])]\n",
        "# print(spectr1)\n",
        "# print(spectr2)\n",
        "# print(spectr3)\n",
        "# print(spectr4)\n",
        "\n",
        "spectrx = spectr1['x']\n",
        "y1 = spectr1['y']\n",
        "y2 = spectr2['y']\n",
        "y3 = spectr3['y']\n",
        "y4 = spectr4['y']\n",
        "\n",
        "#формируем единый датафрейм + график\n",
        "data = pd.DataFrame({'x': spectrx, 'y1': y1, 'y2': y2, 'y3': y3, 'y4': y4})\n",
        "data.head()\n"
      ],
      "metadata": {
        "colab": {
          "base_uri": "https://localhost:8080/",
          "height": 206
        },
        "id": "ibyU696ANkHi",
        "outputId": "42d77c9b-2ae2-4cbc-f8b5-e1feb19bce5f"
      },
      "execution_count": 17,
      "outputs": [
        {
          "output_type": "execute_result",
          "data": {
            "text/plain": [
              "        x    y1    y2    y3    y4\n",
              "0  493.69  0.00  0.00 -0.02  0.01\n",
              "1  493.75  0.01 -0.02  0.00  0.02\n",
              "3  493.88 -0.06 -0.03  0.00  0.01\n",
              "4  493.94 -0.03 -0.02  0.02  0.01\n",
              "5  494.00 -0.03  0.00  0.01  0.00"
            ],
            "text/html": [
              "\n",
              "  <div id=\"df-70a0bc8a-32b8-4b8f-904c-01b7ffe11f33\" class=\"colab-df-container\">\n",
              "    <div>\n",
              "<style scoped>\n",
              "    .dataframe tbody tr th:only-of-type {\n",
              "        vertical-align: middle;\n",
              "    }\n",
              "\n",
              "    .dataframe tbody tr th {\n",
              "        vertical-align: top;\n",
              "    }\n",
              "\n",
              "    .dataframe thead th {\n",
              "        text-align: right;\n",
              "    }\n",
              "</style>\n",
              "<table border=\"1\" class=\"dataframe\">\n",
              "  <thead>\n",
              "    <tr style=\"text-align: right;\">\n",
              "      <th></th>\n",
              "      <th>x</th>\n",
              "      <th>y1</th>\n",
              "      <th>y2</th>\n",
              "      <th>y3</th>\n",
              "      <th>y4</th>\n",
              "    </tr>\n",
              "  </thead>\n",
              "  <tbody>\n",
              "    <tr>\n",
              "      <th>0</th>\n",
              "      <td>493.69</td>\n",
              "      <td>0.00</td>\n",
              "      <td>0.00</td>\n",
              "      <td>-0.02</td>\n",
              "      <td>0.01</td>\n",
              "    </tr>\n",
              "    <tr>\n",
              "      <th>1</th>\n",
              "      <td>493.75</td>\n",
              "      <td>0.01</td>\n",
              "      <td>-0.02</td>\n",
              "      <td>0.00</td>\n",
              "      <td>0.02</td>\n",
              "    </tr>\n",
              "    <tr>\n",
              "      <th>3</th>\n",
              "      <td>493.88</td>\n",
              "      <td>-0.06</td>\n",
              "      <td>-0.03</td>\n",
              "      <td>0.00</td>\n",
              "      <td>0.01</td>\n",
              "    </tr>\n",
              "    <tr>\n",
              "      <th>4</th>\n",
              "      <td>493.94</td>\n",
              "      <td>-0.03</td>\n",
              "      <td>-0.02</td>\n",
              "      <td>0.02</td>\n",
              "      <td>0.01</td>\n",
              "    </tr>\n",
              "    <tr>\n",
              "      <th>5</th>\n",
              "      <td>494.00</td>\n",
              "      <td>-0.03</td>\n",
              "      <td>0.00</td>\n",
              "      <td>0.01</td>\n",
              "      <td>0.00</td>\n",
              "    </tr>\n",
              "  </tbody>\n",
              "</table>\n",
              "</div>\n",
              "    <div class=\"colab-df-buttons\">\n",
              "\n",
              "  <div class=\"colab-df-container\">\n",
              "    <button class=\"colab-df-convert\" onclick=\"convertToInteractive('df-70a0bc8a-32b8-4b8f-904c-01b7ffe11f33')\"\n",
              "            title=\"Convert this dataframe to an interactive table.\"\n",
              "            style=\"display:none;\">\n",
              "\n",
              "  <svg xmlns=\"http://www.w3.org/2000/svg\" height=\"24px\" viewBox=\"0 -960 960 960\">\n",
              "    <path d=\"M120-120v-720h720v720H120Zm60-500h600v-160H180v160Zm220 220h160v-160H400v160Zm0 220h160v-160H400v160ZM180-400h160v-160H180v160Zm440 0h160v-160H620v160ZM180-180h160v-160H180v160Zm440 0h160v-160H620v160Z\"/>\n",
              "  </svg>\n",
              "    </button>\n",
              "\n",
              "  <style>\n",
              "    .colab-df-container {\n",
              "      display:flex;\n",
              "      gap: 12px;\n",
              "    }\n",
              "\n",
              "    .colab-df-convert {\n",
              "      background-color: #E8F0FE;\n",
              "      border: none;\n",
              "      border-radius: 50%;\n",
              "      cursor: pointer;\n",
              "      display: none;\n",
              "      fill: #1967D2;\n",
              "      height: 32px;\n",
              "      padding: 0 0 0 0;\n",
              "      width: 32px;\n",
              "    }\n",
              "\n",
              "    .colab-df-convert:hover {\n",
              "      background-color: #E2EBFA;\n",
              "      box-shadow: 0px 1px 2px rgba(60, 64, 67, 0.3), 0px 1px 3px 1px rgba(60, 64, 67, 0.15);\n",
              "      fill: #174EA6;\n",
              "    }\n",
              "\n",
              "    .colab-df-buttons div {\n",
              "      margin-bottom: 4px;\n",
              "    }\n",
              "\n",
              "    [theme=dark] .colab-df-convert {\n",
              "      background-color: #3B4455;\n",
              "      fill: #D2E3FC;\n",
              "    }\n",
              "\n",
              "    [theme=dark] .colab-df-convert:hover {\n",
              "      background-color: #434B5C;\n",
              "      box-shadow: 0px 1px 3px 1px rgba(0, 0, 0, 0.15);\n",
              "      filter: drop-shadow(0px 1px 2px rgba(0, 0, 0, 0.3));\n",
              "      fill: #FFFFFF;\n",
              "    }\n",
              "  </style>\n",
              "\n",
              "    <script>\n",
              "      const buttonEl =\n",
              "        document.querySelector('#df-70a0bc8a-32b8-4b8f-904c-01b7ffe11f33 button.colab-df-convert');\n",
              "      buttonEl.style.display =\n",
              "        google.colab.kernel.accessAllowed ? 'block' : 'none';\n",
              "\n",
              "      async function convertToInteractive(key) {\n",
              "        const element = document.querySelector('#df-70a0bc8a-32b8-4b8f-904c-01b7ffe11f33');\n",
              "        const dataTable =\n",
              "          await google.colab.kernel.invokeFunction('convertToInteractive',\n",
              "                                                    [key], {});\n",
              "        if (!dataTable) return;\n",
              "\n",
              "        const docLinkHtml = 'Like what you see? Visit the ' +\n",
              "          '<a target=\"_blank\" href=https://colab.research.google.com/notebooks/data_table.ipynb>data table notebook</a>'\n",
              "          + ' to learn more about interactive tables.';\n",
              "        element.innerHTML = '';\n",
              "        dataTable['output_type'] = 'display_data';\n",
              "        await google.colab.output.renderOutput(dataTable, element);\n",
              "        const docLink = document.createElement('div');\n",
              "        docLink.innerHTML = docLinkHtml;\n",
              "        element.appendChild(docLink);\n",
              "      }\n",
              "    </script>\n",
              "  </div>\n",
              "\n",
              "\n",
              "<div id=\"df-3d581da8-e14a-4711-a5cf-d61b58b128cf\">\n",
              "  <button class=\"colab-df-quickchart\" onclick=\"quickchart('df-3d581da8-e14a-4711-a5cf-d61b58b128cf')\"\n",
              "            title=\"Suggest charts\"\n",
              "            style=\"display:none;\">\n",
              "\n",
              "<svg xmlns=\"http://www.w3.org/2000/svg\" height=\"24px\"viewBox=\"0 0 24 24\"\n",
              "     width=\"24px\">\n",
              "    <g>\n",
              "        <path d=\"M19 3H5c-1.1 0-2 .9-2 2v14c0 1.1.9 2 2 2h14c1.1 0 2-.9 2-2V5c0-1.1-.9-2-2-2zM9 17H7v-7h2v7zm4 0h-2V7h2v10zm4 0h-2v-4h2v4z\"/>\n",
              "    </g>\n",
              "</svg>\n",
              "  </button>\n",
              "\n",
              "<style>\n",
              "  .colab-df-quickchart {\n",
              "      --bg-color: #E8F0FE;\n",
              "      --fill-color: #1967D2;\n",
              "      --hover-bg-color: #E2EBFA;\n",
              "      --hover-fill-color: #174EA6;\n",
              "      --disabled-fill-color: #AAA;\n",
              "      --disabled-bg-color: #DDD;\n",
              "  }\n",
              "\n",
              "  [theme=dark] .colab-df-quickchart {\n",
              "      --bg-color: #3B4455;\n",
              "      --fill-color: #D2E3FC;\n",
              "      --hover-bg-color: #434B5C;\n",
              "      --hover-fill-color: #FFFFFF;\n",
              "      --disabled-bg-color: #3B4455;\n",
              "      --disabled-fill-color: #666;\n",
              "  }\n",
              "\n",
              "  .colab-df-quickchart {\n",
              "    background-color: var(--bg-color);\n",
              "    border: none;\n",
              "    border-radius: 50%;\n",
              "    cursor: pointer;\n",
              "    display: none;\n",
              "    fill: var(--fill-color);\n",
              "    height: 32px;\n",
              "    padding: 0;\n",
              "    width: 32px;\n",
              "  }\n",
              "\n",
              "  .colab-df-quickchart:hover {\n",
              "    background-color: var(--hover-bg-color);\n",
              "    box-shadow: 0 1px 2px rgba(60, 64, 67, 0.3), 0 1px 3px 1px rgba(60, 64, 67, 0.15);\n",
              "    fill: var(--button-hover-fill-color);\n",
              "  }\n",
              "\n",
              "  .colab-df-quickchart-complete:disabled,\n",
              "  .colab-df-quickchart-complete:disabled:hover {\n",
              "    background-color: var(--disabled-bg-color);\n",
              "    fill: var(--disabled-fill-color);\n",
              "    box-shadow: none;\n",
              "  }\n",
              "\n",
              "  .colab-df-spinner {\n",
              "    border: 2px solid var(--fill-color);\n",
              "    border-color: transparent;\n",
              "    border-bottom-color: var(--fill-color);\n",
              "    animation:\n",
              "      spin 1s steps(1) infinite;\n",
              "  }\n",
              "\n",
              "  @keyframes spin {\n",
              "    0% {\n",
              "      border-color: transparent;\n",
              "      border-bottom-color: var(--fill-color);\n",
              "      border-left-color: var(--fill-color);\n",
              "    }\n",
              "    20% {\n",
              "      border-color: transparent;\n",
              "      border-left-color: var(--fill-color);\n",
              "      border-top-color: var(--fill-color);\n",
              "    }\n",
              "    30% {\n",
              "      border-color: transparent;\n",
              "      border-left-color: var(--fill-color);\n",
              "      border-top-color: var(--fill-color);\n",
              "      border-right-color: var(--fill-color);\n",
              "    }\n",
              "    40% {\n",
              "      border-color: transparent;\n",
              "      border-right-color: var(--fill-color);\n",
              "      border-top-color: var(--fill-color);\n",
              "    }\n",
              "    60% {\n",
              "      border-color: transparent;\n",
              "      border-right-color: var(--fill-color);\n",
              "    }\n",
              "    80% {\n",
              "      border-color: transparent;\n",
              "      border-right-color: var(--fill-color);\n",
              "      border-bottom-color: var(--fill-color);\n",
              "    }\n",
              "    90% {\n",
              "      border-color: transparent;\n",
              "      border-bottom-color: var(--fill-color);\n",
              "    }\n",
              "  }\n",
              "</style>\n",
              "\n",
              "  <script>\n",
              "    async function quickchart(key) {\n",
              "      const quickchartButtonEl =\n",
              "        document.querySelector('#' + key + ' button');\n",
              "      quickchartButtonEl.disabled = true;  // To prevent multiple clicks.\n",
              "      quickchartButtonEl.classList.add('colab-df-spinner');\n",
              "      try {\n",
              "        const charts = await google.colab.kernel.invokeFunction(\n",
              "            'suggestCharts', [key], {});\n",
              "      } catch (error) {\n",
              "        console.error('Error during call to suggestCharts:', error);\n",
              "      }\n",
              "      quickchartButtonEl.classList.remove('colab-df-spinner');\n",
              "      quickchartButtonEl.classList.add('colab-df-quickchart-complete');\n",
              "    }\n",
              "    (() => {\n",
              "      let quickchartButtonEl =\n",
              "        document.querySelector('#df-3d581da8-e14a-4711-a5cf-d61b58b128cf button');\n",
              "      quickchartButtonEl.style.display =\n",
              "        google.colab.kernel.accessAllowed ? 'block' : 'none';\n",
              "    })();\n",
              "  </script>\n",
              "</div>\n",
              "    </div>\n",
              "  </div>\n"
            ]
          },
          "metadata": {},
          "execution_count": 17
        }
      ]
    },
    {
      "cell_type": "code",
      "source": [
        "plt.scatter(spectr1['x'], y1, marker='o')\n",
        "plt.scatter(spectr2['x'], y2, marker='o')\n",
        "plt.scatter(spectr3['x'], y3, marker='o')\n",
        "plt.scatter(spectr4['x'], y4, marker='o')"
      ],
      "metadata": {
        "colab": {
          "base_uri": "https://localhost:8080/",
          "height": 451
        },
        "id": "a5ipk4d6uGNQ",
        "outputId": "b66a9d07-99f2-4d5d-9b20-a9607efb2cf0"
      },
      "execution_count": 18,
      "outputs": [
        {
          "output_type": "execute_result",
          "data": {
            "text/plain": [
              "<matplotlib.collections.PathCollection at 0x7dbc84956800>"
            ]
          },
          "metadata": {},
          "execution_count": 18
        },
        {
          "output_type": "display_data",
          "data": {
            "text/plain": [
              "<Figure size 640x480 with 1 Axes>"
            ],
            "image/png": "[encoded data removed]"
          },
          "metadata": {}
        }
      ]
    },
    {
      "cell_type": "code",
      "source": [
        "# Отсеиваем отрицательные значения и длины волн меньше 700 и больше 1200 нм\n",
        "df = data[(data['x'] > 700) & (data['x'] < 1200) &\n",
        "              (data['y1'] >= 0) &\n",
        "              (data['y2'] >= 0) &\n",
        "              (data['y3'] >= 0) &\n",
        "              (data['y4'] >= 0)]\n"
      ],
      "metadata": {
        "id": "GmtDra2JjoSu"
      },
      "execution_count": 19,
      "outputs": []
    },
    {
      "cell_type": "code",
      "source": [
        "# Рисуем новый датафрейм.\n",
        "plt.scatter(df['x'], df['y1'], marker='o')\n",
        "plt.scatter(df['x'], df['y2'], marker='o')\n",
        "plt.scatter(df['x'], df['y3'], marker='o')\n",
        "plt.scatter(df['x'], df['y4'], marker='o')"
      ],
      "metadata": {
        "colab": {
          "base_uri": "https://localhost:8080/",
          "height": 447
        },
        "id": "CuWfveSCsSxa",
        "outputId": "085d4b5d-622c-4386-a21b-4c7c16e5b34f"
      },
      "execution_count": 20,
      "outputs": [
        {
          "output_type": "execute_result",
          "data": {
            "text/plain": [
              "<matplotlib.collections.PathCollection at 0x7dbc848065c0>"
            ]
          },
          "metadata": {},
          "execution_count": 20
        },
        {
          "output_type": "display_data",
          "data": {
            "text/plain": [
              "<Figure size 640x480 with 1 Axes>"
            ],
            "image/png": "[encoded data removed]"
          },
          "metadata": {}
        }
      ]
    },
    {
      "cell_type": "code",
      "source": [
        "# Определяем с какими длинами волн будем работать\n",
        "print(df[df['y1'] == df['y1'].max()])\n",
        "print(df[df['y2'] == df['y2'].max()])\n",
        "print(df[df['y3'] == df['y3'].max()])\n",
        "print(df[df['y4'] == df['y4'].max()])"
      ],
      "metadata": {
        "colab": {
          "base_uri": "https://localhost:8080/"
        },
        "id": "mAGMOaqFvcwY",
        "outputId": "8e960c99-cbe2-4c5f-c39f-4250325a8095"
      },
      "execution_count": 21,
      "outputs": [
        {
          "output_type": "stream",
          "name": "stdout",
          "text": [
            "           x    y1   y2   y3   y4\n",
            "4631  781.78  0.02  0.0  0.0  0.0\n",
            "4632  781.84  0.02  0.0  0.0  0.0\n",
            "4635  782.03  0.02  0.0 -0.0 -0.0\n",
            "4636  782.09  0.02  0.0 -0.0  0.0\n",
            "4640  782.34  0.02  0.0  0.0  0.0\n",
            "4641  782.40  0.02  0.0  0.0  0.0\n",
            "            x   y1    y2    y3    y4\n",
            "8959  1051.02 -0.0  0.17  0.00  0.02\n",
            "8963  1051.27 -0.0  0.17  0.00  0.01\n",
            "8964  1051.33 -0.0  0.17  0.00  0.02\n",
            "8968  1051.58 -0.0  0.17  0.02  0.02\n",
            "8969  1051.64 -0.0  0.17  0.02  0.02\n",
            "8972  1051.83 -0.0  0.17  0.00  0.02\n",
            "8973  1051.89 -0.0  0.17  0.00  0.02\n",
            "8977  1052.14 -0.0  0.17 -0.00  0.03\n",
            "8978  1052.20 -0.0  0.17 -0.00  0.03\n",
            "8981  1052.39 -0.0  0.17  0.00  0.02\n",
            "8982  1052.45 -0.0  0.17  0.00  0.02\n",
            "8986  1052.70 -0.0  0.17 -0.00  0.02\n",
            "8987  1052.76 -0.0  0.17 -0.00  0.02\n",
            "8990  1052.95 -0.0  0.17  0.00  0.02\n",
            "8991  1053.01 -0.0  0.17  0.00  0.02\n",
            "8995  1053.26 -0.0  0.17  0.01  0.02\n",
            "8996  1053.32 -0.0  0.17  0.01  0.02\n",
            "9000  1053.57 -0.0  0.17  0.01  0.03\n",
            "9004  1053.82 -0.0  0.17  0.00  0.02\n",
            "9005  1053.88 -0.0  0.17  0.00  0.01\n",
            "9009  1054.13 -0.0  0.17  0.00  0.02\n",
            "9013  1054.38 -0.0  0.17 -0.00  0.02\n",
            "9014  1054.44 -0.0  0.17 -0.00  0.02\n",
            "9018  1054.69 -0.0  0.17  0.00  0.02\n",
            "9022  1054.94 -0.0  0.17  0.00  0.03\n",
            "9023  1055.00 -0.0  0.17  0.00  0.03\n",
            "9027  1055.25 -0.0  0.17  0.00  0.02\n",
            "9031  1055.50 -0.0  0.17  0.01  0.02\n",
            "9032  1055.56 -0.0  0.17  0.00  0.02\n",
            "9040  1056.06 -0.0  0.17  0.01  0.02\n",
            "           x   y1    y2    y3   y4\n",
            "7325  949.37 -0.0  0.01  0.57 -0.0\n",
            "            x   y1    y2    y3    y4\n",
            "8674  1033.29 -0.0  0.14  0.01  0.07\n"
          ]
        }
      ]
    },
    {
      "cell_type": "code",
      "source": [
        "print(df[df['y1'] == df['y1'].min()])\n",
        "print(df[df['y2'] == df['y2'].min()])\n",
        "print(df[df['y3'] == df['y3'].min()])\n",
        "print(df[df['y4'] == df['y4'].min()])"
      ],
      "metadata": {
        "colab": {
          "base_uri": "https://localhost:8080/"
        },
        "id": "rzLGJeIDwtWu",
        "outputId": "343ba03c-5fea-457b-bf86-951d3120667b"
      },
      "execution_count": 22,
      "outputs": [
        {
          "output_type": "stream",
          "name": "stdout",
          "text": [
            "             x   y1    y2   y3   y4\n",
            "3318    700.10 -0.0  0.00  0.0 -0.0\n",
            "3319    700.16 -0.0  0.00 -0.0 -0.0\n",
            "3322    700.35 -0.0  0.01 -0.0 -0.0\n",
            "3323    700.41  0.0  0.00 -0.0 -0.0\n",
            "3324    700.47 -0.0  0.00  0.0 -0.0\n",
            "...        ...  ...   ...  ...  ...\n",
            "11340  1199.14 -0.0  0.02 -0.0  0.0\n",
            "11341  1199.20 -0.0  0.02  0.0  0.0\n",
            "11345  1199.45 -0.0  0.02 -0.0  0.0\n",
            "11349  1199.70 -0.0  0.02  0.0  0.0\n",
            "11350  1199.76 -0.0  0.02  0.0  0.0\n",
            "\n",
            "[3455 rows x 5 columns]\n",
            "           x   y1   y2   y3   y4\n",
            "3318  700.10 -0.0  0.0  0.0 -0.0\n",
            "3319  700.16 -0.0  0.0 -0.0 -0.0\n",
            "3323  700.41  0.0  0.0 -0.0 -0.0\n",
            "3324  700.47 -0.0  0.0  0.0 -0.0\n",
            "3327  700.66  0.0  0.0  0.0  0.0\n",
            "...      ...  ...  ...  ...  ...\n",
            "5079  809.65 -0.0  0.0  0.0 -0.0\n",
            "5080  809.71 -0.0  0.0  0.0  0.0\n",
            "5085  810.02  0.0  0.0  0.0  0.0\n",
            "5089  810.27 -0.0  0.0 -0.0  0.0\n",
            "5097  810.77 -0.0  0.0  0.0 -0.0\n",
            "\n",
            "[942 rows x 5 columns]\n",
            "             x   y1    y2   y3   y4\n",
            "3318    700.10 -0.0  0.00  0.0 -0.0\n",
            "3319    700.16 -0.0  0.00 -0.0 -0.0\n",
            "3322    700.35 -0.0  0.01 -0.0 -0.0\n",
            "3323    700.41  0.0  0.00 -0.0 -0.0\n",
            "3324    700.47 -0.0  0.00  0.0 -0.0\n",
            "...        ...  ...   ...  ...  ...\n",
            "11340  1199.14 -0.0  0.02 -0.0  0.0\n",
            "11341  1199.20 -0.0  0.02  0.0  0.0\n",
            "11345  1199.45 -0.0  0.02 -0.0  0.0\n",
            "11349  1199.70 -0.0  0.02  0.0  0.0\n",
            "11350  1199.76 -0.0  0.02  0.0  0.0\n",
            "\n",
            "[2321 rows x 5 columns]\n",
            "             x   y1    y2   y3   y4\n",
            "3318    700.10 -0.0  0.00  0.0 -0.0\n",
            "3319    700.16 -0.0  0.00 -0.0 -0.0\n",
            "3322    700.35 -0.0  0.01 -0.0 -0.0\n",
            "3323    700.41  0.0  0.00 -0.0 -0.0\n",
            "3324    700.47 -0.0  0.00  0.0 -0.0\n",
            "...        ...  ...   ...  ...  ...\n",
            "11340  1199.14 -0.0  0.02 -0.0  0.0\n",
            "11341  1199.20 -0.0  0.02  0.0  0.0\n",
            "11345  1199.45 -0.0  0.02 -0.0  0.0\n",
            "11349  1199.70 -0.0  0.02  0.0  0.0\n",
            "11350  1199.76 -0.0  0.02  0.0  0.0\n",
            "\n",
            "[3036 rows x 5 columns]\n"
          ]
        }
      ]
    },
    {
      "cell_type": "code",
      "source": [
        "# Находим коэффициенты молярной экстинкции для выбранных длин волн\n",
        "delta1 = df[df['x'] == 782.40]\n",
        "delta2 = df[df['x'] == 1053.57]\n",
        "delta3 = df[df['x'] == 949.37]\n",
        "delta4 = df[df['x'] == 1033.29]\n",
        "delta5 = df[df['x'] == 700.35]"
      ],
      "metadata": {
        "id": "SHtU0TCnwGlL"
      },
      "execution_count": 23,
      "outputs": []
    },
    {
      "cell_type": "code",
      "source": [
        "# Составляем матрицу\n",
        "a11 = delta1['y1']\n",
        "a12 = delta1['y2']\n",
        "a13 = delta1['y3']\n",
        "a14 = delta1['y4']\n",
        "\n",
        "a21 = delta2['y1']\n",
        "a22 = delta2['y2']\n",
        "a23 = delta2['y3']\n",
        "a24 = delta2['y4']\n",
        "\n",
        "a31 = delta3['y1']\n",
        "a32 = delta3['y2']\n",
        "a33 = delta3['y3']\n",
        "a34 = delta3['y4']\n",
        "\n",
        "a41 = delta4['y1']\n",
        "a42 = delta4['y2']\n",
        "a43 = delta4['y3']\n",
        "a44 = delta4['y4']\n",
        "\n",
        "a51 = delta5['y1']\n",
        "a52 = delta5['y2']\n",
        "a53 = delta5['y3']\n",
        "a54 = delta5['y4']"
      ],
      "metadata": {
        "id": "BWEIRSSCAyDx"
      },
      "execution_count": 24,
      "outputs": []
    },
    {
      "cell_type": "code",
      "source": [
        "# Формируем матрицу А\n",
        "print(a11)\n",
        "print(a12)\n",
        "print(a13)\n",
        "print(a14)\n",
        "print()\n",
        "print()\n",
        "print(a21)\n",
        "print(a22)\n",
        "print(a23)\n",
        "print(a24)\n",
        "print()\n",
        "print()\n",
        "print(a31)\n",
        "print(a32)\n",
        "print(a33)\n",
        "print(a34)\n",
        "print()\n",
        "print()\n",
        "print(a41)\n",
        "print(a42)\n",
        "print(a43)\n",
        "print(a44)\n",
        "print()\n",
        "print()\n",
        "print(a51)\n",
        "print(a52)\n",
        "print(a53)\n",
        "print(a54)"
      ],
      "metadata": {
        "colab": {
          "base_uri": "https://localhost:8080/"
        },
        "id": "Aut46focBQs7",
        "outputId": "cffd1852-06aa-4da3-9af7-3eac2b700fb7"
      },
      "execution_count": 25,
      "outputs": [
        {
          "output_type": "stream",
          "name": "stdout",
          "text": [
            "4641    0.02\n",
            "Name: y1, dtype: float64\n",
            "4641    0.0\n",
            "Name: y2, dtype: float64\n",
            "4641    0.0\n",
            "Name: y3, dtype: float64\n",
            "4641    0.0\n",
            "Name: y4, dtype: float64\n",
            "\n",
            "\n",
            "9000   -0.0\n",
            "Name: y1, dtype: float64\n",
            "9000    0.17\n",
            "Name: y2, dtype: float64\n",
            "9000    0.01\n",
            "Name: y3, dtype: float64\n",
            "9000    0.03\n",
            "Name: y4, dtype: float64\n",
            "\n",
            "\n",
            "7325   -0.0\n",
            "Name: y1, dtype: float64\n",
            "7325    0.01\n",
            "Name: y2, dtype: float64\n",
            "7325    0.57\n",
            "Name: y3, dtype: float64\n",
            "7325   -0.0\n",
            "Name: y4, dtype: float64\n",
            "\n",
            "\n",
            "8674   -0.0\n",
            "Name: y1, dtype: float64\n",
            "8674    0.14\n",
            "Name: y2, dtype: float64\n",
            "8674    0.01\n",
            "Name: y3, dtype: float64\n",
            "8674    0.07\n",
            "Name: y4, dtype: float64\n",
            "\n",
            "\n",
            "3322   -0.0\n",
            "Name: y1, dtype: float64\n",
            "3322    0.01\n",
            "Name: y2, dtype: float64\n",
            "3322   -0.0\n",
            "Name: y3, dtype: float64\n",
            "3322   -0.0\n",
            "Name: y4, dtype: float64\n"
          ]
        }
      ]
    },
    {
      "cell_type": "code",
      "source": [
        "A = np.asarray([[0.02, 0.0, 0.0, 0.0],\n",
        "                 [0.0, 0.17, 0.01, 0.03],\n",
        "                 [0.0, 0.01, 0.57, 0.0],\n",
        "                 [0.0, 0.14, 0.01, 0.07],\n",
        "                 [0.0, 0.01, 0.0, 0.0]])\n",
        "print(A)\n",
        "A.shape"
      ],
      "metadata": {
        "colab": {
          "base_uri": "https://localhost:8080/"
        },
        "id": "2Cs48RsLBduK",
        "outputId": "b76eaff2-39be-4b75-cc25-6669654fd130"
      },
      "execution_count": 26,
      "outputs": [
        {
          "output_type": "stream",
          "name": "stdout",
          "text": [
            "[[0.02 0.   0.   0.  ]\n",
            " [0.   0.17 0.01 0.03]\n",
            " [0.   0.01 0.57 0.  ]\n",
            " [0.   0.14 0.01 0.07]\n",
            " [0.   0.01 0.   0.  ]]\n"
          ]
        },
        {
          "output_type": "execute_result",
          "data": {
            "text/plain": [
              "(5, 4)"
            ]
          },
          "metadata": {},
          "execution_count": 26
        }
      ]
    },
    {
      "cell_type": "code",
      "source": [
        "# Задаем концентрации\n",
        "x1 = 0.14\n",
        "x2 = 0.07\n",
        "x3 = 0.5\n",
        "x4 = 0.03"
      ],
      "metadata": {
        "id": "XtLBF_M_CS0C"
      },
      "execution_count": 27,
      "outputs": []
    },
    {
      "cell_type": "code",
      "source": [
        "x = np.asarray([[x1],\n",
        "                [x2],\n",
        "                [x3],\n",
        "                [x4]])\n",
        "print(x)\n",
        "x.shape"
      ],
      "metadata": {
        "colab": {
          "base_uri": "https://localhost:8080/"
        },
        "id": "BYa-tS1iDL1c",
        "outputId": "b7986492-5fbd-45bf-cacb-ddf3bbcb8a0c"
      },
      "execution_count": 28,
      "outputs": [
        {
          "output_type": "stream",
          "name": "stdout",
          "text": [
            "[[0.14]\n",
            " [0.07]\n",
            " [0.5 ]\n",
            " [0.03]]\n"
          ]
        },
        {
          "output_type": "execute_result",
          "data": {
            "text/plain": [
              "(4, 1)"
            ]
          },
          "metadata": {},
          "execution_count": 28
        }
      ]
    },
    {
      "cell_type": "code",
      "source": [
        "# Вычисляем оптические плотности растворов при заявленных концентрациях веществ\n",
        "b = np.matmul(A, x)\n",
        "print(b)"
      ],
      "metadata": {
        "colab": {
          "base_uri": "https://localhost:8080/"
        },
        "id": "f49l4vSQDY8i",
        "outputId": "ef6dcbb5-311e-421c-814f-d2bac68d1bed"
      },
      "execution_count": 29,
      "outputs": [
        {
          "output_type": "stream",
          "name": "stdout",
          "text": [
            "[[0.0028]\n",
            " [0.0178]\n",
            " [0.2857]\n",
            " [0.0169]\n",
            " [0.0007]]\n"
          ]
        }
      ]
    },
    {
      "cell_type": "code",
      "source": [
        "# Находим рассчитанные значения коцентраций по оптическим плотностям растворов\n",
        "x_rasch = np.matmul(np.linalg.inv(np.matmul(np.transpose(A), A)), np.matmul(np.transpose(A), b))\n",
        "print(x_rasch)"
      ],
      "metadata": {
        "colab": {
          "base_uri": "https://localhost:8080/"
        },
        "id": "g3KNU79ADdza",
        "outputId": "54703b5f-d26d-47fb-9d58-a2c0236c811f"
      },
      "execution_count": 30,
      "outputs": [
        {
          "output_type": "stream",
          "name": "stdout",
          "text": [
            "[[0.14]\n",
            " [0.07]\n",
            " [0.5 ]\n",
            " [0.03]]\n"
          ]
        }
      ]
    },
    {
      "cell_type": "code",
      "source": [
        "# Невязка\n",
        "difference1 = np.array((x1 - x_rasch) * 100)\n",
        "difference2 = np.array((x2 - x_rasch) * 100)\n",
        "difference3 = np.array((x3 - x_rasch) * 100)\n",
        "difference4 = np.array((x4 - x_rasch) * 100)\n",
        "print(difference1)\n",
        "print(difference2)\n",
        "print(difference3)\n",
        "print(difference4)"
      ],
      "metadata": {
        "colab": {
          "base_uri": "https://localhost:8080/"
        },
        "id": "Dch4AaFnDvWI",
        "outputId": "534689e8-9ca2-4773-9bf3-ef06611a43cc"
      },
      "execution_count": 31,
      "outputs": [
        {
          "output_type": "stream",
          "name": "stdout",
          "text": [
            "[[  0.]\n",
            " [  7.]\n",
            " [-36.]\n",
            " [ 11.]]\n",
            "[[-7.00000000e+00]\n",
            " [ 5.55111512e-15]\n",
            " [-4.30000000e+01]\n",
            " [ 4.00000000e+00]]\n",
            "[[3.60000000e+01]\n",
            " [4.30000000e+01]\n",
            " [5.55111512e-15]\n",
            " [4.70000000e+01]]\n",
            "[[-1.10000000e+01]\n",
            " [-4.00000000e+00]\n",
            " [-4.70000000e+01]\n",
            " [ 8.32667268e-15]]\n"
          ]
        }
      ]
    },
    {
      "cell_type": "code",
      "source": [
        "print('Значения невязки в % для x1 =', float(difference1[0]), ', для x2 =', float(difference2[1]), ', для x3 =', float(difference3[2]), ', для x4 =', float(difference4[3]))"
      ],
      "metadata": {
        "colab": {
          "base_uri": "https://localhost:8080/"
        },
        "id": "vKDR-UESH5mO",
        "outputId": "c906a6bb-1d73-4c09-83d7-08a9e3ad2c3c"
      },
      "execution_count": 32,
      "outputs": [
        {
          "output_type": "stream",
          "name": "stdout",
          "text": [
            "Значения невязки в % для x1 = 0.0 , для x2 = 5.551115123125783e-15 , для x3 = 5.551115123125783e-15 , для x4 = 8.326672684688674e-15\n"
          ]
        }
      ]
    }
  ],
  "metadata": {
    "colab": {
      "provenance": []
    },
    "kernelspec": {
      "display_name": "Python 3",
      "name": "python3"
    },
    "language_info": {
      "name": "python"
    }
  },
  "nbformat": 4,
  "nbformat_minor": 0
}