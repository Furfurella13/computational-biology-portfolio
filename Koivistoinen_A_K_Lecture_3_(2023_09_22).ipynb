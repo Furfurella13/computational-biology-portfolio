{
  "cells": [
    {
      "cell_type": "markdown",
      "metadata": {
        "id": "9ra5xMzipteq"
      },
      "source": [
        "# Lecture 3: Loops\n",
        "\n",
        "Loops are important in Python or in any other programming language as they help us to execute a block of code repeatedly.\n",
        "\n",
        "We will often come face to face with situations where we would need to use a piece of code over and over but we don't want to write the same line of code multiple times."
      ]
    },
    {
      "cell_type": "markdown",
      "metadata": {
        "id": "jBIAaeZYpte5"
      },
      "source": [
        "## Exercises"
      ]
    },
    {
      "cell_type": "code",
      "execution_count": null,
      "metadata": {
        "id": "lxY7RZqvpte5"
      },
      "outputs": [],
      "source": [
        "\"\"\"\n",
        "Exercise (Hard): Robot Return to Origin.\n",
        "\n",
        "There is a robot starting at the position (0, 0), the origin, on a 2D plane.\n",
        "Given a sequence of its moves, judge if this robot ends up at (0, 0) after it completes its moves.\n",
        "\n",
        "You are given a string moves that represents the move sequence of the robot\n",
        "where moves[i] represents its ith move.\n",
        "\n",
        "Valid moves are 'R' (right), 'L' (left), 'U' (up), and 'D' (down).\n",
        "\n",
        "Return True if the robot returns to the origin after it finishes all of its moves, or False otherwise.\n",
        "\n",
        "Note: The way that the robot is \"facing\" is irrelevant.\n",
        "'R' will always make the robot move to the right once,\n",
        "'L' will always make it move left, etc.\n",
        "Also, assume that the magnitude of the robot's movement is the same for each move.\n",
        "\n",
        "EXAMPLE 1:\n",
        "Input: moves = \"UD\"\n",
        "Output: True\n",
        "Explanation: The robot moves up once, and then down once.\n",
        "All moves have the same magnitude, so it ended up at the origin where it started.\n",
        "Therefore, we return True.\n",
        "\n",
        "EXAMPLE 2:\n",
        "Input: moves = \"LL\"\n",
        "Output: False\n",
        "Explanation: The robot moves left twice.\n",
        "It ends up two \"moves\" to the left of the origin.\n",
        "We return False because it is not at the origin at the end of its moves.\n",
        "\n",
        "EXAMPLE 3:\n",
        "Input: moves = \"RRDD\"\n",
        "Output: False\n",
        "\n",
        "EXAMPLE 4:\n",
        "Input: moves = \"LDRRLRUULR\"\n",
        "Output: False\n",
        "\n",
        "Keywords: list, string, for, if, elif, else!\n",
        "\"\"\"\n",
        "\n",
        "print()"
      ]
    },
    {
      "cell_type": "markdown",
      "source": [
        "Solution"
      ],
      "metadata": {
        "id": "4fCZvn-GjGYi"
      }
    },
    {
      "cell_type": "code",
      "execution_count": null,
      "metadata": {
        "id": "BPopjmwzpte5"
      },
      "outputs": [],
      "source": [
        "def RobotReturn(moves):\n",
        "  x, y = 0, 0 #robot starting position\n",
        "  if move == 'U':\n",
        "    y += 1\n",
        "  elif move == 'D':\n",
        "    y -= 1\n",
        "  elif move == 'L':\n",
        "    x -= 1\n",
        "  elif move == 'R':\n",
        "    x += 1\n",
        "  return x == 0 and y == 0\n",
        "  print(RobotReturn(\"UD\"))\n",
        "  print(RobotReturn(\"LL\"))"
      ]
    }
  ],
  "metadata": {
    "kernelspec": {
      "display_name": "Python 3 (ipykernel)",
      "language": "python",
      "name": "python3"
    },
    "language_info": {
      "codemirror_mode": {
        "name": "ipython",
        "version": 3
      },
      "file_extension": ".py",
      "mimetype": "text/x-python",
      "name": "python",
      "nbconvert_exporter": "python",
      "pygments_lexer": "ipython3",
      "version": "3.9.12"
    },
    "colab": {
      "provenance": []
    }
  },
  "nbformat": 4,
  "nbformat_minor": 0
}