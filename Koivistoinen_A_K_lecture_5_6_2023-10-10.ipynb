{
 "cells": [
  {
   "cell_type": "markdown",
   "metadata": {},
   "source": [
    "# Lecture 5-6: String"
   ]
  },
  {
   "cell_type": "markdown",
   "metadata": {},
   "source": [
    "### Exercises"
   ]
  },
  {
   "cell_type": "code",
   "execution_count": null,
   "metadata": {},
   "outputs": [],
   "source": [
    "# 1. What will be the output of the program?\n",
    "\n",
    "s = 'abcdefg'\n",
    "print(s[0] + s[2] + s[4] + s[6])"
   ]
  },
  {
   "cell_type": "code",
   "execution_count": null,
   "metadata": {},
   "outputs": [],
   "source": [
    "# 2. What will be the output of the program?\n",
    "\n",
    "s = 'abcdefg'\n",
    "print(s[0] * 3 + s[-1] * 3 + s[3] * 2 + s[3] * 2)"
   ]
  },
  {
   "cell_type": "code",
   "execution_count": null,
   "metadata": {},
   "outputs": [],
   "source": [
    "# 3. The program should output the comma (\",\"). Select index.\n",
    "s = \"In 2010, someone paid 10k Bitcoin for two pizzas.\"\n",
    "\n",
    "print(s[7])"
   ]
  },
  {
   "cell_type": "code",
   "execution_count": null,
   "metadata": {},
   "outputs": [],
   "source": [
    "# 4. What will be the output of the program?\n",
    "\n",
    "s = 'abcdefg'\n",
    "print(s[2:5])"
   ]
  },
  {
   "cell_type": "code",
   "execution_count": null,
   "metadata": {},
   "outputs": [],
   "source": [
    "# 5. What will be the output of the program?\n",
    "\n",
    "s = 'abcdefg'\n",
    "print(s[3:])"
   ]
  },
  {
   "cell_type": "code",
   "execution_count": null,
   "metadata": {},
   "outputs": [],
   "source": [
    "# 6. What will be the output of the program?\n",
    "\n",
    "s = 'abcdefg'\n",
    "print(s[:3])"
   ]
  },
  {
   "cell_type": "code",
   "execution_count": null,
   "metadata": {},
   "outputs": [],
   "source": [
    "# 7. What will be the output of the program?\n",
    "\n",
    "s = 'abcdefg'\n",
    "print(s[:])"
   ]
  },
  {
   "cell_type": "code",
   "execution_count": null,
   "metadata": {},
   "outputs": [],
   "source": []
  },
  {
   "cell_type": "code",
   "execution_count": null,
   "metadata": {},
   "outputs": [],
   "source": [
    "# 1108. Defanging an IP Address\n",
    "\n",
    "# input\n",
    "address = \"255.100.50.0\"\n",
    "\n",
    "# solution\n",
    "print(address.replace(\".\", \"[.]\"))"
   ]
  },
  {
   "cell_type": "markdown",
   "metadata": {},
   "source": [
    "Solution"
   ]
  },
  {
   "cell_type": "code",
   "execution_count": 6,
   "metadata": {},
   "outputs": [
    {
     "name": "stdout",
     "output_type": "stream",
     "text": [
      "2\n"
     ]
    }
   ],
   "source": [
    "#Final Value of Variable After Performing Operations (LeetCode: 2011)\n",
    "#https://leetcode.com/problems/final-value-of-variable-after-performing-operations/\n",
    "operations =[\"--X\", \"X++\", \"X++\"]\n",
    "x=0\n",
    "for operation in operations:\n",
    "    if operation ==\"X--\" or x==\"--X\":\n",
    "        x-=1\n",
    "    elif operation == \"++X\" or operation == \"X++\":\n",
    "            x+=1\n",
    "print(x)"
   ]
  },
  {
   "cell_type": "code",
   "execution_count": 7,
   "metadata": {},
   "outputs": [
    {
     "name": "stdout",
     "output_type": "stream",
     "text": [
      "6\n"
     ]
    }
   ],
   "source": [
    "#Maximum Number of Words Found in Sentences (LeetCode: 2114)\n",
    "#https://leetcode.com/problems/maximum-number-of-words-found-in-sentences/\n",
    "sentences = [\"alice and bob love leetcode\", \"i think so too\", \"this is great thanks very much\"]\n",
    "max_words = 0\n",
    "for sentence in sentences:\n",
    "    words = sentence.split()\n",
    "    word_count = len(words)\n",
    "    if word_count > max_words:\n",
    "        max_words = word_count\n",
    "print(max_words)"
   ]
  },
  {
   "cell_type": "code",
   "execution_count": 10,
   "metadata": {},
   "outputs": [
    {
     "name": "stdout",
     "output_type": "stream",
     "text": [
      "3\n"
     ]
    }
   ],
   "source": [
    "#Jewels and Stones (LeetCode : 771)\n",
    "#https://leetcode.com/problems/jewels-and-stones/description/\n",
    "jewels = \"aA\"\n",
    "stones = \"aAAbbbb\"\n",
    "count = 0\n",
    "for stone in stones:\n",
    "    if stone in jewels:\n",
    "        count += 1\n",
    "print(count)"
   ]
  },
  {
   "cell_type": "code",
   "execution_count": 11,
   "metadata": {},
   "outputs": [
    {
     "name": "stdout",
     "output_type": "stream",
     "text": [
      "Hello how are you\n"
     ]
    }
   ],
   "source": [
    "#Truncate Sentence (LeetCode: 1816)\n",
    "#https://leetcode.com/problems/truncate-sentence/description/\n",
    "s = \"Hello how are you Contestant\"\n",
    "k = 4\n",
    "words = s.split()\n",
    "truncated_words = words[:k]\n",
    "truncated_sentence = ' '.join(truncated_words)\n",
    "print(truncated_sentence)"
   ]
  }
 ],
 "metadata": {
  "kernelspec": {
   "display_name": "Python 3 (ipykernel)",
   "language": "python",
   "name": "python3"
  },
  "language_info": {
   "codemirror_mode": {
    "name": "ipython",
    "version": 3
   },
   "file_extension": ".py",
   "mimetype": "text/x-python",
   "name": "python",
   "nbconvert_exporter": "python",
   "pygments_lexer": "ipython3",
   "version": "3.9.13"
  }
 },
 "nbformat": 4,
 "nbformat_minor": 2
}
